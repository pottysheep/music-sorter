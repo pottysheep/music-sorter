{
 "cells": [
  {
   "cell_type": "markdown",
   "metadata": {},
   "source": [
    "# Audio Classification EDA & Clustering Analysis\n",
    "\n",
    "This notebook explores audio features and performs clustering to identify natural groupings that can distinguish between:\n",
    "- **Samples**: Short audio clips for music production\n",
    "- **Stems**: Individual components of songs (vocals, drums, etc.)\n",
    "- **Songs**: Complete tracks suitable for DJ'ing\n"
   ]
  },
  {
   "cell_type": "code",
   "execution_count": 1,
   "metadata": {},
   "outputs": [
    {
     "name": "stdout",
     "output_type": "stream",
     "text": [
      "Libraries loaded successfully!\n",
      "PyTorch version: 2.8.0+cpu\n",
      "CUDA available: False\n"
     ]
    }
   ],
   "source": [
    "# Core imports\n",
    "import numpy as np\n",
    "import pandas as pd\n",
    "import torch\n",
    "import torch.nn as nn\n",
    "import torch.nn.functional as F\n",
    "from pathlib import Path\n",
    "import logging\n",
    "import warnings\n",
    "warnings.filterwarnings('ignore')\n",
    "\n",
    "# Data processing\n",
    "from sklearn.preprocessing import StandardScaler, MinMaxScaler\n",
    "from sklearn.decomposition import PCA\n",
    "from sklearn.manifold import TSNE\n",
    "from sklearn.cluster import KMeans, DBSCAN, AgglomerativeClustering\n",
    "from sklearn.metrics import silhouette_score, davies_bouldin_score, calinski_harabasz_score\n",
    "import umap\n",
    "\n",
    "# Visualization\n",
    "import matplotlib.pyplot as plt\n",
    "import seaborn as sns\n",
    "import plotly.express as px\n",
    "import plotly.graph_objects as go\n",
    "from plotly.subplots import make_subplots\n",
    "\n",
    "# Audio processing\n",
    "import librosa\n",
    "import librosa.display\n",
    "\n",
    "# Database\n",
    "import sqlite3\n",
    "from sqlalchemy import create_engine\n",
    "\n",
    "# Custom modules\n",
    "import sys\n",
    "sys.path.append('..')\n",
    "from feature_extraction import FeatureExtractor, extract_features_batch\n",
    "from database.db import db_manager\n",
    "from database.models import File, Metadata, Migration\n",
    "\n",
    "# Set up logging\n",
    "logging.basicConfig(level=logging.INFO, format='%(asctime)s - %(levelname)s - %(message)s')\n",
    "logger = logging.getLogger(__name__)\n",
    "\n",
    "# Set style\n",
    "plt.style.use('seaborn-v0_8-darkgrid')\n",
    "sns.set_palette(\"husl\")\n",
    "\n",
    "print(\"Libraries loaded successfully!\")\n",
    "print(f\"PyTorch version: {torch.__version__}\")\n",
    "print(f\"CUDA available: {torch.cuda.is_available()}\")"
   ]
  },
  {
   "cell_type": "markdown",
   "metadata": {},
   "source": [
    "## 1. Data Preparation\n",
    "\n",
    "First, run the data preparation script to scan, deduplicate, and migrate files:"
   ]
  },
  {
   "cell_type": "code",
   "execution_count": 2,
   "metadata": {},
   "outputs": [
    {
     "name": "stderr",
     "output_type": "stream",
     "text": [
      "2025-09-05 10:41:20,154 - INFO - ============================================================\n",
      "2025-09-05 10:41:20,155 - INFO - STARTING EDA DATA PREPARATION\n",
      "2025-09-05 10:41:20,156 - INFO - Source: D:\\OLD OLD Backups\\Music\\ALL MUSIC\n",
      "2025-09-05 10:41:20,157 - INFO - Target: F:\\data_test\n",
      "2025-09-05 10:41:20,158 - INFO - ============================================================\n",
      "2025-09-05 10:41:20,159 - INFO - Resetting database...\n",
      "2025-09-05 10:41:20,280 - INFO - Database reset complete\n",
      "2025-09-05 10:41:20,282 - INFO - Database reset complete\n",
      "2025-09-05 10:41:20,282 - INFO - \n",
      "=== PHASE 1: SCANNING ===\n",
      "2025-09-05 10:41:20,283 - INFO - Estimating file count in D:\\OLD OLD Backups\\Music\\ALL MUSIC...\n"
     ]
    },
    {
     "name": "stdout",
     "output_type": "stream",
     "text": [
      "Source directory: D:\\OLD OLD Backups\\Music\\ALL MUSIC\n",
      "Target directory: F:\\data_test\n",
      "Reset database: True\n",
      "\n",
      "Starting data preparation...\n",
      "\n"
     ]
    },
    {
     "name": "stderr",
     "output_type": "stream",
     "text": [
      "2025-09-05 10:41:27,907 - INFO - Found approximately 15326 audio files (23.16 GB)\n",
      "2025-09-05 10:41:33,780 - INFO - Scan progress: 100/15326\n",
      "2025-09-05 10:41:40,011 - INFO - Scan progress: 200/15326\n",
      "2025-09-05 10:41:45,863 - INFO - Scan progress: 300/15326\n",
      "2025-09-05 10:41:51,225 - INFO - Scan progress: 400/15326\n",
      "2025-09-05 10:41:56,962 - INFO - Scan progress: 500/15326\n",
      "2025-09-05 10:42:03,235 - INFO - Scan progress: 600/15326\n",
      "2025-09-05 10:42:09,682 - INFO - Scan progress: 700/15326\n",
      "2025-09-05 10:42:13,326 - INFO - Scan progress: 800/15326\n",
      "2025-09-05 10:42:13,635 - INFO - Scan progress: 900/15326\n",
      "2025-09-05 10:42:13,911 - INFO - Scan progress: 1000/15326\n",
      "2025-09-05 10:42:14,212 - INFO - Scan progress: 1100/15326\n",
      "2025-09-05 10:42:14,493 - INFO - Scan progress: 1200/15326\n",
      "2025-09-05 10:42:16,648 - INFO - Scan progress: 1300/15326\n",
      "2025-09-05 10:42:21,679 - INFO - Scan progress: 1400/15326\n",
      "2025-09-05 10:42:27,306 - INFO - Scan progress: 1500/15326\n",
      "2025-09-05 10:42:33,338 - INFO - Scan progress: 1600/15326\n",
      "2025-09-05 10:42:37,293 - INFO - Scan progress: 1700/15326\n",
      "2025-09-05 10:42:38,946 - INFO - Scan progress: 1800/15326\n",
      "2025-09-05 10:42:41,509 - INFO - Scan progress: 1900/15326\n",
      "2025-09-05 10:42:43,558 - INFO - Scan progress: 2000/15326\n",
      "2025-09-05 10:42:46,221 - INFO - Scan progress: 2100/15326\n",
      "2025-09-05 10:42:49,319 - INFO - Scan progress: 2200/15326\n",
      "2025-09-05 10:42:52,439 - INFO - Scan progress: 2300/15326\n",
      "2025-09-05 10:42:55,457 - INFO - Scan progress: 2400/15326\n",
      "2025-09-05 10:42:57,153 - INFO - Scan progress: 2500/15326\n",
      "2025-09-05 10:42:58,769 - INFO - Scan progress: 2600/15326\n",
      "2025-09-05 10:43:00,802 - INFO - Scan progress: 2700/15326\n",
      "2025-09-05 10:43:02,215 - INFO - Scan progress: 2800/15326\n",
      "2025-09-05 10:43:03,284 - INFO - Scan progress: 2900/15326\n",
      "2025-09-05 10:43:05,241 - INFO - Scan progress: 3000/15326\n",
      "2025-09-05 10:43:07,244 - INFO - Scan progress: 3100/15326\n",
      "2025-09-05 10:43:08,932 - INFO - Scan progress: 3200/15326\n",
      "2025-09-05 10:43:09,937 - INFO - Scan progress: 3300/15326\n",
      "2025-09-05 10:43:11,136 - INFO - Scan progress: 3400/15326\n",
      "2025-09-05 10:43:12,176 - INFO - Scan progress: 3500/15326\n",
      "2025-09-05 10:43:13,673 - INFO - Scan progress: 3600/15326\n",
      "2025-09-05 10:43:15,216 - INFO - Scan progress: 3700/15326\n",
      "2025-09-05 10:43:16,514 - INFO - Scan progress: 3800/15326\n",
      "2025-09-05 10:43:17,718 - INFO - Scan progress: 3900/15326\n",
      "2025-09-05 10:43:19,008 - INFO - Scan progress: 4000/15326\n",
      "2025-09-05 10:43:20,752 - INFO - Scan progress: 4100/15326\n",
      "2025-09-05 10:43:23,509 - INFO - Scan progress: 4200/15326\n",
      "2025-09-05 10:43:25,571 - INFO - Scan progress: 4300/15326\n",
      "2025-09-05 10:43:26,970 - INFO - Scan progress: 4400/15326\n",
      "2025-09-05 10:43:28,276 - INFO - Scan progress: 4500/15326\n",
      "2025-09-05 10:43:29,731 - INFO - Scan progress: 4600/15326\n",
      "2025-09-05 10:43:31,067 - INFO - Scan progress: 4700/15326\n",
      "2025-09-05 10:43:31,946 - INFO - Scan progress: 4800/15326\n",
      "2025-09-05 10:43:32,772 - INFO - Scan progress: 4900/15326\n",
      "2025-09-05 10:43:33,835 - INFO - Scan progress: 5000/15326\n",
      "2025-09-05 10:43:34,610 - INFO - Scan progress: 5100/15326\n",
      "2025-09-05 10:43:35,308 - INFO - Scan progress: 5200/15326\n",
      "2025-09-05 10:43:36,674 - INFO - Scan progress: 5300/15326\n",
      "2025-09-05 10:43:38,199 - INFO - Scan progress: 5400/15326\n",
      "2025-09-05 10:43:39,901 - INFO - Scan progress: 5500/15326\n",
      "2025-09-05 10:43:41,279 - INFO - Scan progress: 5600/15326\n",
      "2025-09-05 10:43:42,485 - INFO - Scan progress: 5700/15326\n",
      "2025-09-05 10:43:43,907 - INFO - Scan progress: 5800/15326\n",
      "2025-09-05 10:43:45,709 - INFO - Scan progress: 5900/15326\n",
      "2025-09-05 10:43:47,129 - INFO - Scan progress: 6000/15326\n",
      "2025-09-05 10:43:48,140 - INFO - Scan progress: 6100/15326\n",
      "2025-09-05 10:43:49,104 - INFO - Scan progress: 6200/15326\n",
      "2025-09-05 10:43:50,072 - INFO - Scan progress: 6300/15326\n",
      "2025-09-05 10:43:50,923 - INFO - Scan progress: 6400/15326\n",
      "2025-09-05 10:43:51,956 - INFO - Scan progress: 6500/15326\n",
      "2025-09-05 10:43:53,020 - INFO - Scan progress: 6600/15326\n",
      "2025-09-05 10:43:53,932 - INFO - Scan progress: 6700/15326\n",
      "2025-09-05 10:43:54,546 - INFO - Scan progress: 6800/15326\n",
      "2025-09-05 10:43:55,491 - INFO - Scan progress: 6900/15326\n",
      "2025-09-05 10:43:56,368 - INFO - Scan progress: 7000/15326\n",
      "2025-09-05 10:43:57,269 - INFO - Scan progress: 7100/15326\n",
      "2025-09-05 10:43:58,750 - INFO - Scan progress: 7200/15326\n",
      "2025-09-05 10:44:01,506 - INFO - Scan progress: 7300/15326\n",
      "2025-09-05 10:44:03,421 - INFO - Scan progress: 7400/15326\n",
      "2025-09-05 10:44:04,870 - INFO - Scan progress: 7500/15326\n",
      "2025-09-05 10:44:06,474 - INFO - Scan progress: 7600/15326\n",
      "2025-09-05 10:44:07,943 - INFO - Scan progress: 7700/15326\n",
      "2025-09-05 10:44:09,470 - INFO - Scan progress: 7800/15326\n",
      "2025-09-05 10:44:11,338 - INFO - Scan progress: 7900/15326\n",
      "2025-09-05 10:44:12,903 - INFO - Scan progress: 8000/15326\n",
      "2025-09-05 10:44:14,787 - INFO - Scan progress: 8100/15326\n",
      "2025-09-05 10:44:15,977 - INFO - Scan progress: 8200/15326\n",
      "2025-09-05 10:44:17,699 - INFO - Scan progress: 8300/15326\n",
      "2025-09-05 10:44:19,365 - INFO - Scan progress: 8400/15326\n",
      "2025-09-05 10:44:20,870 - INFO - Scan progress: 8500/15326\n",
      "2025-09-05 10:44:22,590 - INFO - Scan progress: 8600/15326\n",
      "2025-09-05 10:44:24,384 - INFO - Scan progress: 8700/15326\n",
      "2025-09-05 10:44:25,872 - INFO - Scan progress: 8800/15326\n",
      "2025-09-05 10:44:27,578 - INFO - Scan progress: 8900/15326\n",
      "2025-09-05 10:44:29,197 - INFO - Scan progress: 9000/15326\n",
      "2025-09-05 10:44:30,860 - INFO - Scan progress: 9100/15326\n",
      "2025-09-05 10:44:33,061 - INFO - Scan progress: 9200/15326\n",
      "2025-09-05 10:44:34,990 - INFO - Scan progress: 9300/15326\n",
      "2025-09-05 10:44:37,019 - INFO - Scan progress: 9400/15326\n",
      "2025-09-05 10:44:38,667 - INFO - Scan progress: 9500/15326\n",
      "2025-09-05 10:44:40,117 - INFO - Scan progress: 9600/15326\n",
      "2025-09-05 10:44:41,211 - INFO - Scan progress: 9700/15326\n",
      "2025-09-05 10:44:42,494 - INFO - Scan progress: 9800/15326\n",
      "2025-09-05 10:44:43,966 - INFO - Scan progress: 9900/15326\n",
      "2025-09-05 10:44:46,147 - INFO - Scan progress: 10000/15326\n",
      "2025-09-05 10:44:47,658 - INFO - Scan progress: 10100/15326\n",
      "2025-09-05 10:44:48,953 - INFO - Scan progress: 10200/15326\n",
      "2025-09-05 10:44:50,082 - INFO - Scan progress: 10300/15326\n",
      "2025-09-05 10:44:51,199 - INFO - Scan progress: 10400/15326\n",
      "2025-09-05 10:44:52,689 - INFO - Scan progress: 10500/15326\n",
      "2025-09-05 10:44:55,299 - INFO - Scan progress: 10600/15326\n",
      "2025-09-05 10:44:57,918 - INFO - Scan progress: 10700/15326\n",
      "2025-09-05 10:45:00,758 - INFO - Scan progress: 10800/15326\n",
      "2025-09-05 10:45:03,035 - INFO - Scan progress: 10900/15326\n",
      "2025-09-05 10:45:04,894 - INFO - Scan progress: 11000/15326\n",
      "2025-09-05 10:45:07,486 - INFO - Scan progress: 11100/15326\n",
      "2025-09-05 10:45:10,610 - INFO - Scan progress: 11200/15326\n",
      "2025-09-05 10:45:12,485 - INFO - Scan progress: 11300/15326\n",
      "2025-09-05 10:45:14,257 - INFO - Scan progress: 11400/15326\n",
      "2025-09-05 10:45:15,296 - INFO - Scan progress: 11500/15326\n",
      "2025-09-05 10:45:16,419 - INFO - Scan progress: 11600/15326\n",
      "2025-09-05 10:45:17,715 - INFO - Scan progress: 11700/15326\n",
      "2025-09-05 10:45:20,356 - INFO - Scan progress: 11800/15326\n",
      "2025-09-05 10:45:21,875 - INFO - Scan progress: 11900/15326\n",
      "2025-09-05 10:45:23,611 - INFO - Scan progress: 12000/15326\n",
      "2025-09-05 10:45:25,554 - INFO - Scan progress: 12100/15326\n",
      "2025-09-05 10:45:26,838 - INFO - Scan progress: 12200/15326\n",
      "2025-09-05 10:45:28,828 - INFO - Scan progress: 12300/15326\n",
      "2025-09-05 10:45:29,824 - INFO - Scan progress: 12400/15326\n",
      "2025-09-05 10:45:31,616 - INFO - Scan progress: 12500/15326\n",
      "2025-09-05 10:45:33,024 - INFO - Scan progress: 12600/15326\n",
      "2025-09-05 10:45:34,138 - INFO - Scan progress: 12700/15326\n",
      "2025-09-05 10:45:35,259 - INFO - Scan progress: 12800/15326\n",
      "2025-09-05 10:45:36,528 - INFO - Scan progress: 12900/15326\n",
      "2025-09-05 10:45:39,373 - INFO - Scan progress: 13000/15326\n",
      "2025-09-05 10:45:42,091 - INFO - Scan progress: 13100/15326\n",
      "2025-09-05 10:45:44,734 - INFO - Scan progress: 13200/15326\n",
      "2025-09-05 10:45:46,950 - INFO - Scan progress: 13300/15326\n",
      "2025-09-05 10:45:49,390 - INFO - Scan progress: 13400/15326\n",
      "2025-09-05 10:45:54,180 - INFO - Scan progress: 13500/15326\n",
      "2025-09-05 10:45:57,939 - INFO - Scan progress: 13600/15326\n",
      "2025-09-05 10:46:02,657 - INFO - Scan progress: 13700/15326\n",
      "2025-09-05 10:46:07,378 - INFO - Scan progress: 13800/15326\n",
      "2025-09-05 10:46:12,025 - INFO - Scan progress: 13900/15326\n",
      "2025-09-05 10:46:16,614 - INFO - Scan progress: 14000/15326\n",
      "2025-09-05 10:46:21,487 - INFO - Scan progress: 14100/15326\n",
      "2025-09-05 10:46:26,532 - INFO - Scan progress: 14200/15326\n",
      "2025-09-05 10:46:31,046 - INFO - Scan progress: 14300/15326\n",
      "2025-09-05 10:46:35,447 - INFO - Scan progress: 14400/15326\n",
      "2025-09-05 10:46:41,901 - INFO - Scan progress: 14500/15326\n",
      "2025-09-05 10:46:46,193 - INFO - Scan progress: 14600/15326\n",
      "2025-09-05 10:46:52,017 - INFO - Scan progress: 14700/15326\n",
      "2025-09-05 10:46:57,433 - INFO - Scan progress: 14800/15326\n",
      "2025-09-05 10:47:02,876 - INFO - Scan progress: 14900/15326\n",
      "2025-09-05 10:47:08,365 - INFO - Scan progress: 15000/15326\n",
      "2025-09-05 10:47:13,399 - INFO - Scan progress: 15100/15326\n",
      "2025-09-05 10:47:18,676 - INFO - Scan progress: 15200/15326\n",
      "2025-09-05 10:47:24,334 - INFO - Scan progress: 15300/15326\n",
      "2025-09-05 10:47:25,682 - INFO - Scan complete: 15326 files indexed\n",
      "2025-09-05 10:47:25,683 - INFO - \n",
      "=== PHASE 2: METADATA EXTRACTION ===\n",
      "2025-09-05 10:47:25,684 - INFO - Starting metadata extraction...\n",
      "2025-09-05 10:47:25,998 - INFO - Extracting metadata for 15326 files\n",
      "2025-09-05 10:47:27,117 - INFO - Metadata progress: 100/15326\n",
      "2025-09-05 10:47:28,119 - INFO - Metadata progress: 200/15326\n",
      "2025-09-05 10:47:29,124 - INFO - Metadata progress: 300/15326\n",
      "2025-09-05 10:47:30,249 - INFO - Metadata progress: 400/15326\n",
      "2025-09-05 10:47:31,239 - INFO - Metadata progress: 500/15326\n",
      "2025-09-05 10:47:32,248 - INFO - Metadata progress: 600/15326\n",
      "2025-09-05 10:47:33,256 - INFO - Metadata progress: 700/15326\n",
      "2025-09-05 10:47:34,224 - INFO - Metadata progress: 800/15326\n",
      "2025-09-05 10:47:35,495 - INFO - Metadata progress: 900/15326\n",
      "2025-09-05 10:47:36,446 - INFO - Metadata progress: 1000/15326\n",
      "2025-09-05 10:47:37,432 - INFO - Metadata progress: 1100/15326\n",
      "2025-09-05 10:47:38,380 - INFO - Metadata progress: 1200/15326\n",
      "2025-09-05 10:47:39,345 - INFO - Metadata progress: 1300/15326\n",
      "2025-09-05 10:47:40,389 - INFO - Metadata progress: 1400/15326\n",
      "2025-09-05 10:47:41,695 - INFO - Metadata progress: 1500/15326\n",
      "2025-09-05 10:47:42,742 - INFO - Metadata progress: 1600/15326\n",
      "2025-09-05 10:47:43,718 - INFO - Metadata progress: 1700/15326\n",
      "2025-09-05 10:47:44,687 - INFO - Metadata progress: 1800/15326\n",
      "2025-09-05 10:47:45,685 - INFO - Metadata progress: 1900/15326\n",
      "2025-09-05 10:47:46,928 - INFO - Metadata progress: 2000/15326\n",
      "2025-09-05 10:47:47,914 - INFO - Metadata progress: 2100/15326\n",
      "2025-09-05 10:47:48,878 - INFO - Metadata progress: 2200/15326\n",
      "2025-09-05 10:47:49,946 - INFO - Metadata progress: 2300/15326\n",
      "2025-09-05 10:47:50,956 - INFO - Metadata progress: 2400/15326\n",
      "2025-09-05 10:47:51,917 - INFO - Metadata progress: 2500/15326\n",
      "2025-09-05 10:47:53,125 - INFO - Metadata progress: 2600/15326\n",
      "2025-09-05 10:47:54,105 - INFO - Metadata progress: 2700/15326\n",
      "2025-09-05 10:47:55,092 - INFO - Metadata progress: 2800/15326\n",
      "2025-09-05 10:47:56,253 - INFO - Metadata progress: 2900/15326\n",
      "2025-09-05 10:47:57,280 - INFO - Metadata progress: 3000/15326\n",
      "2025-09-05 10:47:58,267 - INFO - Metadata progress: 3100/15326\n",
      "2025-09-05 10:47:59,242 - INFO - Metadata progress: 3200/15326\n",
      "2025-09-05 10:48:00,190 - INFO - Metadata progress: 3300/15326\n",
      "2025-09-05 10:48:01,154 - INFO - Metadata progress: 3400/15326\n",
      "2025-09-05 10:48:02,130 - INFO - Metadata progress: 3500/15326\n",
      "2025-09-05 10:48:03,364 - INFO - Metadata progress: 3600/15326\n",
      "2025-09-05 10:48:04,324 - INFO - Metadata progress: 3700/15326\n",
      "2025-09-05 10:48:05,280 - INFO - Metadata progress: 3800/15326\n",
      "2025-09-05 10:48:06,244 - INFO - Metadata progress: 3900/15326\n",
      "2025-09-05 10:48:07,236 - INFO - Metadata progress: 4000/15326\n",
      "2025-09-05 10:48:08,460 - INFO - Metadata progress: 4100/15326\n",
      "2025-09-05 10:48:09,411 - INFO - Metadata progress: 4200/15326\n",
      "2025-09-05 10:48:10,381 - INFO - Metadata progress: 4300/15326\n",
      "2025-09-05 10:48:11,341 - INFO - Metadata progress: 4400/15326\n",
      "2025-09-05 10:48:12,300 - INFO - Metadata progress: 4500/15326\n",
      "2025-09-05 10:48:13,431 - INFO - Metadata progress: 4600/15326\n",
      "2025-09-05 10:48:14,394 - INFO - Metadata progress: 4700/15326\n",
      "2025-09-05 10:48:15,378 - INFO - Metadata progress: 4800/15326\n",
      "2025-09-05 10:48:16,337 - INFO - Metadata progress: 4900/15326\n",
      "2025-09-05 10:48:17,308 - INFO - Metadata progress: 5000/15326\n",
      "2025-09-05 10:48:18,524 - INFO - Metadata progress: 5100/15326\n",
      "2025-09-05 10:48:19,493 - INFO - Metadata progress: 5200/15326\n",
      "2025-09-05 10:48:20,429 - INFO - Metadata progress: 5300/15326\n",
      "2025-09-05 10:48:21,418 - INFO - Metadata progress: 5400/15326\n",
      "2025-09-05 10:48:22,408 - INFO - Metadata progress: 5500/15326\n",
      "2025-09-05 10:48:23,359 - INFO - Metadata progress: 5600/15326\n",
      "2025-09-05 10:48:24,711 - INFO - Metadata progress: 5700/15326\n",
      "2025-09-05 10:48:25,687 - INFO - Metadata progress: 5800/15326\n",
      "2025-09-05 10:48:26,661 - INFO - Metadata progress: 5900/15326\n",
      "2025-09-05 10:48:27,624 - INFO - Metadata progress: 6000/15326\n",
      "2025-09-05 10:48:28,595 - INFO - Metadata progress: 6100/15326\n",
      "2025-09-05 10:48:29,845 - INFO - Metadata progress: 6200/15326\n",
      "2025-09-05 10:48:30,822 - INFO - Metadata progress: 6300/15326\n",
      "2025-09-05 10:48:31,790 - INFO - Metadata progress: 6400/15326\n",
      "2025-09-05 10:48:32,747 - INFO - Metadata progress: 6500/15326\n",
      "2025-09-05 10:48:33,705 - INFO - Metadata progress: 6600/15326\n",
      "2025-09-05 10:48:34,669 - INFO - Metadata progress: 6700/15326\n",
      "2025-09-05 10:48:35,911 - INFO - Metadata progress: 6800/15326\n",
      "2025-09-05 10:48:36,918 - INFO - Metadata progress: 6900/15326\n",
      "2025-09-05 10:48:37,960 - INFO - Metadata progress: 7000/15326\n",
      "2025-09-05 10:48:38,938 - INFO - Metadata progress: 7100/15326\n",
      "2025-09-05 10:48:39,905 - INFO - Metadata progress: 7200/15326\n",
      "2025-09-05 10:48:41,160 - INFO - Metadata progress: 7300/15326\n",
      "2025-09-05 10:48:42,112 - INFO - Metadata progress: 7400/15326\n",
      "2025-09-05 10:48:43,127 - INFO - Metadata progress: 7500/15326\n",
      "2025-09-05 10:48:44,089 - INFO - Metadata progress: 7600/15326\n",
      "2025-09-05 10:48:45,060 - INFO - Metadata progress: 7700/15326\n",
      "2025-09-05 10:48:46,015 - INFO - Metadata progress: 7800/15326\n",
      "2025-09-05 10:48:47,250 - INFO - Metadata progress: 7900/15326\n",
      "2025-09-05 10:48:48,257 - INFO - Metadata progress: 8000/15326\n",
      "2025-09-05 10:48:49,231 - INFO - Metadata progress: 8100/15326\n",
      "2025-09-05 10:48:50,184 - INFO - Metadata progress: 8200/15326\n",
      "2025-09-05 10:48:51,176 - INFO - Metadata progress: 8300/15326\n",
      "2025-09-05 10:48:52,418 - INFO - Metadata progress: 8400/15326\n",
      "2025-09-05 10:48:53,391 - INFO - Metadata progress: 8500/15326\n",
      "2025-09-05 10:48:54,351 - INFO - Metadata progress: 8600/15326\n",
      "2025-09-05 10:48:55,319 - INFO - Metadata progress: 8700/15326\n",
      "2025-09-05 10:48:56,292 - INFO - Metadata progress: 8800/15326\n",
      "2025-09-05 10:48:57,271 - INFO - Metadata progress: 8900/15326\n",
      "2025-09-05 10:48:58,491 - INFO - Metadata progress: 9000/15326\n",
      "2025-09-05 10:48:59,463 - INFO - Metadata progress: 9100/15326\n",
      "2025-09-05 10:49:00,427 - INFO - Metadata progress: 9200/15326\n",
      "2025-09-05 10:49:01,425 - INFO - Metadata progress: 9300/15326\n",
      "2025-09-05 10:49:02,386 - INFO - Metadata progress: 9400/15326\n",
      "2025-09-05 10:49:03,636 - INFO - Metadata progress: 9500/15326\n",
      "2025-09-05 10:49:04,600 - INFO - Metadata progress: 9600/15326\n",
      "2025-09-05 10:49:05,580 - INFO - Metadata progress: 9700/15326\n",
      "2025-09-05 10:49:06,529 - INFO - Metadata progress: 9800/15326\n",
      "2025-09-05 10:49:07,501 - INFO - Metadata progress: 9900/15326\n",
      "2025-09-05 10:49:08,613 - INFO - Metadata progress: 10000/15326\n",
      "2025-09-05 10:49:09,587 - INFO - Metadata progress: 10100/15326\n",
      "2025-09-05 10:49:10,582 - INFO - Metadata progress: 10200/15326\n",
      "2025-09-05 10:49:11,567 - INFO - Metadata progress: 10300/15326\n",
      "2025-09-05 10:49:12,542 - INFO - Metadata progress: 10400/15326\n",
      "2025-09-05 10:49:13,492 - INFO - Metadata progress: 10500/15326\n",
      "2025-09-05 10:49:14,794 - INFO - Metadata progress: 10600/15326\n",
      "2025-09-05 10:49:15,791 - INFO - Metadata progress: 10700/15326\n",
      "2025-09-05 10:49:16,797 - INFO - Metadata progress: 10800/15326\n",
      "2025-09-05 10:49:17,756 - INFO - Metadata progress: 10900/15326\n",
      "2025-09-05 10:49:18,838 - INFO - Metadata progress: 11000/15326\n",
      "2025-09-05 10:49:20,014 - INFO - Metadata progress: 11100/15326\n",
      "2025-09-05 10:49:21,680 - INFO - Metadata progress: 11200/15326\n",
      "2025-09-05 10:49:23,312 - INFO - Metadata progress: 11300/15326\n",
      "2025-09-05 10:49:25,070 - INFO - Metadata progress: 11400/15326\n",
      "2025-09-05 10:49:26,604 - INFO - Metadata progress: 11500/15326\n",
      "2025-09-05 10:49:28,206 - INFO - Metadata progress: 11600/15326\n",
      "2025-09-05 10:49:30,779 - INFO - Metadata progress: 11700/15326\n",
      "2025-09-05 10:49:32,481 - INFO - Metadata progress: 11800/15326\n",
      "2025-09-05 10:49:34,080 - INFO - Metadata progress: 11900/15326\n",
      "2025-09-05 10:49:35,790 - INFO - Metadata progress: 12000/15326\n",
      "2025-09-05 10:49:37,405 - INFO - Metadata progress: 12100/15326\n",
      "2025-09-05 10:49:39,014 - INFO - Metadata progress: 12200/15326\n",
      "2025-09-05 10:49:40,835 - INFO - Metadata progress: 12300/15326\n",
      "2025-09-05 10:49:42,542 - INFO - Metadata progress: 12400/15326\n",
      "2025-09-05 10:49:44,269 - INFO - Metadata progress: 12500/15326\n",
      "2025-09-05 10:49:46,178 - INFO - Metadata progress: 12600/15326\n",
      "2025-09-05 10:49:48,002 - INFO - Metadata progress: 12700/15326\n",
      "2025-09-05 10:49:49,856 - INFO - Metadata progress: 12800/15326\n",
      "2025-09-05 10:49:51,792 - INFO - Metadata progress: 12900/15326\n",
      "2025-09-05 10:49:53,550 - INFO - Metadata progress: 13000/15326\n",
      "2025-09-05 10:49:55,425 - INFO - Metadata progress: 13100/15326\n",
      "2025-09-05 10:49:57,347 - INFO - Metadata progress: 13200/15326\n",
      "2025-09-05 10:49:59,090 - INFO - Metadata progress: 13300/15326\n",
      "2025-09-05 10:50:00,786 - INFO - Metadata progress: 13400/15326\n",
      "2025-09-05 10:50:02,626 - INFO - Metadata progress: 13500/15326\n",
      "2025-09-05 10:50:04,366 - INFO - Metadata progress: 13600/15326\n",
      "2025-09-05 10:50:06,082 - INFO - Metadata progress: 13700/15326\n",
      "2025-09-05 10:50:07,903 - INFO - Metadata progress: 13800/15326\n",
      "2025-09-05 10:50:09,703 - INFO - Metadata progress: 13900/15326\n",
      "2025-09-05 10:50:11,574 - INFO - Metadata progress: 14000/15326\n",
      "2025-09-05 10:50:13,561 - INFO - Metadata progress: 14100/15326\n",
      "2025-09-05 10:50:15,394 - INFO - Metadata progress: 14200/15326\n",
      "2025-09-05 10:50:17,344 - INFO - Metadata progress: 14300/15326\n",
      "2025-09-05 10:50:19,375 - INFO - Metadata progress: 14400/15326\n",
      "2025-09-05 10:50:21,303 - INFO - Metadata progress: 14500/15326\n",
      "2025-09-05 10:50:23,368 - INFO - Metadata progress: 14600/15326\n",
      "2025-09-05 10:50:25,561 - INFO - Metadata progress: 14700/15326\n",
      "2025-09-05 10:50:27,460 - INFO - Metadata progress: 14800/15326\n",
      "2025-09-05 10:50:29,350 - INFO - Metadata progress: 14900/15326\n",
      "2025-09-05 10:50:31,406 - INFO - Metadata progress: 15000/15326\n",
      "2025-09-05 10:50:33,396 - INFO - Metadata progress: 15100/15326\n",
      "2025-09-05 10:50:35,496 - INFO - Metadata progress: 15200/15326\n",
      "2025-09-05 10:50:37,451 - INFO - Metadata progress: 15300/15326\n",
      "2025-09-05 10:50:37,998 - INFO - Metadata extraction complete: 15326 extracted\n",
      "2025-09-05 10:50:37,999 - INFO - \n",
      "=== PHASE 3: DUPLICATE DETECTION ===\n",
      "2025-09-05 10:50:38,000 - INFO - Starting duplicate detection...\n",
      "2025-09-05 10:50:38,000 - INFO - Grouping files by hash...\n",
      "2025-09-05 10:50:38,308 - INFO - Processing 15326 files for duplicate detection\n",
      "2025-09-05 10:50:38,389 - INFO - Found 133 unique hash groups\n",
      "2025-09-05 10:50:38,390 - INFO - Analyzing duplicate groups and scoring quality...\n",
      "2025-09-05 10:50:38,390 - INFO - Duplicate detection progress: 0/133\n",
      "2025-09-05 10:50:38,562 - INFO - Duplicate detection progress: 100/133\n",
      "2025-09-05 10:50:38,622 - INFO - Saving duplicate groups to database...\n",
      "2025-09-05 10:50:38,704 - INFO - Saved 133 duplicate groups to database\n",
      "2025-09-05 10:50:38,754 - INFO - Found 133 duplicate groups with 272 files\n",
      "2025-09-05 10:50:38,755 - INFO - Potential space savings: 0.14 GB\n",
      "2025-09-05 10:50:38,756 - INFO - Duplicate detection complete: 133 duplicate groups found\n",
      "2025-09-05 10:50:38,757 - INFO - \n",
      "=== PHASE 4: FILE MIGRATION ===\n",
      "2025-09-05 10:50:38,759 - INFO - Starting library migration to F:\\data_test\n",
      "2025-09-05 10:50:39,090 - INFO - Migrating 15187 files (skip_duplicates=True)\n",
      "2025-09-05 10:50:57,006 - INFO - Migration progress: 50/15187\n",
      "2025-09-05 10:51:01,473 - INFO - Migration progress: 100/15187\n",
      "2025-09-05 10:51:05,736 - INFO - Migration progress: 150/15187\n",
      "2025-09-05 10:51:11,207 - INFO - Migration progress: 200/15187\n",
      "2025-09-05 10:51:15,669 - INFO - Migration progress: 250/15187\n",
      "2025-09-05 10:51:18,256 - INFO - Migration progress: 300/15187\n",
      "2025-09-05 10:51:21,184 - INFO - Migration progress: 350/15187\n",
      "2025-09-05 10:51:25,743 - INFO - Migration progress: 400/15187\n",
      "2025-09-05 10:51:32,018 - INFO - Migration progress: 450/15187\n",
      "2025-09-05 10:51:37,700 - INFO - Migration progress: 500/15187\n",
      "2025-09-05 10:51:44,448 - INFO - Migration progress: 550/15187\n",
      "2025-09-05 10:51:51,146 - INFO - Migration progress: 600/15187\n",
      "2025-09-05 10:52:08,127 - INFO - Migration progress: 650/15187\n",
      "2025-09-05 10:52:14,643 - INFO - Migration progress: 700/15187\n",
      "2025-09-05 10:52:21,129 - INFO - Migration progress: 750/15187\n",
      "2025-09-05 10:52:22,952 - INFO - Migration progress: 800/15187\n",
      "2025-09-05 10:52:23,452 - INFO - Migration progress: 850/15187\n",
      "2025-09-05 10:52:23,918 - INFO - Migration progress: 900/15187\n",
      "2025-09-05 10:52:24,382 - INFO - Migration progress: 950/15187\n",
      "2025-09-05 10:52:24,857 - INFO - Migration progress: 1000/15187\n",
      "2025-09-05 10:52:25,320 - INFO - Migration progress: 1050/15187\n",
      "2025-09-05 10:52:25,783 - INFO - Migration progress: 1100/15187\n",
      "2025-09-05 10:52:26,262 - INFO - Migration progress: 1150/15187\n",
      "2025-09-05 10:52:26,749 - INFO - Migration progress: 1200/15187\n",
      "2025-09-05 10:52:27,209 - INFO - Migration progress: 1250/15187\n",
      "2025-09-05 10:52:31,528 - INFO - Migration progress: 1300/15187\n",
      "2025-09-05 10:52:35,219 - INFO - Migration progress: 1350/15187\n",
      "2025-09-05 10:52:39,301 - INFO - Migration progress: 1400/15187\n",
      "2025-09-05 10:52:44,357 - INFO - Migration progress: 1450/15187\n",
      "2025-09-05 10:52:49,191 - INFO - Migration progress: 1500/15187\n",
      "2025-09-05 10:52:57,150 - INFO - Migration progress: 1550/15187\n",
      "2025-09-05 10:53:01,637 - INFO - Migration progress: 1600/15187\n",
      "2025-09-05 10:53:06,038 - INFO - Migration progress: 1650/15187\n",
      "2025-09-05 10:53:07,436 - INFO - Migration progress: 1700/15187\n",
      "2025-09-05 10:53:08,592 - INFO - Migration progress: 1750/15187\n",
      "2025-09-05 10:53:09,719 - INFO - Migration progress: 1800/15187\n",
      "2025-09-05 10:53:11,045 - INFO - Migration progress: 1850/15187\n",
      "2025-09-05 10:53:12,590 - INFO - Migration progress: 1900/15187\n",
      "2025-09-05 10:53:13,925 - INFO - Migration progress: 1950/15187\n",
      "2025-09-05 10:53:14,944 - INFO - Migration progress: 2000/15187\n",
      "2025-09-05 10:53:15,985 - INFO - Migration progress: 2050/15187\n",
      "2025-09-05 10:53:17,827 - INFO - Migration progress: 2100/15187\n",
      "2025-09-05 10:53:19,636 - INFO - Migration progress: 2150/15187\n",
      "2025-09-05 10:53:21,056 - INFO - Migration progress: 2200/15187\n",
      "2025-09-05 10:53:22,488 - INFO - Migration progress: 2250/15187\n",
      "2025-09-05 10:53:24,637 - INFO - Migration progress: 2300/15187\n",
      "2025-09-05 10:53:28,413 - INFO - Migration progress: 2350/15187\n",
      "2025-09-05 10:53:29,848 - INFO - Migration progress: 2400/15187\n",
      "2025-09-05 10:53:30,856 - INFO - Migration progress: 2450/15187\n",
      "2025-09-05 10:53:31,991 - INFO - Migration progress: 2500/15187\n",
      "2025-09-05 10:53:33,072 - INFO - Migration progress: 2550/15187\n",
      "2025-09-05 10:53:34,002 - INFO - Migration progress: 2600/15187\n",
      "2025-09-05 10:53:35,087 - INFO - Migration progress: 2650/15187\n",
      "2025-09-05 10:53:35,958 - INFO - Migration progress: 2700/15187\n",
      "2025-09-05 10:53:36,978 - INFO - Migration progress: 2750/15187\n",
      "2025-09-05 10:53:37,858 - INFO - Migration progress: 2800/15187\n",
      "2025-09-05 10:53:38,664 - INFO - Migration progress: 2850/15187\n",
      "2025-09-05 10:53:39,614 - INFO - Migration progress: 2900/15187\n",
      "2025-09-05 10:53:40,937 - INFO - Migration progress: 2950/15187\n",
      "2025-09-05 10:53:42,216 - INFO - Migration progress: 3000/15187\n",
      "2025-09-05 10:53:43,667 - INFO - Migration progress: 3050/15187\n",
      "2025-09-05 10:53:44,591 - INFO - Migration progress: 3100/15187\n",
      "2025-09-05 10:53:45,666 - INFO - Migration progress: 3150/15187\n",
      "2025-09-05 10:53:46,760 - INFO - Migration progress: 3200/15187\n",
      "2025-09-05 10:53:47,803 - INFO - Migration progress: 3250/15187\n",
      "2025-09-05 10:53:48,578 - INFO - Migration progress: 3300/15187\n",
      "2025-09-05 10:53:49,432 - INFO - Migration progress: 3350/15187\n",
      "2025-09-05 10:53:50,392 - INFO - Migration progress: 3400/15187\n",
      "2025-09-05 10:53:51,298 - INFO - Migration progress: 3450/15187\n",
      "2025-09-05 10:53:52,028 - INFO - Migration progress: 3500/15187\n",
      "2025-09-05 10:53:52,823 - INFO - Migration progress: 3550/15187\n",
      "2025-09-05 10:53:54,012 - INFO - Migration progress: 3600/15187\n",
      "2025-09-05 10:53:54,950 - INFO - Migration progress: 3650/15187\n",
      "2025-09-05 10:53:55,986 - INFO - Migration progress: 3700/15187\n",
      "2025-09-05 10:53:56,972 - INFO - Migration progress: 3750/15187\n",
      "2025-09-05 10:53:57,867 - INFO - Migration progress: 3800/15187\n",
      "2025-09-05 10:53:58,799 - INFO - Migration progress: 3850/15187\n",
      "2025-09-05 10:53:59,626 - INFO - Migration progress: 3900/15187\n",
      "2025-09-05 10:54:00,723 - INFO - Migration progress: 3950/15187\n",
      "2025-09-05 10:54:01,591 - INFO - Migration progress: 4000/15187\n",
      "2025-09-05 10:54:02,579 - INFO - Migration progress: 4050/15187\n",
      "2025-09-05 10:54:03,824 - INFO - Migration progress: 4100/15187\n",
      "2025-09-05 10:54:05,217 - INFO - Migration progress: 4150/15187\n",
      "2025-09-05 10:54:06,904 - INFO - Migration progress: 4200/15187\n",
      "2025-09-05 10:54:08,324 - INFO - Migration progress: 4250/15187\n",
      "2025-09-05 10:54:09,252 - INFO - Migration progress: 4300/15187\n",
      "2025-09-05 10:54:10,211 - INFO - Migration progress: 4350/15187\n",
      "2025-09-05 10:54:11,160 - INFO - Migration progress: 4400/15187\n",
      "2025-09-05 10:54:12,074 - INFO - Migration progress: 4450/15187\n",
      "2025-09-05 10:54:13,125 - INFO - Migration progress: 4500/15187\n",
      "2025-09-05 10:54:14,008 - INFO - Migration progress: 4550/15187\n",
      "2025-09-05 10:54:14,966 - INFO - Migration progress: 4600/15187\n",
      "2025-09-05 10:54:16,167 - INFO - Migration progress: 4650/15187\n",
      "2025-09-05 10:54:16,804 - INFO - Migration progress: 4700/15187\n",
      "2025-09-05 10:54:17,531 - INFO - Migration progress: 4750/15187\n",
      "2025-09-05 10:54:18,221 - INFO - Migration progress: 4800/15187\n",
      "2025-09-05 10:54:18,983 - INFO - Migration progress: 4850/15187\n",
      "2025-09-05 10:54:19,847 - INFO - Migration progress: 4900/15187\n",
      "2025-09-05 10:54:20,575 - INFO - Migration progress: 4950/15187\n",
      "2025-09-05 10:54:21,281 - INFO - Migration progress: 5000/15187\n",
      "2025-09-05 10:54:21,930 - INFO - Migration progress: 5050/15187\n",
      "2025-09-05 10:54:22,681 - INFO - Migration progress: 5100/15187\n",
      "2025-09-05 10:54:23,452 - INFO - Migration progress: 5150/15187\n",
      "2025-09-05 10:54:24,375 - INFO - Migration progress: 5200/15187\n",
      "2025-09-05 10:54:25,508 - INFO - Migration progress: 5250/15187\n",
      "2025-09-05 10:54:26,594 - INFO - Migration progress: 5300/15187\n",
      "2025-09-05 10:54:27,438 - INFO - Migration progress: 5350/15187\n",
      "2025-09-05 10:54:28,401 - INFO - Migration progress: 5400/15187\n",
      "2025-09-05 10:54:29,599 - INFO - Migration progress: 5450/15187\n",
      "2025-09-05 10:54:30,586 - INFO - Migration progress: 5500/15187\n",
      "2025-09-05 10:54:31,596 - INFO - Migration progress: 5550/15187\n",
      "2025-09-05 10:54:32,549 - INFO - Migration progress: 5600/15187\n",
      "2025-09-05 10:54:33,432 - INFO - Migration progress: 5650/15187\n",
      "2025-09-05 10:54:34,358 - INFO - Migration progress: 5700/15187\n",
      "2025-09-05 10:54:35,733 - INFO - Migration progress: 5750/15187\n",
      "2025-09-05 10:54:36,599 - INFO - Migration progress: 5800/15187\n",
      "2025-09-05 10:54:37,700 - INFO - Migration progress: 5850/15187\n",
      "2025-09-05 10:54:38,846 - INFO - Migration progress: 5900/15187\n",
      "2025-09-05 10:54:39,908 - INFO - Migration progress: 5950/15187\n",
      "2025-09-05 10:54:40,777 - INFO - Migration progress: 6000/15187\n",
      "2025-09-05 10:54:41,587 - INFO - Migration progress: 6050/15187\n",
      "2025-09-05 10:54:42,426 - INFO - Migration progress: 6100/15187\n",
      "2025-09-05 10:54:43,325 - INFO - Migration progress: 6150/15187\n",
      "2025-09-05 10:54:44,164 - INFO - Migration progress: 6200/15187\n",
      "2025-09-05 10:54:44,993 - INFO - Migration progress: 6250/15187\n",
      "2025-09-05 10:54:45,838 - INFO - Migration progress: 6300/15187\n",
      "2025-09-05 10:54:46,661 - INFO - Migration progress: 6350/15187\n",
      "2025-09-05 10:54:47,376 - INFO - Migration progress: 6400/15187\n",
      "2025-09-05 10:54:48,278 - INFO - Migration progress: 6450/15187\n",
      "2025-09-05 10:54:49,134 - INFO - Migration progress: 6500/15187\n",
      "2025-09-05 10:54:50,052 - INFO - Migration progress: 6550/15187\n",
      "2025-09-05 10:54:50,839 - INFO - Migration progress: 6600/15187\n",
      "2025-09-05 10:54:51,643 - INFO - Migration progress: 6650/15187\n",
      "2025-09-05 10:54:52,487 - INFO - Migration progress: 6700/15187\n",
      "2025-09-05 10:54:53,196 - INFO - Migration progress: 6750/15187\n",
      "2025-09-05 10:54:53,909 - INFO - Migration progress: 6800/15187\n",
      "2025-09-05 10:54:54,707 - INFO - Migration progress: 6850/15187\n",
      "2025-09-05 10:54:55,430 - INFO - Migration progress: 6900/15187\n",
      "2025-09-05 10:54:56,259 - INFO - Migration progress: 6950/15187\n",
      "2025-09-05 10:54:56,979 - INFO - Migration progress: 7000/15187\n",
      "2025-09-05 10:54:57,793 - INFO - Migration progress: 7050/15187\n",
      "2025-09-05 10:54:58,622 - INFO - Migration progress: 7100/15187\n",
      "2025-09-05 10:54:59,757 - INFO - Migration progress: 7150/15187\n",
      "2025-09-05 10:55:01,118 - INFO - Migration progress: 7200/15187\n",
      "2025-09-05 10:55:03,323 - INFO - Migration progress: 7250/15187\n",
      "2025-09-05 10:55:04,661 - INFO - Migration progress: 7300/15187\n",
      "2025-09-05 10:55:06,247 - INFO - Migration progress: 7350/15187\n",
      "2025-09-05 10:55:07,304 - INFO - Migration progress: 7400/15187\n",
      "2025-09-05 10:55:08,443 - INFO - Migration progress: 7450/15187\n",
      "2025-09-05 10:55:09,553 - INFO - Migration progress: 7500/15187\n",
      "2025-09-05 10:55:10,671 - INFO - Migration progress: 7550/15187\n",
      "2025-09-05 10:55:11,781 - INFO - Migration progress: 7600/15187\n",
      "2025-09-05 10:55:12,915 - INFO - Migration progress: 7650/15187\n",
      "2025-09-05 10:55:14,272 - INFO - Migration progress: 7700/15187\n",
      "2025-09-05 10:55:15,502 - INFO - Migration progress: 7750/15187\n",
      "2025-09-05 10:55:16,811 - INFO - Migration progress: 7800/15187\n",
      "2025-09-05 10:55:18,014 - INFO - Migration progress: 7850/15187\n",
      "2025-09-05 10:55:19,194 - INFO - Migration progress: 7900/15187\n",
      "2025-09-05 10:55:20,696 - INFO - Migration progress: 7950/15187\n",
      "2025-09-05 10:55:21,940 - INFO - Migration progress: 8000/15187\n",
      "2025-09-05 10:55:23,065 - INFO - Migration progress: 8050/15187\n",
      "2025-09-05 10:55:24,012 - INFO - Migration progress: 8100/15187\n",
      "2025-09-05 10:55:25,459 - INFO - Migration progress: 8150/15187\n",
      "2025-09-05 10:55:26,965 - INFO - Migration progress: 8200/15187\n",
      "2025-09-05 10:55:28,192 - INFO - Migration progress: 8250/15187\n",
      "2025-09-05 10:55:29,230 - INFO - Migration progress: 8300/15187\n",
      "2025-09-05 10:55:30,351 - INFO - Migration progress: 8350/15187\n",
      "2025-09-05 10:55:31,523 - INFO - Migration progress: 8400/15187\n",
      "2025-09-05 10:55:32,747 - INFO - Migration progress: 8450/15187\n",
      "2025-09-05 10:55:34,096 - INFO - Migration progress: 8500/15187\n",
      "2025-09-05 10:55:35,517 - INFO - Migration progress: 8550/15187\n",
      "2025-09-05 10:55:36,450 - INFO - Migration progress: 8600/15187\n",
      "2025-09-05 10:55:37,644 - INFO - Migration progress: 8650/15187\n",
      "2025-09-05 10:55:38,859 - INFO - Migration progress: 8700/15187\n",
      "2025-09-05 10:55:40,051 - INFO - Migration progress: 8750/15187\n",
      "2025-09-05 10:55:41,266 - INFO - Migration progress: 8800/15187\n",
      "2025-09-05 10:55:42,405 - INFO - Migration progress: 8850/15187\n",
      "2025-09-05 10:55:43,601 - INFO - Migration progress: 8900/15187\n",
      "2025-09-05 10:55:44,913 - INFO - Migration progress: 8950/15187\n",
      "2025-09-05 10:55:46,194 - INFO - Migration progress: 9000/15187\n",
      "2025-09-05 10:55:47,654 - INFO - Migration progress: 9050/15187\n",
      "2025-09-05 10:55:49,047 - INFO - Migration progress: 9100/15187\n",
      "2025-09-05 10:55:50,287 - INFO - Migration progress: 9150/15187\n",
      "2025-09-05 10:55:51,823 - INFO - Migration progress: 9200/15187\n",
      "2025-09-05 10:55:53,272 - INFO - Migration progress: 9250/15187\n",
      "2025-09-05 10:55:54,416 - INFO - Migration progress: 9300/15187\n",
      "2025-09-05 10:55:55,833 - INFO - Migration progress: 9350/15187\n",
      "2025-09-05 10:55:56,876 - INFO - Migration progress: 9400/15187\n",
      "2025-09-05 10:55:58,085 - INFO - Migration progress: 9450/15187\n",
      "2025-09-05 10:55:59,278 - INFO - Migration progress: 9500/15187\n",
      "2025-09-05 10:56:00,460 - INFO - Migration progress: 9550/15187\n",
      "2025-09-05 10:56:01,382 - INFO - Migration progress: 9600/15187\n",
      "2025-09-05 10:56:02,329 - INFO - Migration progress: 9650/15187\n",
      "2025-09-05 10:56:03,625 - INFO - Migration progress: 9700/15187\n",
      "2025-09-05 10:56:04,880 - INFO - Migration progress: 9750/15187\n",
      "2025-09-05 10:56:06,146 - INFO - Migration progress: 9800/15187\n",
      "2025-09-05 10:56:07,493 - INFO - Migration progress: 9850/15187\n",
      "2025-09-05 10:56:09,211 - INFO - Migration progress: 9900/15187\n",
      "2025-09-05 10:56:10,344 - INFO - Migration progress: 9950/15187\n",
      "2025-09-05 10:56:11,551 - INFO - Migration progress: 10000/15187\n",
      "2025-09-05 10:56:12,795 - INFO - Migration progress: 10050/15187\n",
      "2025-09-05 10:56:13,886 - INFO - Migration progress: 10100/15187\n",
      "2025-09-05 10:56:15,019 - INFO - Migration progress: 10150/15187\n",
      "2025-09-05 10:56:16,174 - INFO - Migration progress: 10200/15187\n",
      "2025-09-05 10:56:17,223 - INFO - Migration progress: 10250/15187\n",
      "2025-09-05 10:56:18,416 - INFO - Migration progress: 10300/15187\n",
      "2025-09-05 10:56:19,534 - INFO - Migration progress: 10350/15187\n",
      "2025-09-05 10:56:21,233 - INFO - Migration progress: 10400/15187\n",
      "2025-09-05 10:56:22,977 - INFO - Migration progress: 10450/15187\n",
      "2025-09-05 10:56:24,437 - INFO - Migration progress: 10500/15187\n",
      "2025-09-05 10:56:26,366 - INFO - Migration progress: 10550/15187\n",
      "2025-09-05 10:56:28,178 - INFO - Migration progress: 10600/15187\n",
      "2025-09-05 10:56:30,170 - INFO - Migration progress: 10650/15187\n",
      "2025-09-05 10:56:31,839 - INFO - Migration progress: 10700/15187\n",
      "2025-09-05 10:56:33,379 - INFO - Migration progress: 10750/15187\n",
      "2025-09-05 10:56:34,937 - INFO - Migration progress: 10800/15187\n",
      "2025-09-05 10:56:36,386 - INFO - Migration progress: 10850/15187\n",
      "2025-09-05 10:56:37,804 - INFO - Migration progress: 10900/15187\n",
      "2025-09-05 10:56:39,803 - INFO - Migration progress: 10950/15187\n",
      "2025-09-05 10:56:41,970 - INFO - Migration progress: 11000/15187\n",
      "2025-09-05 10:56:43,883 - INFO - Migration progress: 11050/15187\n",
      "2025-09-05 10:56:45,295 - INFO - Migration progress: 11100/15187\n",
      "2025-09-05 10:56:46,700 - INFO - Migration progress: 11150/15187\n",
      "2025-09-05 10:56:48,183 - INFO - Migration progress: 11200/15187\n",
      "2025-09-05 10:56:49,547 - INFO - Migration progress: 11250/15187\n",
      "2025-09-05 10:56:50,825 - INFO - Migration progress: 11300/15187\n",
      "2025-09-05 10:56:51,752 - INFO - Migration progress: 11350/15187\n",
      "2025-09-05 10:56:52,791 - INFO - Migration progress: 11400/15187\n",
      "2025-09-05 10:56:53,906 - INFO - Migration progress: 11450/15187\n",
      "2025-09-05 10:56:55,133 - INFO - Migration progress: 11500/15187\n",
      "2025-09-05 10:56:56,280 - INFO - Migration progress: 11550/15187\n",
      "2025-09-05 10:57:27,815 - INFO - Migration progress: 11600/15187\n",
      "2025-09-05 10:57:30,026 - INFO - Migration progress: 11650/15187\n",
      "2025-09-05 10:57:31,271 - INFO - Migration progress: 11700/15187\n",
      "2025-09-05 10:57:32,587 - INFO - Migration progress: 11750/15187\n",
      "2025-09-05 10:57:34,017 - INFO - Migration progress: 11800/15187\n",
      "2025-09-05 10:57:35,330 - INFO - Migration progress: 11850/15187\n",
      "2025-09-05 10:57:37,668 - INFO - Migration progress: 11900/15187\n",
      "2025-09-05 10:57:38,907 - INFO - Migration progress: 11950/15187\n",
      "2025-09-05 10:57:39,993 - INFO - Migration progress: 12000/15187\n",
      "2025-09-05 10:57:41,058 - INFO - Migration progress: 12050/15187\n",
      "2025-09-05 10:57:42,477 - INFO - Migration progress: 12100/15187\n",
      "2025-09-05 10:57:44,227 - INFO - Migration progress: 12150/15187\n",
      "2025-09-05 10:57:45,331 - INFO - Migration progress: 12200/15187\n",
      "2025-09-05 10:57:46,540 - INFO - Migration progress: 12250/15187\n",
      "2025-09-05 10:57:47,685 - INFO - Migration progress: 12300/15187\n",
      "2025-09-05 10:57:49,330 - INFO - Migration progress: 12350/15187\n",
      "2025-09-05 10:57:50,569 - INFO - Migration progress: 12400/15187\n",
      "2025-09-05 10:57:51,864 - INFO - Migration progress: 12450/15187\n",
      "2025-09-05 10:57:52,993 - INFO - Migration progress: 12500/15187\n",
      "2025-09-05 10:57:54,127 - INFO - Migration progress: 12550/15187\n",
      "2025-09-05 10:57:55,436 - INFO - Migration progress: 12600/15187\n",
      "2025-09-05 10:57:56,557 - INFO - Migration progress: 12650/15187\n",
      "2025-09-05 10:57:57,688 - INFO - Migration progress: 12700/15187\n",
      "2025-09-05 10:57:59,207 - INFO - Migration progress: 12750/15187\n",
      "2025-09-05 10:58:00,872 - INFO - Migration progress: 12800/15187\n",
      "2025-09-05 10:58:02,846 - INFO - Migration progress: 12850/15187\n",
      "2025-09-05 10:58:04,789 - INFO - Migration progress: 12900/15187\n",
      "2025-09-05 10:58:06,639 - INFO - Migration progress: 12950/15187\n",
      "2025-09-05 10:58:08,600 - INFO - Migration progress: 13000/15187\n",
      "2025-09-05 10:58:10,621 - INFO - Migration progress: 13050/15187\n",
      "2025-09-05 10:58:12,220 - INFO - Migration progress: 13100/15187\n",
      "2025-09-05 10:58:13,890 - INFO - Migration progress: 13150/15187\n",
      "2025-09-05 10:58:15,404 - INFO - Migration progress: 13200/15187\n",
      "2025-09-05 10:58:17,145 - INFO - Migration progress: 13250/15187\n",
      "2025-09-05 10:58:19,908 - INFO - Migration progress: 13300/15187\n",
      "2025-09-05 10:58:22,738 - INFO - Migration progress: 13350/15187\n",
      "2025-09-05 10:58:25,000 - INFO - Migration progress: 13400/15187\n",
      "2025-09-05 10:58:28,075 - INFO - Migration progress: 13450/15187\n",
      "2025-09-05 10:58:33,185 - INFO - Migration progress: 13500/15187\n",
      "2025-09-05 10:58:37,959 - INFO - Migration progress: 13550/15187\n",
      "2025-09-05 10:58:42,534 - INFO - Migration progress: 13600/15187\n",
      "2025-09-05 10:58:47,156 - INFO - Migration progress: 13650/15187\n",
      "2025-09-05 10:58:51,487 - INFO - Migration progress: 13700/15187\n",
      "2025-09-05 10:58:55,836 - INFO - Migration progress: 13750/15187\n",
      "2025-09-05 10:59:00,175 - INFO - Migration progress: 13800/15187\n",
      "2025-09-05 10:59:03,679 - INFO - File already exists at target: F:\\data_test\\Unknown\\Sound 3.wav\n",
      "2025-09-05 10:59:04,933 - INFO - Migration progress: 13850/15187\n",
      "2025-09-05 10:59:09,641 - INFO - Migration progress: 13900/15187\n",
      "2025-09-05 10:59:14,055 - INFO - File already exists at target: F:\\data_test\\Unknown\\Sound 124.wav\n",
      "2025-09-05 10:59:14,480 - INFO - Migration progress: 13950/15187\n",
      "2025-09-05 10:59:19,050 - INFO - Migration progress: 14000/15187\n",
      "2025-09-05 10:59:23,907 - INFO - Migration progress: 14050/15187\n",
      "2025-09-05 10:59:27,510 - ERROR - Error migrating file D:\\OLD OLD Backups\\Music\\ALL MUSIC\\Tom's Music\\02 I dont want to miss a thing.m4a: [Errno 2] No such file or directory: 'F:\\\\data_test\\\\ \\\\02 I dont want to miss a thing.m4a'\n",
      "2025-09-05 10:59:27,829 - INFO - Migration progress: 14100/15187\n",
      "2025-09-05 10:59:31,412 - INFO - Migration progress: 14150/15187\n",
      "2025-09-05 10:59:32,255 - ERROR - Error migrating file D:\\OLD OLD Backups\\Music\\ALL MUSIC\\Tom's Music\\06 Build me up buttercup.m4a: [Errno 2] No such file or directory: 'F:\\\\data_test\\\\ \\\\06 Build me up buttercup.m4a'\n",
      "2025-09-05 10:59:34,852 - INFO - Migration progress: 14200/15187\n",
      "2025-09-05 10:59:36,792 - ERROR - Error migrating file D:\\OLD OLD Backups\\Music\\ALL MUSIC\\Tom's Music\\11 My my my.m4a: [Errno 2] No such file or directory: 'F:\\\\data_test\\\\ \\\\11 My my my.m4a'\n",
      "2025-09-05 10:59:37,620 - ERROR - Error migrating file D:\\OLD OLD Backups\\Music\\ALL MUSIC\\Tom's Music\\12 Come out and see me.m4a: [Errno 2] No such file or directory: 'F:\\\\data_test\\\\ \\\\12 Come out and see me.m4a'\n",
      "2025-09-05 10:59:38,590 - INFO - Migration progress: 14250/15187\n",
      "2025-09-05 10:59:39,382 - ERROR - Error migrating file D:\\OLD OLD Backups\\Music\\ALL MUSIC\\Tom's Music\\17 Floorless.m4a: [Errno 2] No such file or directory: 'F:\\\\data_test\\\\ \\\\17 Floorless.m4a'\n",
      "2025-09-05 10:59:39,965 - ERROR - Error migrating file D:\\OLD OLD Backups\\Music\\ALL MUSIC\\Tom's Music\\20 2 people.m4a: [Errno 2] No such file or directory: 'F:\\\\data_test\\\\ \\\\20 2 people.m4a'\n",
      "2025-09-05 10:59:42,353 - INFO - Migration progress: 14300/15187\n",
      "2025-09-05 10:59:46,065 - INFO - Migration progress: 14350/15187\n",
      "2025-09-05 10:59:49,162 - INFO - Migration progress: 14400/15187\n",
      "2025-09-05 10:59:52,348 - INFO - Migration progress: 14450/15187\n",
      "2025-09-05 10:59:57,159 - INFO - Migration progress: 14500/15187\n",
      "2025-09-05 11:00:00,301 - ERROR - Error migrating file D:\\OLD OLD Backups\\Music\\ALL MUSIC\\Tom's Music\\Chris' Morning After Mix\\03 So it Goes.m4a: [Errno 2] No such file or directory: 'F:\\\\data_test\\\\ \\\\03 So it Goes.m4a'\n",
      "2025-09-05 11:00:00,951 - INFO - Migration progress: 14550/15187\n",
      "2025-09-05 11:00:04,980 - INFO - Migration progress: 14600/15187\n",
      "2025-09-05 11:00:08,643 - INFO - Migration progress: 14650/15187\n",
      "2025-09-05 11:00:12,214 - INFO - Migration progress: 14700/15187\n",
      "2025-09-05 11:00:16,056 - INFO - Migration progress: 14750/15187\n",
      "2025-09-05 11:00:19,903 - INFO - Migration progress: 14800/15187\n",
      "2025-09-05 11:00:23,901 - INFO - Migration progress: 14850/15187\n",
      "2025-09-05 11:00:28,570 - INFO - Migration progress: 14900/15187\n",
      "2025-09-05 11:00:32,421 - INFO - Migration progress: 14950/15187\n",
      "2025-09-05 11:00:36,119 - INFO - Migration progress: 15000/15187\n",
      "2025-09-05 11:00:40,154 - INFO - Migration progress: 15050/15187\n",
      "2025-09-05 11:00:44,464 - INFO - Migration progress: 15100/15187\n",
      "2025-09-05 11:00:48,888 - INFO - Migration progress: 15150/15187\n",
      "2025-09-05 11:00:51,994 - INFO - Migration complete: 15180 migrated, 0 skipped, 7 failed\n",
      "2025-09-05 11:00:52,009 - INFO - Migration complete: 0 files migrated\n",
      "2025-09-05 11:00:52,009 - INFO - \n",
      "============================================================\n",
      "2025-09-05 11:00:52,010 - INFO - EDA DATA PREPARATION COMPLETE\n",
      "2025-09-05 11:00:52,010 - INFO - Total files scanned: 15326\n",
      "2025-09-05 11:00:52,011 - INFO - Metadata extracted: 15326\n",
      "2025-09-05 11:00:52,011 - INFO - Duplicate groups: 133\n",
      "2025-09-05 11:00:52,011 - INFO - Files migrated: 0\n",
      "2025-09-05 11:00:52,012 - INFO - Target directory: F:\\data_test\n",
      "2025-09-05 11:00:52,012 - INFO - ============================================================\n"
     ]
    },
    {
     "name": "stdout",
     "output_type": "stream",
     "text": [
      "\n",
      "============================================================\n",
      "Data preparation complete!\n",
      "Files scanned: 15326\n",
      "Files migrated: 0\n",
      "============================================================\n"
     ]
    }
   ],
   "source": [
    "from prepare_eda_data import prepare_eda_data\n",
    "\n",
    "# Configuration\n",
    "SOURCE_DIR = r\"D:\\OLD OLD Backups\\Music\\ALL MUSIC\"\n",
    "TARGET_DIR = r\"F:\\data_test\"\n",
    "RESET_DB = True  # Set to False to keep existing data\n",
    "\n",
    "# Run data preparation\n",
    "print(f\"Source directory: {SOURCE_DIR}\")\n",
    "print(f\"Target directory: {TARGET_DIR}\")\n",
    "print(f\"Reset database: {RESET_DB}\")\n",
    "print(\"\\nStarting data preparation...\\n\")\n",
    "\n",
    "result = prepare_eda_data(SOURCE_DIR, TARGET_DIR, reset_db=RESET_DB)\n",
    "\n",
    "print(\"\\n\" + \"=\"*60)\n",
    "print(\"Data preparation complete!\")\n",
    "print(f\"Files scanned: {result['scan_result'].get('files_added', 0)}\")\n",
    "print(f\"Files migrated: {result['migration_result'].get('files_copied', 0)}\")\n",
    "print(\"=\"*60)"
   ]
  },
  {
   "cell_type": "markdown",
   "metadata": {},
   "source": [
    "## 2. Load Data from Database"
   ]
  },
  {
   "cell_type": "code",
   "execution_count": 3,
   "metadata": {},
   "outputs": [
    {
     "name": "stdout",
     "output_type": "stream",
     "text": [
      "Found 15180 migrated files\n",
      "\n",
      "DataFrame shape: (15180, 11)\n",
      "\n",
      "File formats distribution:\n",
      "format\n",
      "wav     12369\n",
      "mp3      1298\n",
      "m4a       989\n",
      "wma        17\n",
      "flac        1\n",
      "ogg         1\n",
      "Name: count, dtype: int64\n"
     ]
    },
    {
     "data": {
      "text/html": [
       "<div>\n",
       "<style scoped>\n",
       "    .dataframe tbody tr th:only-of-type {\n",
       "        vertical-align: middle;\n",
       "    }\n",
       "\n",
       "    .dataframe tbody tr th {\n",
       "        vertical-align: top;\n",
       "    }\n",
       "\n",
       "    .dataframe thead th {\n",
       "        text-align: right;\n",
       "    }\n",
       "</style>\n",
       "<table border=\"1\" class=\"dataframe\">\n",
       "  <thead>\n",
       "    <tr style=\"text-align: right;\">\n",
       "      <th></th>\n",
       "      <th>file_id</th>\n",
       "      <th>source_path</th>\n",
       "      <th>target_path</th>\n",
       "      <th>file_size</th>\n",
       "      <th>artist</th>\n",
       "      <th>title</th>\n",
       "      <th>album</th>\n",
       "      <th>duration_metadata</th>\n",
       "      <th>bitrate</th>\n",
       "      <th>sample_rate</th>\n",
       "      <th>format</th>\n",
       "    </tr>\n",
       "  </thead>\n",
       "  <tbody>\n",
       "    <tr>\n",
       "      <th>0</th>\n",
       "      <td>1</td>\n",
       "      <td>D:\\OLD OLD Backups\\Music\\ALL MUSIC\\mixtape fin...</td>\n",
       "      <td>F:\\data_test\\Unknown\\mixtape finale.wav</td>\n",
       "      <td>347223416</td>\n",
       "      <td>None</td>\n",
       "      <td>mixtape finale</td>\n",
       "      <td>None</td>\n",
       "      <td>984.192857</td>\n",
       "      <td>2822400.0</td>\n",
       "      <td>44100.0</td>\n",
       "      <td>wav</td>\n",
       "    </tr>\n",
       "    <tr>\n",
       "      <th>1</th>\n",
       "      <td>2</td>\n",
       "      <td>D:\\OLD OLD Backups\\Music\\ALL MUSIC\\MIXTAPE FIN...</td>\n",
       "      <td>F:\\data_test\\Unknown\\MIXTAPE FINISHED draft.mp3</td>\n",
       "      <td>158824</td>\n",
       "      <td>None</td>\n",
       "      <td>MIXTAPE FINISHED draft</td>\n",
       "      <td>None</td>\n",
       "      <td>3.970600</td>\n",
       "      <td>320000.0</td>\n",
       "      <td>44100.0</td>\n",
       "      <td>mp3</td>\n",
       "    </tr>\n",
       "    <tr>\n",
       "      <th>2</th>\n",
       "      <td>3</td>\n",
       "      <td>D:\\OLD OLD Backups\\Music\\ALL MUSIC\\NEW AMBIENT...</td>\n",
       "      <td>F:\\data_test\\Snatch DJs\\NEW AMBIENT.mp3</td>\n",
       "      <td>18716094</td>\n",
       "      <td>Snatch DJs</td>\n",
       "      <td>NEW AMBIENT</td>\n",
       "      <td>None</td>\n",
       "      <td>467.644075</td>\n",
       "      <td>320000.0</td>\n",
       "      <td>44100.0</td>\n",
       "      <td>mp3</td>\n",
       "    </tr>\n",
       "    <tr>\n",
       "      <th>3</th>\n",
       "      <td>4</td>\n",
       "      <td>D:\\OLD OLD Backups\\Music\\ALL MUSIC\\Snatch DJs ...</td>\n",
       "      <td>F:\\data_test\\Snatch DJs\\Snatch DJs 5th Syncpho...</td>\n",
       "      <td>35967359</td>\n",
       "      <td>Snatch DJs</td>\n",
       "      <td>Snatch DJs 5th Syncphony mk2</td>\n",
       "      <td>None</td>\n",
       "      <td>898.925700</td>\n",
       "      <td>320000.0</td>\n",
       "      <td>44100.0</td>\n",
       "      <td>mp3</td>\n",
       "    </tr>\n",
       "    <tr>\n",
       "      <th>4</th>\n",
       "      <td>5</td>\n",
       "      <td>D:\\OLD OLD Backups\\Music\\ALL MUSIC\\Snatch DJs ...</td>\n",
       "      <td>F:\\data_test\\Snatch DJs\\Snatch DJs 5th Syncpho...</td>\n",
       "      <td>35967359</td>\n",
       "      <td>Snatch DJs</td>\n",
       "      <td>Snatch DJs 5th Syncphony</td>\n",
       "      <td>None</td>\n",
       "      <td>898.925700</td>\n",
       "      <td>320000.0</td>\n",
       "      <td>44100.0</td>\n",
       "      <td>mp3</td>\n",
       "    </tr>\n",
       "  </tbody>\n",
       "</table>\n",
       "</div>"
      ],
      "text/plain": [
       "   file_id                                        source_path  \\\n",
       "0        1  D:\\OLD OLD Backups\\Music\\ALL MUSIC\\mixtape fin...   \n",
       "1        2  D:\\OLD OLD Backups\\Music\\ALL MUSIC\\MIXTAPE FIN...   \n",
       "2        3  D:\\OLD OLD Backups\\Music\\ALL MUSIC\\NEW AMBIENT...   \n",
       "3        4  D:\\OLD OLD Backups\\Music\\ALL MUSIC\\Snatch DJs ...   \n",
       "4        5  D:\\OLD OLD Backups\\Music\\ALL MUSIC\\Snatch DJs ...   \n",
       "\n",
       "                                         target_path  file_size      artist  \\\n",
       "0            F:\\data_test\\Unknown\\mixtape finale.wav  347223416        None   \n",
       "1    F:\\data_test\\Unknown\\MIXTAPE FINISHED draft.mp3     158824        None   \n",
       "2            F:\\data_test\\Snatch DJs\\NEW AMBIENT.mp3   18716094  Snatch DJs   \n",
       "3  F:\\data_test\\Snatch DJs\\Snatch DJs 5th Syncpho...   35967359  Snatch DJs   \n",
       "4  F:\\data_test\\Snatch DJs\\Snatch DJs 5th Syncpho...   35967359  Snatch DJs   \n",
       "\n",
       "                          title album  duration_metadata    bitrate  \\\n",
       "0                mixtape finale  None         984.192857  2822400.0   \n",
       "1        MIXTAPE FINISHED draft  None           3.970600   320000.0   \n",
       "2                   NEW AMBIENT  None         467.644075   320000.0   \n",
       "3  Snatch DJs 5th Syncphony mk2  None         898.925700   320000.0   \n",
       "4      Snatch DJs 5th Syncphony  None         898.925700   320000.0   \n",
       "\n",
       "   sample_rate format  \n",
       "0      44100.0    wav  \n",
       "1      44100.0    mp3  \n",
       "2      44100.0    mp3  \n",
       "3      44100.0    mp3  \n",
       "4      44100.0    mp3  "
      ]
     },
     "execution_count": 3,
     "metadata": {},
     "output_type": "execute_result"
    }
   ],
   "source": [
    "# Connect to database and load file information\n",
    "from sqlalchemy.orm import sessionmaker\n",
    "\n",
    "# Get all migrated files with metadata\n",
    "with db_manager.get_session() as session:\n",
    "    # Query for migrated files\n",
    "    query = session.query(File, Metadata, Migration).join(\n",
    "        Migration, File.id == Migration.file_id\n",
    "    ).outerjoin(\n",
    "        Metadata, File.id == Metadata.file_id\n",
    "    ).filter(\n",
    "        Migration.status == 'completed'\n",
    "    )\n",
    "    \n",
    "    results = query.all()\n",
    "    \n",
    "    print(f\"Found {len(results)} migrated files\")\n",
    "    \n",
    "    # Convert to structured data\n",
    "    file_data = []\n",
    "    for file, metadata, migration in results:\n",
    "        file_data.append({\n",
    "            'file_id': file.id,\n",
    "            'source_path': file.source_path,\n",
    "            'target_path': migration.target_path,\n",
    "            'file_size': file.file_size,\n",
    "            'artist': metadata.artist if metadata else None,\n",
    "            'title': metadata.title if metadata else None,\n",
    "            'album': metadata.album if metadata else None,\n",
    "            'duration_metadata': metadata.duration_seconds if metadata else None,\n",
    "            'bitrate': metadata.bitrate if metadata else None,\n",
    "            'sample_rate': metadata.sample_rate if metadata else None,\n",
    "            'format': metadata.format if metadata else None\n",
    "        })\n",
    "\n",
    "df_files = pd.DataFrame(file_data)\n",
    "print(f\"\\nDataFrame shape: {df_files.shape}\")\n",
    "print(f\"\\nFile formats distribution:\")\n",
    "print(df_files['format'].value_counts())\n",
    "df_files.head()"
   ]
  },
  {
   "cell_type": "markdown",
   "metadata": {},
   "source": [
    "## 3. Feature Extraction\n",
    "\n",
    "Extract comprehensive audio features for clustering analysis:"
   ]
  },
  {
   "cell_type": "code",
   "execution_count": 5,
   "metadata": {},
   "outputs": [
    {
     "name": "stderr",
     "output_type": "stream",
     "text": [
      "2025-09-05 11:11:57,934 - INFO - Processing file 1/400\n"
     ]
    },
    {
     "name": "stdout",
     "output_type": "stream",
     "text": [
      "Extracting features for 400 files...\n"
     ]
    },
    {
     "name": "stderr",
     "output_type": "stream",
     "text": [
      "2025-09-05 11:12:00,664 - ERROR - Error extracting features from F:\\data_test\\Explosions In The Sky\\01 First Breath After Coma.m4a: \n",
      "2025-09-05 11:12:00,666 - ERROR - Error extracting features from F:\\data_test\\Axwell & Bob Sinclar Feat. Ron Carroll\\1-15 What A Wonderful World.m4a: \n",
      "2025-09-05 11:12:20,742 - INFO - Processing file 11/400\n",
      "2025-09-05 11:12:23,094 - ERROR - Error extracting features from F:\\data_test\\Unknown\\._KJ_170_Tight_kit_2bar_Ride_1_8notes.wav: \n",
      "2025-09-05 11:12:23,258 - INFO - Processing file 21/400\n",
      "2025-09-05 11:12:23,830 - ERROR - Error extracting features from F:\\data_test\\Unknown\\._KJ_140_Tight_kit_4bar_loop1.wav: \n",
      "2025-09-05 11:12:25,123 - INFO - Processing file 31/400\n",
      "2025-09-05 11:12:27,437 - ERROR - Error extracting features from F:\\data_test\\The Ting Tings\\1-02 Standing In The Way Of Control.m4a: \n",
      "2025-09-05 11:12:27,439 - ERROR - Error extracting features from F:\\data_test\\ KJ 170 Tight kit 2bar Ride 1\\._KJ_170_Tight_kit_2bar_Ride_1-4notes.wav: \n",
      "2025-09-05 11:12:27,801 - INFO - Processing file 41/400\n",
      "2025-09-05 11:12:44,486 - INFO - Processing file 51/400\n",
      "2025-09-05 11:12:46,986 - ERROR - Error extracting features from F:\\data_test\\The Kooks\\03 Sofa Song.m4a: \n",
      "2025-09-05 11:12:47,175 - ERROR - Error extracting features from F:\\data_test\\Will Smith\\13 Just The Two Of Us.m4a: \n",
      "2025-09-05 11:12:47,383 - INFO - Processing file 61/400\n",
      "2025-09-05 11:12:50,518 - INFO - Processing file 71/400\n",
      "2025-09-05 11:12:50,521 - ERROR - Error extracting features from F:\\data_test\\Unknown\\._KJ_170_Brown_kit_8bar2.wav: \n",
      "2025-09-05 11:12:50,897 - ERROR - Error extracting features from F:\\data_test\\Jack Johnson\\06 Cupid.m4a: \n",
      "2025-09-05 11:12:51,711 - ERROR - Error extracting features from F:\\data_test\\Cake\\Frank Sinatra.m4a: \n",
      "2025-09-05 11:12:51,790 - INFO - Processing file 81/400\n",
      "2025-09-05 11:12:51,792 - ERROR - Error extracting features from F:\\data_test\\Kanye West\\16 Hey Mama.m4a: \n",
      "2025-09-05 11:13:22,504 - INFO - Processing file 91/400\n",
      "2025-09-05 11:13:23,548 - ERROR - Error extracting features from F:\\data_test\\Donna Summer\\14 Last Dance.m4a: \n",
      "2025-09-05 11:13:23,645 - ERROR - Error extracting features from F:\\data_test\\Unknown\\._KJ_190HT_Tama_Room_kit_4bar5.wav: \n",
      "2025-09-05 11:13:23,911 - INFO - Processing file 101/400\n",
      "2025-09-05 11:13:25,562 - ERROR - Error extracting features from F:\\data_test\\The Feeling\\05 Sewn.m4a: \n",
      "2025-09-05 11:13:25,643 - INFO - Processing file 111/400\n",
      "2025-09-05 11:13:32,815 - ERROR - Error extracting features from F:\\data_test\\Feeder\\12 Forget About Tomorrow.m4a: \n",
      "2025-09-05 11:13:33,607 - ERROR - Error extracting features from F:\\data_test\\Unknown\\05 Track 5.wma: \n",
      "2025-09-05 11:13:34,278 - INFO - Processing file 121/400\n",
      "2025-09-05 11:13:34,281 - ERROR - Error extracting features from F:\\data_test\\Presets\\16 Track 16.m4a: \n",
      "2025-09-05 11:13:53,737 - ERROR - Error extracting features from F:\\data_test\\Moulin Rouge\\01 Your song 2.m4a: \n",
      "2025-09-05 11:13:53,818 - INFO - Processing file 131/400\n",
      "2025-09-05 11:13:53,906 - ERROR - Error extracting features from F:\\data_test\\Razorlight\\04 Who Needs Love_.m4a: \n",
      "2025-09-05 11:13:55,797 - INFO - Processing file 141/400\n",
      "2025-09-05 11:13:56,365 - ERROR - Error extracting features from F:\\data_test\\Loverboy\\08 Working for the Weekend.m4a: \n",
      "2025-09-05 11:14:13,134 - INFO - Processing file 151/400\n",
      "2025-09-05 11:14:33,008 - INFO - Processing file 161/400\n",
      "2025-09-05 11:15:13,192 - INFO - Processing file 171/400\n",
      "2025-09-05 11:15:30,715 - INFO - Processing file 181/400\n",
      "2025-09-05 11:15:33,163 - INFO - Processing file 191/400\n",
      "2025-09-05 11:15:33,166 - ERROR - Error extracting features from F:\\data_test\\Unknown\\._KJ_White_Pearl_snare2.wav: \n",
      "2025-09-05 11:16:00,599 - INFO - Processing file 201/400\n",
      "2025-09-05 11:16:00,602 - ERROR - Error extracting features from F:\\data_test\\Unknown\\._KJ_EFX_170_Tight_kit_2bar_loop1.wav: \n",
      "2025-09-05 11:16:02,577 - ERROR - Error extracting features from F:\\data_test\\Red Hot Chili Peppers\\1-01 Intro.m4a: \n",
      "2025-09-05 11:16:02,662 - ERROR - Error extracting features from F:\\data_test\\Unknown\\._KJ_170_Sparkle_dnb3.wav: \n",
      "2025-09-05 11:16:02,663 - INFO - Processing file 211/400\n",
      "2025-09-05 11:16:35,162 - ERROR - Error extracting features from F:\\data_test\\Unknown\\11 11 Track 11.m4a: \n",
      "2025-09-05 11:16:36,370 - INFO - Processing file 221/400\n",
      "2025-09-05 11:16:39,644 - INFO - Processing file 231/400\n",
      "2025-09-05 11:16:57,302 - INFO - Processing file 241/400\n",
      "2025-09-05 11:16:57,490 - ERROR - Error extracting features from F:\\data_test\\The Vessels\\03 Don't Waste You Time.m4a: \n",
      "2025-09-05 11:17:15,019 - INFO - Processing file 251/400\n",
      "2025-09-05 11:18:01,303 - INFO - Processing file 261/400\n",
      "2025-09-05 11:18:01,730 - ERROR - Error extracting features from F:\\data_test\\Bob Dylan\\14 Rainy day women.m4a: \n",
      "2025-09-05 11:18:02,955 - ERROR - Error extracting features from F:\\data_test\\Unknown\\._KJ_14_Old_Crash2.wav: \n",
      "2025-09-05 11:18:03,038 - INFO - Processing file 271/400\n",
      "2025-09-05 11:18:05,809 - ERROR - Error extracting features from F:\\data_test\\Unknown\\._KJ_170_2bar_Sparkle_dnb2.wav: \n",
      "2025-09-05 11:18:05,811 - ERROR - Error extracting features from F:\\data_test\\Jack Johnson\\09 Drink The Water.m4a: \n",
      "2025-09-05 11:18:07,114 - INFO - Processing file 281/400\n",
      "2025-09-05 11:18:19,482 - ERROR - Error extracting features from F:\\data_test\\Tom Waits\\09 Shrek 2.m4a: \n",
      "2025-09-05 11:18:19,572 - INFO - Processing file 291/400\n",
      "2025-09-05 11:18:20,890 - ERROR - Error extracting features from F:\\data_test\\Unknown\\._KJ_170_White_Pearl_kit_4bar5.wav: \n",
      "2025-09-05 11:19:15,928 - INFO - Processing file 301/400\n",
      "2025-09-05 11:19:16,290 - ERROR - Error extracting features from F:\\data_test\\Jack Beats\\01 Get Down.m4a: \n",
      "2025-09-05 11:19:45,435 - INFO - Processing file 311/400\n",
      "2025-09-05 11:20:10,258 - ERROR - Error extracting features from F:\\data_test\\Unknown\\._KJ_190HT_Deep_kit_2bar_loop1.wav: \n",
      "2025-09-05 11:20:10,259 - INFO - Processing file 321/400\n",
      "2025-09-05 11:21:02,627 - ERROR - Error extracting features from F:\\data_test\\The Count & Sinden\\25 Stinging Nettle.m4a: \n",
      "2025-09-05 11:21:02,709 - INFO - Processing file 331/400\n",
      "2025-09-05 11:21:03,295 - ERROR - Error extracting features from F:\\data_test\\Kanye West\\06 spaceshift.m4a: \n",
      "2025-09-05 11:21:05,581 - INFO - Processing file 341/400\n",
      "2025-09-05 11:21:06,038 - ERROR - Error extracting features from F:\\data_test\\The Killers\\11 Everything Will Be Alright.m4a: \n",
      "2025-09-05 11:21:06,041 - ERROR - Error extracting features from F:\\data_test\\Gorillaz\\01 Intro.m4a: \n",
      "2025-09-05 11:21:06,236 - ERROR - Error extracting features from F:\\data_test\\Unknown\\._KJ_EFX_170_Tight_kit_2bar_loop2.wav: \n",
      "2025-09-05 11:21:07,703 - INFO - Processing file 351/400\n",
      "2025-09-05 11:21:27,624 - INFO - Processing file 361/400\n",
      "2025-09-05 11:21:27,802 - ERROR - Error extracting features from F:\\data_test\\Arctic Monkeys\\12 From The Ritz To The Rubble.m4a: \n",
      "2025-09-05 11:21:29,683 - ERROR - Error extracting features from F:\\data_test\\Cicada\\3-12 Raydio.m4a: \n",
      "2025-09-05 11:21:29,685 - ERROR - Error extracting features from F:\\data_test\\Unknown\\Vocal 1_01.wav: \n",
      "2025-09-05 11:21:29,686 - INFO - Processing file 371/400\n",
      "2025-09-05 11:21:56,101 - INFO - Processing file 381/400\n",
      "2025-09-05 11:21:58,770 - INFO - Processing file 391/400\n",
      "2025-09-05 11:22:38,910 - ERROR - Error extracting features from F:\\data_test\\Bat For Lashes\\2-17 Sweet Dreams.m4a: \n"
     ]
    },
    {
     "name": "stdout",
     "output_type": "stream",
     "text": [
      "\n",
      "Feature extraction complete!\n",
      "Features shape: (400, 116)\n",
      "Number of features: 116\n",
      "Files with errors: 44\n",
      "Clean features shape: (356, 115)\n"
     ]
    }
   ],
   "source": [
    "# Sample files for analysis (adjust sample size as needed)\n",
    "SAMPLE_SIZE = min(400, len(df_files))  # Limit to 1000 files for initial analysis\n",
    "df_sample = df_files.sample(n=SAMPLE_SIZE, random_state=42)\n",
    "\n",
    "print(f\"Extracting features for {SAMPLE_SIZE} files...\")\n",
    "\n",
    "# Prepare metadata dictionary\n",
    "metadata_dict = {}\n",
    "for _, row in df_sample.iterrows():\n",
    "    metadata_dict[row['target_path']] = {\n",
    "        'artist': row['artist'],\n",
    "        'title': row['title'],\n",
    "        'album': row['album'],\n",
    "        'duration_seconds': row['duration_metadata'],\n",
    "        'bitrate': row['bitrate'],\n",
    "        'sample_rate': row['sample_rate'],\n",
    "        'format': row['format']\n",
    "    }\n",
    "\n",
    "# Extract features\n",
    "file_paths = df_sample['target_path'].tolist()\n",
    "features_list = extract_features_batch(file_paths, metadata_dict, sr=22050)\n",
    "\n",
    "# Convert to DataFrame\n",
    "df_features = pd.DataFrame(features_list)\n",
    "print(f\"\\nFeature extraction complete!\")\n",
    "print(f\"Features shape: {df_features.shape}\")\n",
    "print(f\"Number of features: {df_features.shape[1]}\")\n",
    "\n",
    "# Check for errors\n",
    "error_count = df_features['error'].notna().sum() if 'error' in df_features.columns else 0\n",
    "print(f\"Files with errors: {error_count}\")\n",
    "\n",
    "# Remove error column if exists\n",
    "if 'error' in df_features.columns:\n",
    "    df_features_clean = df_features[df_features['error'].isna()].drop('error', axis=1)\n",
    "else:\n",
    "    df_features_clean = df_features\n",
    "\n",
    "print(f\"Clean features shape: {df_features_clean.shape}\")"
   ]
  },
  {
   "cell_type": "markdown",
   "metadata": {},
   "source": [
    "## 4. Feature Analysis & Visualization"
   ]
  },
  {
   "cell_type": "code",
   "execution_count": 6,
   "metadata": {},
   "outputs": [
    {
     "name": "stdout",
     "output_type": "stream",
     "text": [
      "Numeric features: 99\n",
      "Categorical features: 16\n",
      "Feature matrix shape: (356, 99)\n"
     ]
    }
   ],
   "source": [
    "# Separate numeric and categorical features\n",
    "numeric_cols = df_features_clean.select_dtypes(include=[np.number]).columns.tolist()\n",
    "categorical_cols = df_features_clean.select_dtypes(exclude=[np.number]).columns.tolist()\n",
    "\n",
    "print(f\"Numeric features: {len(numeric_cols)}\")\n",
    "print(f\"Categorical features: {len(categorical_cols)}\")\n",
    "\n",
    "# Remove file_path from numeric columns if it's there\n",
    "if 'file_path' in categorical_cols:\n",
    "    categorical_cols.remove('file_path')\n",
    "\n",
    "# Create feature matrix\n",
    "X = df_features_clean[numeric_cols].fillna(0).values\n",
    "print(f\"Feature matrix shape: {X.shape}\")"
   ]
  },
  {
   "cell_type": "code",
   "execution_count": 7,
   "metadata": {},
   "outputs": [
    {
     "data": {
      "application/vnd.plotly.v1+json": {
       "config": {
        "plotlyServerURL": "https://plot.ly"
       },
       "data": [
        {
         "name": "duration_seconds",
         "showlegend": false,
         "type": "histogram",
         "x": {
          "bdata": "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",
          "dtype": "f8"
         },
         "xaxis": "x",
         "yaxis": "y"
        },
        {
         "name": "file_size_mb",
         "showlegend": false,
         "type": "histogram",
         "x": {
          "bdata": "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",
          "dtype": "f8"
         },
         "xaxis": "x2",
         "yaxis": "y2"
        },
        {
         "name": "tempo",
         "showlegend": false,
         "type": "histogram",
         "x": {
          "bdata": "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",
          "dtype": "f8"
         },
         "xaxis": "x3",
         "yaxis": "y3"
        },
        {
         "name": "spectral_centroid_mean",
         "showlegend": false,
         "type": "histogram",
         "x": {
          "bdata": "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",
          "dtype": "f8"
         },
         "xaxis": "x4",
         "yaxis": "y4"
        },
        {
         "name": "onset_density",
         "showlegend": false,
         "type": "histogram",
         "x": {
          "bdata": "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",
          "dtype": "f8"
         },
         "xaxis": "x5",
         "yaxis": "y5"
        },
        {
         "name": "harmonic_ratio",
         "showlegend": false,
         "type": "histogram",
         "x": {
          "bdata": "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",
          "dtype": "f8"
         },
         "xaxis": "x6",
         "yaxis": "y6"
        },
        {
         "name": "metadata_completeness",
         "showlegend": false,
         "type": "histogram",
         "x": {
          "bdata": "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",
          "dtype": "f8"
         },
         "xaxis": "x7",
         "yaxis": "y7"
        }
       ],
       "layout": {
        "annotations": [
         {
          "font": {
           "size": 16
          },
          "showarrow": false,
          "text": "duration_seconds",
          "x": 0.14444444444444446,
          "xanchor": "center",
          "xref": "paper",
          "y": 1,
          "yanchor": "bottom",
          "yref": "paper"
         },
         {
          "font": {
           "size": 16
          },
          "showarrow": false,
          "text": "file_size_mb",
          "x": 0.5,
          "xanchor": "center",
          "xref": "paper",
          "y": 1,
          "yanchor": "bottom",
          "yref": "paper"
         },
         {
          "font": {
           "size": 16
          },
          "showarrow": false,
          "text": "tempo",
          "x": 0.8555555555555556,
          "xanchor": "center",
          "xref": "paper",
          "y": 1,
          "yanchor": "bottom",
          "yref": "paper"
         },
         {
          "font": {
           "size": 16
          },
          "showarrow": false,
          "text": "spectral_centroid_mean",
          "x": 0.14444444444444446,
          "xanchor": "center",
          "xref": "paper",
          "y": 0.6111111111111112,
          "yanchor": "bottom",
          "yref": "paper"
         },
         {
          "font": {
           "size": 16
          },
          "showarrow": false,
          "text": "onset_density",
          "x": 0.5,
          "xanchor": "center",
          "xref": "paper",
          "y": 0.6111111111111112,
          "yanchor": "bottom",
          "yref": "paper"
         },
         {
          "font": {
           "size": 16
          },
          "showarrow": false,
          "text": "harmonic_ratio",
          "x": 0.8555555555555556,
          "xanchor": "center",
          "xref": "paper",
          "y": 0.6111111111111112,
          "yanchor": "bottom",
          "yref": "paper"
         },
         {
          "font": {
           "size": 16
          },
          "showarrow": false,
          "text": "metadata_completeness",
          "x": 0.14444444444444446,
          "xanchor": "center",
          "xref": "paper",
          "y": 0.22222222222222224,
          "yanchor": "bottom",
          "yref": "paper"
         }
        ],
        "height": 800,
        "template": {
         "data": {
          "bar": [
           {
            "error_x": {
             "color": "#2a3f5f"
            },
            "error_y": {
             "color": "#2a3f5f"
            },
            "marker": {
             "line": {
              "color": "#E5ECF6",
              "width": 0.5
             },
             "pattern": {
              "fillmode": "overlay",
              "size": 10,
              "solidity": 0.2
             }
            },
            "type": "bar"
           }
          ],
          "barpolar": [
           {
            "marker": {
             "line": {
              "color": "#E5ECF6",
              "width": 0.5
             },
             "pattern": {
              "fillmode": "overlay",
              "size": 10,
              "solidity": 0.2
             }
            },
            "type": "barpolar"
           }
          ],
          "carpet": [
           {
            "aaxis": {
             "endlinecolor": "#2a3f5f",
             "gridcolor": "white",
             "linecolor": "white",
             "minorgridcolor": "white",
             "startlinecolor": "#2a3f5f"
            },
            "baxis": {
             "endlinecolor": "#2a3f5f",
             "gridcolor": "white",
             "linecolor": "white",
             "minorgridcolor": "white",
             "startlinecolor": "#2a3f5f"
            },
            "type": "carpet"
           }
          ],
          "choropleth": [
           {
            "colorbar": {
             "outlinewidth": 0,
             "ticks": ""
            },
            "type": "choropleth"
           }
          ],
          "contour": [
           {
            "colorbar": {
             "outlinewidth": 0,
             "ticks": ""
            },
            "colorscale": [
             [
              0,
              "#0d0887"
             ],
             [
              0.1111111111111111,
              "#46039f"
             ],
             [
              0.2222222222222222,
              "#7201a8"
             ],
             [
              0.3333333333333333,
              "#9c179e"
             ],
             [
              0.4444444444444444,
              "#bd3786"
             ],
             [
              0.5555555555555556,
              "#d8576b"
             ],
             [
              0.6666666666666666,
              "#ed7953"
             ],
             [
              0.7777777777777778,
              "#fb9f3a"
             ],
             [
              0.8888888888888888,
              "#fdca26"
             ],
             [
              1,
              "#f0f921"
             ]
            ],
            "type": "contour"
           }
          ],
          "contourcarpet": [
           {
            "colorbar": {
             "outlinewidth": 0,
             "ticks": ""
            },
            "type": "contourcarpet"
           }
          ],
          "heatmap": [
           {
            "colorbar": {
             "outlinewidth": 0,
             "ticks": ""
            },
            "colorscale": [
             [
              0,
              "#0d0887"
             ],
             [
              0.1111111111111111,
              "#46039f"
             ],
             [
              0.2222222222222222,
              "#7201a8"
             ],
             [
              0.3333333333333333,
              "#9c179e"
             ],
             [
              0.4444444444444444,
              "#bd3786"
             ],
             [
              0.5555555555555556,
              "#d8576b"
             ],
             [
              0.6666666666666666,
              "#ed7953"
             ],
             [
              0.7777777777777778,
              "#fb9f3a"
             ],
             [
              0.8888888888888888,
              "#fdca26"
             ],
             [
              1,
              "#f0f921"
             ]
            ],
            "type": "heatmap"
           }
          ],
          "histogram": [
           {
            "marker": {
             "pattern": {
              "fillmode": "overlay",
              "size": 10,
              "solidity": 0.2
             }
            },
            "type": "histogram"
           }
          ],
          "histogram2d": [
           {
            "colorbar": {
             "outlinewidth": 0,
             "ticks": ""
            },
            "colorscale": [
             [
              0,
              "#0d0887"
             ],
             [
              0.1111111111111111,
              "#46039f"
             ],
             [
              0.2222222222222222,
              "#7201a8"
             ],
             [
              0.3333333333333333,
              "#9c179e"
             ],
             [
              0.4444444444444444,
              "#bd3786"
             ],
             [
              0.5555555555555556,
              "#d8576b"
             ],
             [
              0.6666666666666666,
              "#ed7953"
             ],
             [
              0.7777777777777778,
              "#fb9f3a"
             ],
             [
              0.8888888888888888,
              "#fdca26"
             ],
             [
              1,
              "#f0f921"
             ]
            ],
            "type": "histogram2d"
           }
          ],
          "histogram2dcontour": [
           {
            "colorbar": {
             "outlinewidth": 0,
             "ticks": ""
            },
            "colorscale": [
             [
              0,
              "#0d0887"
             ],
             [
              0.1111111111111111,
              "#46039f"
             ],
             [
              0.2222222222222222,
              "#7201a8"
             ],
             [
              0.3333333333333333,
              "#9c179e"
             ],
             [
              0.4444444444444444,
              "#bd3786"
             ],
             [
              0.5555555555555556,
              "#d8576b"
             ],
             [
              0.6666666666666666,
              "#ed7953"
             ],
             [
              0.7777777777777778,
              "#fb9f3a"
             ],
             [
              0.8888888888888888,
              "#fdca26"
             ],
             [
              1,
              "#f0f921"
             ]
            ],
            "type": "histogram2dcontour"
           }
          ],
          "mesh3d": [
           {
            "colorbar": {
             "outlinewidth": 0,
             "ticks": ""
            },
            "type": "mesh3d"
           }
          ],
          "parcoords": [
           {
            "line": {
             "colorbar": {
              "outlinewidth": 0,
              "ticks": ""
             }
            },
            "type": "parcoords"
           }
          ],
          "pie": [
           {
            "automargin": true,
            "type": "pie"
           }
          ],
          "scatter": [
           {
            "fillpattern": {
             "fillmode": "overlay",
             "size": 10,
             "solidity": 0.2
            },
            "type": "scatter"
           }
          ],
          "scatter3d": [
           {
            "line": {
             "colorbar": {
              "outlinewidth": 0,
              "ticks": ""
             }
            },
            "marker": {
             "colorbar": {
              "outlinewidth": 0,
              "ticks": ""
             }
            },
            "type": "scatter3d"
           }
          ],
          "scattercarpet": [
           {
            "marker": {
             "colorbar": {
              "outlinewidth": 0,
              "ticks": ""
             }
            },
            "type": "scattercarpet"
           }
          ],
          "scattergeo": [
           {
            "marker": {
             "colorbar": {
              "outlinewidth": 0,
              "ticks": ""
             }
            },
            "type": "scattergeo"
           }
          ],
          "scattergl": [
           {
            "marker": {
             "colorbar": {
              "outlinewidth": 0,
              "ticks": ""
             }
            },
            "type": "scattergl"
           }
          ],
          "scattermap": [
           {
            "marker": {
             "colorbar": {
              "outlinewidth": 0,
              "ticks": ""
             }
            },
            "type": "scattermap"
           }
          ],
          "scattermapbox": [
           {
            "marker": {
             "colorbar": {
              "outlinewidth": 0,
              "ticks": ""
             }
            },
            "type": "scattermapbox"
           }
          ],
          "scatterpolar": [
           {
            "marker": {
             "colorbar": {
              "outlinewidth": 0,
              "ticks": ""
             }
            },
            "type": "scatterpolar"
           }
          ],
          "scatterpolargl": [
           {
            "marker": {
             "colorbar": {
              "outlinewidth": 0,
              "ticks": ""
             }
            },
            "type": "scatterpolargl"
           }
          ],
          "scatterternary": [
           {
            "marker": {
             "colorbar": {
              "outlinewidth": 0,
              "ticks": ""
             }
            },
            "type": "scatterternary"
           }
          ],
          "surface": [
           {
            "colorbar": {
             "outlinewidth": 0,
             "ticks": ""
            },
            "colorscale": [
             [
              0,
              "#0d0887"
             ],
             [
              0.1111111111111111,
              "#46039f"
             ],
             [
              0.2222222222222222,
              "#7201a8"
             ],
             [
              0.3333333333333333,
              "#9c179e"
             ],
             [
              0.4444444444444444,
              "#bd3786"
             ],
             [
              0.5555555555555556,
              "#d8576b"
             ],
             [
              0.6666666666666666,
              "#ed7953"
             ],
             [
              0.7777777777777778,
              "#fb9f3a"
             ],
             [
              0.8888888888888888,
              "#fdca26"
             ],
             [
              1,
              "#f0f921"
             ]
            ],
            "type": "surface"
           }
          ],
          "table": [
           {
            "cells": {
             "fill": {
              "color": "#EBF0F8"
             },
             "line": {
              "color": "white"
             }
            },
            "header": {
             "fill": {
              "color": "#C8D4E3"
             },
             "line": {
              "color": "white"
             }
            },
            "type": "table"
           }
          ]
         },
         "layout": {
          "annotationdefaults": {
           "arrowcolor": "#2a3f5f",
           "arrowhead": 0,
           "arrowwidth": 1
          },
          "autotypenumbers": "strict",
          "coloraxis": {
           "colorbar": {
            "outlinewidth": 0,
            "ticks": ""
           }
          },
          "colorscale": {
           "diverging": [
            [
             0,
             "#8e0152"
            ],
            [
             0.1,
             "#c51b7d"
            ],
            [
             0.2,
             "#de77ae"
            ],
            [
             0.3,
             "#f1b6da"
            ],
            [
             0.4,
             "#fde0ef"
            ],
            [
             0.5,
             "#f7f7f7"
            ],
            [
             0.6,
             "#e6f5d0"
            ],
            [
             0.7,
             "#b8e186"
            ],
            [
             0.8,
             "#7fbc41"
            ],
            [
             0.9,
             "#4d9221"
            ],
            [
             1,
             "#276419"
            ]
           ],
           "sequential": [
            [
             0,
             "#0d0887"
            ],
            [
             0.1111111111111111,
             "#46039f"
            ],
            [
             0.2222222222222222,
             "#7201a8"
            ],
            [
             0.3333333333333333,
             "#9c179e"
            ],
            [
             0.4444444444444444,
             "#bd3786"
            ],
            [
             0.5555555555555556,
             "#d8576b"
            ],
            [
             0.6666666666666666,
             "#ed7953"
            ],
            [
             0.7777777777777778,
             "#fb9f3a"
            ],
            [
             0.8888888888888888,
             "#fdca26"
            ],
            [
             1,
             "#f0f921"
            ]
           ],
           "sequentialminus": [
            [
             0,
             "#0d0887"
            ],
            [
             0.1111111111111111,
             "#46039f"
            ],
            [
             0.2222222222222222,
             "#7201a8"
            ],
            [
             0.3333333333333333,
             "#9c179e"
            ],
            [
             0.4444444444444444,
             "#bd3786"
            ],
            [
             0.5555555555555556,
             "#d8576b"
            ],
            [
             0.6666666666666666,
             "#ed7953"
            ],
            [
             0.7777777777777778,
             "#fb9f3a"
            ],
            [
             0.8888888888888888,
             "#fdca26"
            ],
            [
             1,
             "#f0f921"
            ]
           ]
          },
          "colorway": [
           "#636efa",
           "#EF553B",
           "#00cc96",
           "#ab63fa",
           "#FFA15A",
           "#19d3f3",
           "#FF6692",
           "#B6E880",
           "#FF97FF",
           "#FECB52"
          ],
          "font": {
           "color": "#2a3f5f"
          },
          "geo": {
           "bgcolor": "white",
           "lakecolor": "white",
           "landcolor": "#E5ECF6",
           "showlakes": true,
           "showland": true,
           "subunitcolor": "white"
          },
          "hoverlabel": {
           "align": "left"
          },
          "hovermode": "closest",
          "mapbox": {
           "style": "light"
          },
          "paper_bgcolor": "white",
          "plot_bgcolor": "#E5ECF6",
          "polar": {
           "angularaxis": {
            "gridcolor": "white",
            "linecolor": "white",
            "ticks": ""
           },
           "bgcolor": "#E5ECF6",
           "radialaxis": {
            "gridcolor": "white",
            "linecolor": "white",
            "ticks": ""
           }
          },
          "scene": {
           "xaxis": {
            "backgroundcolor": "#E5ECF6",
            "gridcolor": "white",
            "gridwidth": 2,
            "linecolor": "white",
            "showbackground": true,
            "ticks": "",
            "zerolinecolor": "white"
           },
           "yaxis": {
            "backgroundcolor": "#E5ECF6",
            "gridcolor": "white",
            "gridwidth": 2,
            "linecolor": "white",
            "showbackground": true,
            "ticks": "",
            "zerolinecolor": "white"
           },
           "zaxis": {
            "backgroundcolor": "#E5ECF6",
            "gridcolor": "white",
            "gridwidth": 2,
            "linecolor": "white",
            "showbackground": true,
            "ticks": "",
            "zerolinecolor": "white"
           }
          },
          "shapedefaults": {
           "line": {
            "color": "#2a3f5f"
           }
          },
          "ternary": {
           "aaxis": {
            "gridcolor": "white",
            "linecolor": "white",
            "ticks": ""
           },
           "baxis": {
            "gridcolor": "white",
            "linecolor": "white",
            "ticks": ""
           },
           "bgcolor": "#E5ECF6",
           "caxis": {
            "gridcolor": "white",
            "linecolor": "white",
            "ticks": ""
           }
          },
          "title": {
           "x": 0.05
          },
          "xaxis": {
           "automargin": true,
           "gridcolor": "white",
           "linecolor": "white",
           "ticks": "",
           "title": {
            "standoff": 15
           },
           "zerolinecolor": "white",
           "zerolinewidth": 2
          },
          "yaxis": {
           "automargin": true,
           "gridcolor": "white",
           "linecolor": "white",
           "ticks": "",
           "title": {
            "standoff": 15
           },
           "zerolinecolor": "white",
           "zerolinewidth": 2
          }
         }
        },
        "title": {
         "text": "Key Feature Distributions"
        },
        "xaxis": {
         "anchor": "y",
         "domain": [
          0,
          0.2888888888888889
         ]
        },
        "xaxis2": {
         "anchor": "y2",
         "domain": [
          0.35555555555555557,
          0.6444444444444445
         ]
        },
        "xaxis3": {
         "anchor": "y3",
         "domain": [
          0.7111111111111111,
          1
         ]
        },
        "xaxis4": {
         "anchor": "y4",
         "domain": [
          0,
          0.2888888888888889
         ]
        },
        "xaxis5": {
         "anchor": "y5",
         "domain": [
          0.35555555555555557,
          0.6444444444444445
         ]
        },
        "xaxis6": {
         "anchor": "y6",
         "domain": [
          0.7111111111111111,
          1
         ]
        },
        "xaxis7": {
         "anchor": "y7",
         "domain": [
          0,
          0.2888888888888889
         ]
        },
        "xaxis8": {
         "anchor": "y8",
         "domain": [
          0.35555555555555557,
          0.6444444444444445
         ]
        },
        "xaxis9": {
         "anchor": "y9",
         "domain": [
          0.7111111111111111,
          1
         ]
        },
        "yaxis": {
         "anchor": "x",
         "domain": [
          0.7777777777777778,
          1
         ]
        },
        "yaxis2": {
         "anchor": "x2",
         "domain": [
          0.7777777777777778,
          1
         ]
        },
        "yaxis3": {
         "anchor": "x3",
         "domain": [
          0.7777777777777778,
          1
         ]
        },
        "yaxis4": {
         "anchor": "x4",
         "domain": [
          0.3888888888888889,
          0.6111111111111112
         ]
        },
        "yaxis5": {
         "anchor": "x5",
         "domain": [
          0.3888888888888889,
          0.6111111111111112
         ]
        },
        "yaxis6": {
         "anchor": "x6",
         "domain": [
          0.3888888888888889,
          0.6111111111111112
         ]
        },
        "yaxis7": {
         "anchor": "x7",
         "domain": [
          0,
          0.22222222222222224
         ]
        },
        "yaxis8": {
         "anchor": "x8",
         "domain": [
          0,
          0.22222222222222224
         ]
        },
        "yaxis9": {
         "anchor": "x9",
         "domain": [
          0,
          0.22222222222222224
         ]
        }
       }
      }
     },
     "metadata": {},
     "output_type": "display_data"
    }
   ],
   "source": [
    "# Key feature distributions\n",
    "key_features = ['duration_seconds', 'file_size_mb', 'tempo', 'spectral_centroid_mean', \n",
    "                'onset_density', 'harmonic_ratio', 'metadata_completeness']\n",
    "\n",
    "fig = make_subplots(rows=3, cols=3, \n",
    "                    subplot_titles=[f for f in key_features if f in numeric_cols][:9])\n",
    "\n",
    "for i, feature in enumerate([f for f in key_features if f in numeric_cols][:9]):\n",
    "    row = i // 3 + 1\n",
    "    col = i % 3 + 1\n",
    "    \n",
    "    values = df_features_clean[feature].dropna()\n",
    "    fig.add_trace(\n",
    "        go.Histogram(x=values, name=feature, showlegend=False),\n",
    "        row=row, col=col\n",
    "    )\n",
    "\n",
    "fig.update_layout(height=800, title_text=\"Key Feature Distributions\")\n",
    "fig.show()"
   ]
  },
  {
   "cell_type": "code",
   "execution_count": 8,
   "metadata": {},
   "outputs": [
    {
     "data": {
      "application/vnd.plotly.v1+json": {
       "config": {
        "plotlyServerURL": "https://plot.ly"
       },
       "data": [
        {
         "coloraxis": "coloraxis",
         "hovertemplate": "x: %{x}<br>y: %{y}<br>Correlation: %{z}<extra></extra>",
         "name": "0",
         "type": "heatmap",
         "x": [
          "duration_seconds",
          "file_size_mb",
          "tempo",
          "spectral_centroid_mean",
          "onset_density",
          "harmonic_ratio",
          "metadata_completeness"
         ],
         "xaxis": "x",
         "y": [
          "duration_seconds",
          "file_size_mb",
          "tempo",
          "spectral_centroid_mean",
          "onset_density",
          "harmonic_ratio",
          "metadata_completeness"
         ],
         "yaxis": "y",
         "z": {
          "bdata": "AAAAAAAA8D8DSCuw7nzrP20/xyeQ7Z0/yMAPVwD6nr/iXFawUMfCv/7hup832Mk/LDwwvh642z8DSCuw7nzrPwAAAAAAAPA/Hyfhj7rGtD8qTHear6+yv2v4oT9KB9G/aaxvesyL0z+sKm0tCFPQP20/xyeQ7Z0/Hyfhj7rGtD8AAAAAAADwPwrY6hiYt80/IshkYYTour8moexKWzujP+MwZjki2KW/yMAPVwD6nr8qTHear6+yvwrY6hiYt80/AAAAAAAA8D9fFKhS3Fa4P/UZ/Hhzd+C/oBYWTGiFlj/iXFawUMfCv2v4oT9KB9G/IshkYYTour9fFKhS3Fa4PwAAAAAAAPA/mviHB4GFyb9fleq4dMenv/7hup832Mk/aaxvesyL0z8moexKWzujP/UZ/Hhzd+C/mviHB4GFyb8AAAAAAADwP6SuEVCB57k/LDwwvh642z+sKm0tCFPQP+MwZjki2KW/oBYWTGiFlj9fleq4dMenv6SuEVCB57k/AAAAAAAA8D8=",
          "dtype": "f8",
          "shape": "7, 7"
         }
        }
       ],
       "layout": {
        "coloraxis": {
         "cmax": 1,
         "cmin": -1,
         "colorbar": {
          "title": {
           "text": "Correlation"
          }
         },
         "colorscale": [
          [
           0,
           "rgb(5,48,97)"
          ],
          [
           0.1,
           "rgb(33,102,172)"
          ],
          [
           0.2,
           "rgb(67,147,195)"
          ],
          [
           0.3,
           "rgb(146,197,222)"
          ],
          [
           0.4,
           "rgb(209,229,240)"
          ],
          [
           0.5,
           "rgb(247,247,247)"
          ],
          [
           0.6,
           "rgb(253,219,199)"
          ],
          [
           0.7,
           "rgb(244,165,130)"
          ],
          [
           0.8,
           "rgb(214,96,77)"
          ],
          [
           0.9,
           "rgb(178,24,43)"
          ],
          [
           1,
           "rgb(103,0,31)"
          ]
         ]
        },
        "height": 800,
        "template": {
         "data": {
          "bar": [
           {
            "error_x": {
             "color": "#2a3f5f"
            },
            "error_y": {
             "color": "#2a3f5f"
            },
            "marker": {
             "line": {
              "color": "#E5ECF6",
              "width": 0.5
             },
             "pattern": {
              "fillmode": "overlay",
              "size": 10,
              "solidity": 0.2
             }
            },
            "type": "bar"
           }
          ],
          "barpolar": [
           {
            "marker": {
             "line": {
              "color": "#E5ECF6",
              "width": 0.5
             },
             "pattern": {
              "fillmode": "overlay",
              "size": 10,
              "solidity": 0.2
             }
            },
            "type": "barpolar"
           }
          ],
          "carpet": [
           {
            "aaxis": {
             "endlinecolor": "#2a3f5f",
             "gridcolor": "white",
             "linecolor": "white",
             "minorgridcolor": "white",
             "startlinecolor": "#2a3f5f"
            },
            "baxis": {
             "endlinecolor": "#2a3f5f",
             "gridcolor": "white",
             "linecolor": "white",
             "minorgridcolor": "white",
             "startlinecolor": "#2a3f5f"
            },
            "type": "carpet"
           }
          ],
          "choropleth": [
           {
            "colorbar": {
             "outlinewidth": 0,
             "ticks": ""
            },
            "type": "choropleth"
           }
          ],
          "contour": [
           {
            "colorbar": {
             "outlinewidth": 0,
             "ticks": ""
            },
            "colorscale": [
             [
              0,
              "#0d0887"
             ],
             [
              0.1111111111111111,
              "#46039f"
             ],
             [
              0.2222222222222222,
              "#7201a8"
             ],
             [
              0.3333333333333333,
              "#9c179e"
             ],
             [
              0.4444444444444444,
              "#bd3786"
             ],
             [
              0.5555555555555556,
              "#d8576b"
             ],
             [
              0.6666666666666666,
              "#ed7953"
             ],
             [
              0.7777777777777778,
              "#fb9f3a"
             ],
             [
              0.8888888888888888,
              "#fdca26"
             ],
             [
              1,
              "#f0f921"
             ]
            ],
            "type": "contour"
           }
          ],
          "contourcarpet": [
           {
            "colorbar": {
             "outlinewidth": 0,
             "ticks": ""
            },
            "type": "contourcarpet"
           }
          ],
          "heatmap": [
           {
            "colorbar": {
             "outlinewidth": 0,
             "ticks": ""
            },
            "colorscale": [
             [
              0,
              "#0d0887"
             ],
             [
              0.1111111111111111,
              "#46039f"
             ],
             [
              0.2222222222222222,
              "#7201a8"
             ],
             [
              0.3333333333333333,
              "#9c179e"
             ],
             [
              0.4444444444444444,
              "#bd3786"
             ],
             [
              0.5555555555555556,
              "#d8576b"
             ],
             [
              0.6666666666666666,
              "#ed7953"
             ],
             [
              0.7777777777777778,
              "#fb9f3a"
             ],
             [
              0.8888888888888888,
              "#fdca26"
             ],
             [
              1,
              "#f0f921"
             ]
            ],
            "type": "heatmap"
           }
          ],
          "histogram": [
           {
            "marker": {
             "pattern": {
              "fillmode": "overlay",
              "size": 10,
              "solidity": 0.2
             }
            },
            "type": "histogram"
           }
          ],
          "histogram2d": [
           {
            "colorbar": {
             "outlinewidth": 0,
             "ticks": ""
            },
            "colorscale": [
             [
              0,
              "#0d0887"
             ],
             [
              0.1111111111111111,
              "#46039f"
             ],
             [
              0.2222222222222222,
              "#7201a8"
             ],
             [
              0.3333333333333333,
              "#9c179e"
             ],
             [
              0.4444444444444444,
              "#bd3786"
             ],
             [
              0.5555555555555556,
              "#d8576b"
             ],
             [
              0.6666666666666666,
              "#ed7953"
             ],
             [
              0.7777777777777778,
              "#fb9f3a"
             ],
             [
              0.8888888888888888,
              "#fdca26"
             ],
             [
              1,
              "#f0f921"
             ]
            ],
            "type": "histogram2d"
           }
          ],
          "histogram2dcontour": [
           {
            "colorbar": {
             "outlinewidth": 0,
             "ticks": ""
            },
            "colorscale": [
             [
              0,
              "#0d0887"
             ],
             [
              0.1111111111111111,
              "#46039f"
             ],
             [
              0.2222222222222222,
              "#7201a8"
             ],
             [
              0.3333333333333333,
              "#9c179e"
             ],
             [
              0.4444444444444444,
              "#bd3786"
             ],
             [
              0.5555555555555556,
              "#d8576b"
             ],
             [
              0.6666666666666666,
              "#ed7953"
             ],
             [
              0.7777777777777778,
              "#fb9f3a"
             ],
             [
              0.8888888888888888,
              "#fdca26"
             ],
             [
              1,
              "#f0f921"
             ]
            ],
            "type": "histogram2dcontour"
           }
          ],
          "mesh3d": [
           {
            "colorbar": {
             "outlinewidth": 0,
             "ticks": ""
            },
            "type": "mesh3d"
           }
          ],
          "parcoords": [
           {
            "line": {
             "colorbar": {
              "outlinewidth": 0,
              "ticks": ""
             }
            },
            "type": "parcoords"
           }
          ],
          "pie": [
           {
            "automargin": true,
            "type": "pie"
           }
          ],
          "scatter": [
           {
            "fillpattern": {
             "fillmode": "overlay",
             "size": 10,
             "solidity": 0.2
            },
            "type": "scatter"
           }
          ],
          "scatter3d": [
           {
            "line": {
             "colorbar": {
              "outlinewidth": 0,
              "ticks": ""
             }
            },
            "marker": {
             "colorbar": {
              "outlinewidth": 0,
              "ticks": ""
             }
            },
            "type": "scatter3d"
           }
          ],
          "scattercarpet": [
           {
            "marker": {
             "colorbar": {
              "outlinewidth": 0,
              "ticks": ""
             }
            },
            "type": "scattercarpet"
           }
          ],
          "scattergeo": [
           {
            "marker": {
             "colorbar": {
              "outlinewidth": 0,
              "ticks": ""
             }
            },
            "type": "scattergeo"
           }
          ],
          "scattergl": [
           {
            "marker": {
             "colorbar": {
              "outlinewidth": 0,
              "ticks": ""
             }
            },
            "type": "scattergl"
           }
          ],
          "scattermap": [
           {
            "marker": {
             "colorbar": {
              "outlinewidth": 0,
              "ticks": ""
             }
            },
            "type": "scattermap"
           }
          ],
          "scattermapbox": [
           {
            "marker": {
             "colorbar": {
              "outlinewidth": 0,
              "ticks": ""
             }
            },
            "type": "scattermapbox"
           }
          ],
          "scatterpolar": [
           {
            "marker": {
             "colorbar": {
              "outlinewidth": 0,
              "ticks": ""
             }
            },
            "type": "scatterpolar"
           }
          ],
          "scatterpolargl": [
           {
            "marker": {
             "colorbar": {
              "outlinewidth": 0,
              "ticks": ""
             }
            },
            "type": "scatterpolargl"
           }
          ],
          "scatterternary": [
           {
            "marker": {
             "colorbar": {
              "outlinewidth": 0,
              "ticks": ""
             }
            },
            "type": "scatterternary"
           }
          ],
          "surface": [
           {
            "colorbar": {
             "outlinewidth": 0,
             "ticks": ""
            },
            "colorscale": [
             [
              0,
              "#0d0887"
             ],
             [
              0.1111111111111111,
              "#46039f"
             ],
             [
              0.2222222222222222,
              "#7201a8"
             ],
             [
              0.3333333333333333,
              "#9c179e"
             ],
             [
              0.4444444444444444,
              "#bd3786"
             ],
             [
              0.5555555555555556,
              "#d8576b"
             ],
             [
              0.6666666666666666,
              "#ed7953"
             ],
             [
              0.7777777777777778,
              "#fb9f3a"
             ],
             [
              0.8888888888888888,
              "#fdca26"
             ],
             [
              1,
              "#f0f921"
             ]
            ],
            "type": "surface"
           }
          ],
          "table": [
           {
            "cells": {
             "fill": {
              "color": "#EBF0F8"
             },
             "line": {
              "color": "white"
             }
            },
            "header": {
             "fill": {
              "color": "#C8D4E3"
             },
             "line": {
              "color": "white"
             }
            },
            "type": "table"
           }
          ]
         },
         "layout": {
          "annotationdefaults": {
           "arrowcolor": "#2a3f5f",
           "arrowhead": 0,
           "arrowwidth": 1
          },
          "autotypenumbers": "strict",
          "coloraxis": {
           "colorbar": {
            "outlinewidth": 0,
            "ticks": ""
           }
          },
          "colorscale": {
           "diverging": [
            [
             0,
             "#8e0152"
            ],
            [
             0.1,
             "#c51b7d"
            ],
            [
             0.2,
             "#de77ae"
            ],
            [
             0.3,
             "#f1b6da"
            ],
            [
             0.4,
             "#fde0ef"
            ],
            [
             0.5,
             "#f7f7f7"
            ],
            [
             0.6,
             "#e6f5d0"
            ],
            [
             0.7,
             "#b8e186"
            ],
            [
             0.8,
             "#7fbc41"
            ],
            [
             0.9,
             "#4d9221"
            ],
            [
             1,
             "#276419"
            ]
           ],
           "sequential": [
            [
             0,
             "#0d0887"
            ],
            [
             0.1111111111111111,
             "#46039f"
            ],
            [
             0.2222222222222222,
             "#7201a8"
            ],
            [
             0.3333333333333333,
             "#9c179e"
            ],
            [
             0.4444444444444444,
             "#bd3786"
            ],
            [
             0.5555555555555556,
             "#d8576b"
            ],
            [
             0.6666666666666666,
             "#ed7953"
            ],
            [
             0.7777777777777778,
             "#fb9f3a"
            ],
            [
             0.8888888888888888,
             "#fdca26"
            ],
            [
             1,
             "#f0f921"
            ]
           ],
           "sequentialminus": [
            [
             0,
             "#0d0887"
            ],
            [
             0.1111111111111111,
             "#46039f"
            ],
            [
             0.2222222222222222,
             "#7201a8"
            ],
            [
             0.3333333333333333,
             "#9c179e"
            ],
            [
             0.4444444444444444,
             "#bd3786"
            ],
            [
             0.5555555555555556,
             "#d8576b"
            ],
            [
             0.6666666666666666,
             "#ed7953"
            ],
            [
             0.7777777777777778,
             "#fb9f3a"
            ],
            [
             0.8888888888888888,
             "#fdca26"
            ],
            [
             1,
             "#f0f921"
            ]
           ]
          },
          "colorway": [
           "#636efa",
           "#EF553B",
           "#00cc96",
           "#ab63fa",
           "#FFA15A",
           "#19d3f3",
           "#FF6692",
           "#B6E880",
           "#FF97FF",
           "#FECB52"
          ],
          "font": {
           "color": "#2a3f5f"
          },
          "geo": {
           "bgcolor": "white",
           "lakecolor": "white",
           "landcolor": "#E5ECF6",
           "showlakes": true,
           "showland": true,
           "subunitcolor": "white"
          },
          "hoverlabel": {
           "align": "left"
          },
          "hovermode": "closest",
          "mapbox": {
           "style": "light"
          },
          "paper_bgcolor": "white",
          "plot_bgcolor": "#E5ECF6",
          "polar": {
           "angularaxis": {
            "gridcolor": "white",
            "linecolor": "white",
            "ticks": ""
           },
           "bgcolor": "#E5ECF6",
           "radialaxis": {
            "gridcolor": "white",
            "linecolor": "white",
            "ticks": ""
           }
          },
          "scene": {
           "xaxis": {
            "backgroundcolor": "#E5ECF6",
            "gridcolor": "white",
            "gridwidth": 2,
            "linecolor": "white",
            "showbackground": true,
            "ticks": "",
            "zerolinecolor": "white"
           },
           "yaxis": {
            "backgroundcolor": "#E5ECF6",
            "gridcolor": "white",
            "gridwidth": 2,
            "linecolor": "white",
            "showbackground": true,
            "ticks": "",
            "zerolinecolor": "white"
           },
           "zaxis": {
            "backgroundcolor": "#E5ECF6",
            "gridcolor": "white",
            "gridwidth": 2,
            "linecolor": "white",
            "showbackground": true,
            "ticks": "",
            "zerolinecolor": "white"
           }
          },
          "shapedefaults": {
           "line": {
            "color": "#2a3f5f"
           }
          },
          "ternary": {
           "aaxis": {
            "gridcolor": "white",
            "linecolor": "white",
            "ticks": ""
           },
           "baxis": {
            "gridcolor": "white",
            "linecolor": "white",
            "ticks": ""
           },
           "bgcolor": "#E5ECF6",
           "caxis": {
            "gridcolor": "white",
            "linecolor": "white",
            "ticks": ""
           }
          },
          "title": {
           "x": 0.05
          },
          "xaxis": {
           "automargin": true,
           "gridcolor": "white",
           "linecolor": "white",
           "ticks": "",
           "title": {
            "standoff": 15
           },
           "zerolinecolor": "white",
           "zerolinewidth": 2
          },
          "yaxis": {
           "automargin": true,
           "gridcolor": "white",
           "linecolor": "white",
           "ticks": "",
           "title": {
            "standoff": 15
           },
           "zerolinecolor": "white",
           "zerolinewidth": 2
          }
         }
        },
        "title": {
         "text": "Feature Correlation Matrix"
        },
        "width": 800,
        "xaxis": {
         "anchor": "y",
         "constrain": "domain",
         "domain": [
          0,
          1
         ],
         "scaleanchor": "y"
        },
        "yaxis": {
         "anchor": "x",
         "autorange": "reversed",
         "constrain": "domain",
         "domain": [
          0,
          1
         ]
        }
       }
      }
     },
     "metadata": {},
     "output_type": "display_data"
    }
   ],
   "source": [
    "# Correlation matrix for key features\n",
    "key_numeric = [f for f in key_features if f in numeric_cols]\n",
    "if len(key_numeric) > 0:\n",
    "    corr_matrix = df_features_clean[key_numeric].corr()\n",
    "    \n",
    "    fig = px.imshow(corr_matrix, \n",
    "                    labels=dict(color=\"Correlation\"),\n",
    "                    title=\"Feature Correlation Matrix\",\n",
    "                    color_continuous_scale='RdBu_r',\n",
    "                    zmin=-1, zmax=1)\n",
    "    fig.update_layout(width=800, height=800)\n",
    "    fig.show()"
   ]
  },
  {
   "cell_type": "markdown",
   "metadata": {},
   "source": [
    "## 5. Dimensionality Reduction"
   ]
  },
  {
   "cell_type": "code",
   "execution_count": 9,
   "metadata": {},
   "outputs": [
    {
     "data": {
      "application/vnd.plotly.v1+json": {
       "config": {
        "plotlyServerURL": "https://plot.ly"
       },
       "data": [
        {
         "mode": "lines+markers",
         "name": "Individual",
         "type": "scatter",
         "x": [
          1,
          2,
          3,
          4,
          5,
          6,
          7,
          8,
          9,
          10,
          11,
          12,
          13,
          14,
          15,
          16,
          17,
          18,
          19,
          20,
          21,
          22,
          23,
          24,
          25,
          26,
          27,
          28,
          29,
          30,
          31,
          32,
          33,
          34,
          35,
          36,
          37,
          38,
          39,
          40,
          41,
          42,
          43,
          44,
          45,
          46,
          47,
          48,
          49,
          50
         ],
         "y": {
          "bdata": "HjxZzK5PxT/y8TLDHQu+P6IuLV4YNrk/nQSsYYH3sT95FgA2fH2pP3JBM0noa6U/9Z6Ft1Dtnj+2nHkBMV2aP9g+p8OkqJg/geKzV0Y1lD/W7747McmSPzghYe5TppE/MYhvyqdPkT9T6mMiOtqOP/n69fNTr40/eHPOTpiVij9eLrpIjoiIP824BJaMlYc/Sk58Cf//hT96gt6sCt2EP9KhiMnA/oM/K4p9omFBgj9wEQLlBbuBPwgU3MwJgoE/XM8l1HSNgD9MVKvTx/V/P1/S5FnTlH8/KWE+ApPdfD+EQpV19T57P5giWSjwW3o/ziSA//4Fej9yjlJOtuN3P+8sTEoq63Y/aXJBWZnSdT9csxzNJqp0P4BrezzoXXQ/EwyKizC7cz9fsZ0VDflyP5A4RVhlYnI/ArxQpUnwcD8o5uhDgwpwP+xXUZ4KhG8//INfeoVGbj9jL+vfXA9tP7Twsl30K2w/dWXwXBi4aj/JsDZo2v9pP0GUrJWdg2k/LKmTSt95aD8EPaky6FBnPw==",
          "dtype": "f8"
         }
        },
        {
         "mode": "lines+markers",
         "name": "Cumulative",
         "type": "scatter",
         "x": [
          1,
          2,
          3,
          4,
          5,
          6,
          7,
          8,
          9,
          10,
          11,
          12,
          13,
          14,
          15,
          16,
          17,
          18,
          19,
          20,
          21,
          22,
          23,
          24,
          25,
          26,
          27,
          28,
          29,
          30,
          31,
          32,
          33,
          34,
          35,
          36,
          37,
          38,
          39,
          40,
          41,
          42,
          43,
          44,
          45,
          46,
          47,
          48,
          49,
          50
         ],
         "y": {
          "bdata": "HjxZzK5PxT+MWvnWnirSPzSmhO4keNg/W6fvRgX23D8V1ddm2hLgPywJa+uYaeE/JDYncQNh4j8KAzP57DPjPwE9UB8y+eM/FdwNUtya5D+U0+vbJTHlP57cXntYvuU/4FiyudVI5j+J6DuiPsTmP3XAC/L7Ouc/Q/pGU1Kl5z/84mmMdAfoP9/1wb7KZeg/GOfnusq96D8iYZvlPhHpP6mDweg5Yek/0nlLbz+q6T8Ygt+GK/HpP2jyEq4zN+o/pYljgWl56j9O4AoRVbnqP/Opvrd++Oo/tSbD3Tky6z86Ua7It2jrP38D/6hvnes/yQP+pnvR6z/mqJoTQwHsP0BBL2gZL+w/JcThmr5a7D+M/XvoEoTsP2P09LjOrOw/ewgMGkXU7D/eQzc0N/rsP0/O5/77Hu0/x28yktxA7T+TQbqY8WDtP+uSWKN1gO0/b/LSKLye7T+e3bKFy7vtP4+QEHr31+0/9IBtkq/y7T+lt9VsrwzuPzlkawozJu4/4ve16aw+7j8foejR/VXuPw==",
          "dtype": "f8"
         }
        }
       ],
       "layout": {
        "template": {
         "data": {
          "bar": [
           {
            "error_x": {
             "color": "#2a3f5f"
            },
            "error_y": {
             "color": "#2a3f5f"
            },
            "marker": {
             "line": {
              "color": "#E5ECF6",
              "width": 0.5
             },
             "pattern": {
              "fillmode": "overlay",
              "size": 10,
              "solidity": 0.2
             }
            },
            "type": "bar"
           }
          ],
          "barpolar": [
           {
            "marker": {
             "line": {
              "color": "#E5ECF6",
              "width": 0.5
             },
             "pattern": {
              "fillmode": "overlay",
              "size": 10,
              "solidity": 0.2
             }
            },
            "type": "barpolar"
           }
          ],
          "carpet": [
           {
            "aaxis": {
             "endlinecolor": "#2a3f5f",
             "gridcolor": "white",
             "linecolor": "white",
             "minorgridcolor": "white",
             "startlinecolor": "#2a3f5f"
            },
            "baxis": {
             "endlinecolor": "#2a3f5f",
             "gridcolor": "white",
             "linecolor": "white",
             "minorgridcolor": "white",
             "startlinecolor": "#2a3f5f"
            },
            "type": "carpet"
           }
          ],
          "choropleth": [
           {
            "colorbar": {
             "outlinewidth": 0,
             "ticks": ""
            },
            "type": "choropleth"
           }
          ],
          "contour": [
           {
            "colorbar": {
             "outlinewidth": 0,
             "ticks": ""
            },
            "colorscale": [
             [
              0,
              "#0d0887"
             ],
             [
              0.1111111111111111,
              "#46039f"
             ],
             [
              0.2222222222222222,
              "#7201a8"
             ],
             [
              0.3333333333333333,
              "#9c179e"
             ],
             [
              0.4444444444444444,
              "#bd3786"
             ],
             [
              0.5555555555555556,
              "#d8576b"
             ],
             [
              0.6666666666666666,
              "#ed7953"
             ],
             [
              0.7777777777777778,
              "#fb9f3a"
             ],
             [
              0.8888888888888888,
              "#fdca26"
             ],
             [
              1,
              "#f0f921"
             ]
            ],
            "type": "contour"
           }
          ],
          "contourcarpet": [
           {
            "colorbar": {
             "outlinewidth": 0,
             "ticks": ""
            },
            "type": "contourcarpet"
           }
          ],
          "heatmap": [
           {
            "colorbar": {
             "outlinewidth": 0,
             "ticks": ""
            },
            "colorscale": [
             [
              0,
              "#0d0887"
             ],
             [
              0.1111111111111111,
              "#46039f"
             ],
             [
              0.2222222222222222,
              "#7201a8"
             ],
             [
              0.3333333333333333,
              "#9c179e"
             ],
             [
              0.4444444444444444,
              "#bd3786"
             ],
             [
              0.5555555555555556,
              "#d8576b"
             ],
             [
              0.6666666666666666,
              "#ed7953"
             ],
             [
              0.7777777777777778,
              "#fb9f3a"
             ],
             [
              0.8888888888888888,
              "#fdca26"
             ],
             [
              1,
              "#f0f921"
             ]
            ],
            "type": "heatmap"
           }
          ],
          "histogram": [
           {
            "marker": {
             "pattern": {
              "fillmode": "overlay",
              "size": 10,
              "solidity": 0.2
             }
            },
            "type": "histogram"
           }
          ],
          "histogram2d": [
           {
            "colorbar": {
             "outlinewidth": 0,
             "ticks": ""
            },
            "colorscale": [
             [
              0,
              "#0d0887"
             ],
             [
              0.1111111111111111,
              "#46039f"
             ],
             [
              0.2222222222222222,
              "#7201a8"
             ],
             [
              0.3333333333333333,
              "#9c179e"
             ],
             [
              0.4444444444444444,
              "#bd3786"
             ],
             [
              0.5555555555555556,
              "#d8576b"
             ],
             [
              0.6666666666666666,
              "#ed7953"
             ],
             [
              0.7777777777777778,
              "#fb9f3a"
             ],
             [
              0.8888888888888888,
              "#fdca26"
             ],
             [
              1,
              "#f0f921"
             ]
            ],
            "type": "histogram2d"
           }
          ],
          "histogram2dcontour": [
           {
            "colorbar": {
             "outlinewidth": 0,
             "ticks": ""
            },
            "colorscale": [
             [
              0,
              "#0d0887"
             ],
             [
              0.1111111111111111,
              "#46039f"
             ],
             [
              0.2222222222222222,
              "#7201a8"
             ],
             [
              0.3333333333333333,
              "#9c179e"
             ],
             [
              0.4444444444444444,
              "#bd3786"
             ],
             [
              0.5555555555555556,
              "#d8576b"
             ],
             [
              0.6666666666666666,
              "#ed7953"
             ],
             [
              0.7777777777777778,
              "#fb9f3a"
             ],
             [
              0.8888888888888888,
              "#fdca26"
             ],
             [
              1,
              "#f0f921"
             ]
            ],
            "type": "histogram2dcontour"
           }
          ],
          "mesh3d": [
           {
            "colorbar": {
             "outlinewidth": 0,
             "ticks": ""
            },
            "type": "mesh3d"
           }
          ],
          "parcoords": [
           {
            "line": {
             "colorbar": {
              "outlinewidth": 0,
              "ticks": ""
             }
            },
            "type": "parcoords"
           }
          ],
          "pie": [
           {
            "automargin": true,
            "type": "pie"
           }
          ],
          "scatter": [
           {
            "fillpattern": {
             "fillmode": "overlay",
             "size": 10,
             "solidity": 0.2
            },
            "type": "scatter"
           }
          ],
          "scatter3d": [
           {
            "line": {
             "colorbar": {
              "outlinewidth": 0,
              "ticks": ""
             }
            },
            "marker": {
             "colorbar": {
              "outlinewidth": 0,
              "ticks": ""
             }
            },
            "type": "scatter3d"
           }
          ],
          "scattercarpet": [
           {
            "marker": {
             "colorbar": {
              "outlinewidth": 0,
              "ticks": ""
             }
            },
            "type": "scattercarpet"
           }
          ],
          "scattergeo": [
           {
            "marker": {
             "colorbar": {
              "outlinewidth": 0,
              "ticks": ""
             }
            },
            "type": "scattergeo"
           }
          ],
          "scattergl": [
           {
            "marker": {
             "colorbar": {
              "outlinewidth": 0,
              "ticks": ""
             }
            },
            "type": "scattergl"
           }
          ],
          "scattermap": [
           {
            "marker": {
             "colorbar": {
              "outlinewidth": 0,
              "ticks": ""
             }
            },
            "type": "scattermap"
           }
          ],
          "scattermapbox": [
           {
            "marker": {
             "colorbar": {
              "outlinewidth": 0,
              "ticks": ""
             }
            },
            "type": "scattermapbox"
           }
          ],
          "scatterpolar": [
           {
            "marker": {
             "colorbar": {
              "outlinewidth": 0,
              "ticks": ""
             }
            },
            "type": "scatterpolar"
           }
          ],
          "scatterpolargl": [
           {
            "marker": {
             "colorbar": {
              "outlinewidth": 0,
              "ticks": ""
             }
            },
            "type": "scatterpolargl"
           }
          ],
          "scatterternary": [
           {
            "marker": {
             "colorbar": {
              "outlinewidth": 0,
              "ticks": ""
             }
            },
            "type": "scatterternary"
           }
          ],
          "surface": [
           {
            "colorbar": {
             "outlinewidth": 0,
             "ticks": ""
            },
            "colorscale": [
             [
              0,
              "#0d0887"
             ],
             [
              0.1111111111111111,
              "#46039f"
             ],
             [
              0.2222222222222222,
              "#7201a8"
             ],
             [
              0.3333333333333333,
              "#9c179e"
             ],
             [
              0.4444444444444444,
              "#bd3786"
             ],
             [
              0.5555555555555556,
              "#d8576b"
             ],
             [
              0.6666666666666666,
              "#ed7953"
             ],
             [
              0.7777777777777778,
              "#fb9f3a"
             ],
             [
              0.8888888888888888,
              "#fdca26"
             ],
             [
              1,
              "#f0f921"
             ]
            ],
            "type": "surface"
           }
          ],
          "table": [
           {
            "cells": {
             "fill": {
              "color": "#EBF0F8"
             },
             "line": {
              "color": "white"
             }
            },
            "header": {
             "fill": {
              "color": "#C8D4E3"
             },
             "line": {
              "color": "white"
             }
            },
            "type": "table"
           }
          ]
         },
         "layout": {
          "annotationdefaults": {
           "arrowcolor": "#2a3f5f",
           "arrowhead": 0,
           "arrowwidth": 1
          },
          "autotypenumbers": "strict",
          "coloraxis": {
           "colorbar": {
            "outlinewidth": 0,
            "ticks": ""
           }
          },
          "colorscale": {
           "diverging": [
            [
             0,
             "#8e0152"
            ],
            [
             0.1,
             "#c51b7d"
            ],
            [
             0.2,
             "#de77ae"
            ],
            [
             0.3,
             "#f1b6da"
            ],
            [
             0.4,
             "#fde0ef"
            ],
            [
             0.5,
             "#f7f7f7"
            ],
            [
             0.6,
             "#e6f5d0"
            ],
            [
             0.7,
             "#b8e186"
            ],
            [
             0.8,
             "#7fbc41"
            ],
            [
             0.9,
             "#4d9221"
            ],
            [
             1,
             "#276419"
            ]
           ],
           "sequential": [
            [
             0,
             "#0d0887"
            ],
            [
             0.1111111111111111,
             "#46039f"
            ],
            [
             0.2222222222222222,
             "#7201a8"
            ],
            [
             0.3333333333333333,
             "#9c179e"
            ],
            [
             0.4444444444444444,
             "#bd3786"
            ],
            [
             0.5555555555555556,
             "#d8576b"
            ],
            [
             0.6666666666666666,
             "#ed7953"
            ],
            [
             0.7777777777777778,
             "#fb9f3a"
            ],
            [
             0.8888888888888888,
             "#fdca26"
            ],
            [
             1,
             "#f0f921"
            ]
           ],
           "sequentialminus": [
            [
             0,
             "#0d0887"
            ],
            [
             0.1111111111111111,
             "#46039f"
            ],
            [
             0.2222222222222222,
             "#7201a8"
            ],
            [
             0.3333333333333333,
             "#9c179e"
            ],
            [
             0.4444444444444444,
             "#bd3786"
            ],
            [
             0.5555555555555556,
             "#d8576b"
            ],
            [
             0.6666666666666666,
             "#ed7953"
            ],
            [
             0.7777777777777778,
             "#fb9f3a"
            ],
            [
             0.8888888888888888,
             "#fdca26"
            ],
            [
             1,
             "#f0f921"
            ]
           ]
          },
          "colorway": [
           "#636efa",
           "#EF553B",
           "#00cc96",
           "#ab63fa",
           "#FFA15A",
           "#19d3f3",
           "#FF6692",
           "#B6E880",
           "#FF97FF",
           "#FECB52"
          ],
          "font": {
           "color": "#2a3f5f"
          },
          "geo": {
           "bgcolor": "white",
           "lakecolor": "white",
           "landcolor": "#E5ECF6",
           "showlakes": true,
           "showland": true,
           "subunitcolor": "white"
          },
          "hoverlabel": {
           "align": "left"
          },
          "hovermode": "closest",
          "mapbox": {
           "style": "light"
          },
          "paper_bgcolor": "white",
          "plot_bgcolor": "#E5ECF6",
          "polar": {
           "angularaxis": {
            "gridcolor": "white",
            "linecolor": "white",
            "ticks": ""
           },
           "bgcolor": "#E5ECF6",
           "radialaxis": {
            "gridcolor": "white",
            "linecolor": "white",
            "ticks": ""
           }
          },
          "scene": {
           "xaxis": {
            "backgroundcolor": "#E5ECF6",
            "gridcolor": "white",
            "gridwidth": 2,
            "linecolor": "white",
            "showbackground": true,
            "ticks": "",
            "zerolinecolor": "white"
           },
           "yaxis": {
            "backgroundcolor": "#E5ECF6",
            "gridcolor": "white",
            "gridwidth": 2,
            "linecolor": "white",
            "showbackground": true,
            "ticks": "",
            "zerolinecolor": "white"
           },
           "zaxis": {
            "backgroundcolor": "#E5ECF6",
            "gridcolor": "white",
            "gridwidth": 2,
            "linecolor": "white",
            "showbackground": true,
            "ticks": "",
            "zerolinecolor": "white"
           }
          },
          "shapedefaults": {
           "line": {
            "color": "#2a3f5f"
           }
          },
          "ternary": {
           "aaxis": {
            "gridcolor": "white",
            "linecolor": "white",
            "ticks": ""
           },
           "baxis": {
            "gridcolor": "white",
            "linecolor": "white",
            "ticks": ""
           },
           "bgcolor": "#E5ECF6",
           "caxis": {
            "gridcolor": "white",
            "linecolor": "white",
            "ticks": ""
           }
          },
          "title": {
           "x": 0.05
          },
          "xaxis": {
           "automargin": true,
           "gridcolor": "white",
           "linecolor": "white",
           "ticks": "",
           "title": {
            "standoff": 15
           },
           "zerolinecolor": "white",
           "zerolinewidth": 2
          },
          "yaxis": {
           "automargin": true,
           "gridcolor": "white",
           "linecolor": "white",
           "ticks": "",
           "title": {
            "standoff": 15
           },
           "zerolinecolor": "white",
           "zerolinewidth": 2
          }
         }
        },
        "title": {
         "text": "PCA Explained Variance"
        },
        "xaxis": {
         "title": {
          "text": "Principal Component"
         }
        },
        "yaxis": {
         "title": {
          "text": "Explained Variance Ratio"
         }
        }
       }
      }
     },
     "metadata": {},
     "output_type": "display_data"
    },
    {
     "name": "stdout",
     "output_type": "stream",
     "text": [
      "Variance explained by first 10 components: 64.39%\n",
      "Variance explained by first 20 components: 78.34%\n"
     ]
    }
   ],
   "source": [
    "# Standardize features\n",
    "scaler = StandardScaler()\n",
    "X_scaled = scaler.fit_transform(X)\n",
    "\n",
    "# PCA\n",
    "pca = PCA(n_components=50)  # Keep top 50 components\n",
    "X_pca = pca.fit_transform(X_scaled)\n",
    "\n",
    "# Plot explained variance\n",
    "explained_variance_ratio = pca.explained_variance_ratio_\n",
    "cumulative_variance = np.cumsum(explained_variance_ratio)\n",
    "\n",
    "fig = go.Figure()\n",
    "fig.add_trace(go.Scatter(x=list(range(1, len(explained_variance_ratio)+1)),\n",
    "                         y=explained_variance_ratio,\n",
    "                         mode='lines+markers',\n",
    "                         name='Individual'))\n",
    "fig.add_trace(go.Scatter(x=list(range(1, len(cumulative_variance)+1)),\n",
    "                         y=cumulative_variance,\n",
    "                         mode='lines+markers',\n",
    "                         name='Cumulative'))\n",
    "fig.update_layout(title='PCA Explained Variance',\n",
    "                  xaxis_title='Principal Component',\n",
    "                  yaxis_title='Explained Variance Ratio')\n",
    "fig.show()\n",
    "\n",
    "print(f\"Variance explained by first 10 components: {cumulative_variance[9]:.2%}\")\n",
    "print(f\"Variance explained by first 20 components: {cumulative_variance[19]:.2%}\")"
   ]
  },
  {
   "cell_type": "code",
   "execution_count": 10,
   "metadata": {},
   "outputs": [
    {
     "name": "stdout",
     "output_type": "stream",
     "text": [
      "Computing UMAP embedding...\n",
      "UMAP embedding complete!\n"
     ]
    }
   ],
   "source": [
    "# UMAP for visualization\n",
    "print(\"Computing UMAP embedding...\")\n",
    "reducer = umap.UMAP(n_components=3, random_state=42, n_neighbors=15, min_dist=0.1)\n",
    "X_umap = reducer.fit_transform(X_pca[:, :20])  # Use top 20 PCA components\n",
    "\n",
    "print(\"UMAP embedding complete!\")"
   ]
  },
  {
   "cell_type": "markdown",
   "metadata": {},
   "source": [
    "## 6. Clustering Analysis"
   ]
  },
  {
   "cell_type": "code",
   "execution_count": 11,
   "metadata": {},
   "outputs": [
    {
     "data": {
      "application/vnd.plotly.v1+json": {
       "config": {
        "plotlyServerURL": "https://plot.ly"
       },
       "data": [
        {
         "mode": "lines+markers",
         "type": "scatter",
         "x": [
          2,
          3,
          4,
          5,
          6,
          7,
          8,
          9,
          10
         ],
         "xaxis": "x",
         "y": [
          23345.39483999558,
          20739.185229943047,
          18815.1156616221,
          17337.272420341822,
          16246.160303625413,
          15179.520350070707,
          14542.84275290164,
          14014.947546273484,
          13491.245004495226
         ],
         "yaxis": "y"
        },
        {
         "mode": "lines+markers",
         "type": "scatter",
         "x": [
          2,
          3,
          4,
          5,
          6,
          7,
          8,
          9,
          10
         ],
         "xaxis": "x2",
         "y": [
          0.1553970754499039,
          0.17948709253511413,
          0.19578739347210855,
          0.15137121304192153,
          0.16408900801487383,
          0.1684337010004367,
          0.17156417082626,
          0.1712080448661643,
          0.1539193162046079
         ],
         "yaxis": "y2"
        }
       ],
       "layout": {
        "annotations": [
         {
          "font": {
           "size": 16
          },
          "showarrow": false,
          "text": "Elbow Method",
          "x": 0.225,
          "xanchor": "center",
          "xref": "paper",
          "y": 1,
          "yanchor": "bottom",
          "yref": "paper"
         },
         {
          "font": {
           "size": 16
          },
          "showarrow": false,
          "text": "Silhouette Score",
          "x": 0.775,
          "xanchor": "center",
          "xref": "paper",
          "y": 1,
          "yanchor": "bottom",
          "yref": "paper"
         }
        ],
        "height": 400,
        "template": {
         "data": {
          "bar": [
           {
            "error_x": {
             "color": "#2a3f5f"
            },
            "error_y": {
             "color": "#2a3f5f"
            },
            "marker": {
             "line": {
              "color": "#E5ECF6",
              "width": 0.5
             },
             "pattern": {
              "fillmode": "overlay",
              "size": 10,
              "solidity": 0.2
             }
            },
            "type": "bar"
           }
          ],
          "barpolar": [
           {
            "marker": {
             "line": {
              "color": "#E5ECF6",
              "width": 0.5
             },
             "pattern": {
              "fillmode": "overlay",
              "size": 10,
              "solidity": 0.2
             }
            },
            "type": "barpolar"
           }
          ],
          "carpet": [
           {
            "aaxis": {
             "endlinecolor": "#2a3f5f",
             "gridcolor": "white",
             "linecolor": "white",
             "minorgridcolor": "white",
             "startlinecolor": "#2a3f5f"
            },
            "baxis": {
             "endlinecolor": "#2a3f5f",
             "gridcolor": "white",
             "linecolor": "white",
             "minorgridcolor": "white",
             "startlinecolor": "#2a3f5f"
            },
            "type": "carpet"
           }
          ],
          "choropleth": [
           {
            "colorbar": {
             "outlinewidth": 0,
             "ticks": ""
            },
            "type": "choropleth"
           }
          ],
          "contour": [
           {
            "colorbar": {
             "outlinewidth": 0,
             "ticks": ""
            },
            "colorscale": [
             [
              0,
              "#0d0887"
             ],
             [
              0.1111111111111111,
              "#46039f"
             ],
             [
              0.2222222222222222,
              "#7201a8"
             ],
             [
              0.3333333333333333,
              "#9c179e"
             ],
             [
              0.4444444444444444,
              "#bd3786"
             ],
             [
              0.5555555555555556,
              "#d8576b"
             ],
             [
              0.6666666666666666,
              "#ed7953"
             ],
             [
              0.7777777777777778,
              "#fb9f3a"
             ],
             [
              0.8888888888888888,
              "#fdca26"
             ],
             [
              1,
              "#f0f921"
             ]
            ],
            "type": "contour"
           }
          ],
          "contourcarpet": [
           {
            "colorbar": {
             "outlinewidth": 0,
             "ticks": ""
            },
            "type": "contourcarpet"
           }
          ],
          "heatmap": [
           {
            "colorbar": {
             "outlinewidth": 0,
             "ticks": ""
            },
            "colorscale": [
             [
              0,
              "#0d0887"
             ],
             [
              0.1111111111111111,
              "#46039f"
             ],
             [
              0.2222222222222222,
              "#7201a8"
             ],
             [
              0.3333333333333333,
              "#9c179e"
             ],
             [
              0.4444444444444444,
              "#bd3786"
             ],
             [
              0.5555555555555556,
              "#d8576b"
             ],
             [
              0.6666666666666666,
              "#ed7953"
             ],
             [
              0.7777777777777778,
              "#fb9f3a"
             ],
             [
              0.8888888888888888,
              "#fdca26"
             ],
             [
              1,
              "#f0f921"
             ]
            ],
            "type": "heatmap"
           }
          ],
          "histogram": [
           {
            "marker": {
             "pattern": {
              "fillmode": "overlay",
              "size": 10,
              "solidity": 0.2
             }
            },
            "type": "histogram"
           }
          ],
          "histogram2d": [
           {
            "colorbar": {
             "outlinewidth": 0,
             "ticks": ""
            },
            "colorscale": [
             [
              0,
              "#0d0887"
             ],
             [
              0.1111111111111111,
              "#46039f"
             ],
             [
              0.2222222222222222,
              "#7201a8"
             ],
             [
              0.3333333333333333,
              "#9c179e"
             ],
             [
              0.4444444444444444,
              "#bd3786"
             ],
             [
              0.5555555555555556,
              "#d8576b"
             ],
             [
              0.6666666666666666,
              "#ed7953"
             ],
             [
              0.7777777777777778,
              "#fb9f3a"
             ],
             [
              0.8888888888888888,
              "#fdca26"
             ],
             [
              1,
              "#f0f921"
             ]
            ],
            "type": "histogram2d"
           }
          ],
          "histogram2dcontour": [
           {
            "colorbar": {
             "outlinewidth": 0,
             "ticks": ""
            },
            "colorscale": [
             [
              0,
              "#0d0887"
             ],
             [
              0.1111111111111111,
              "#46039f"
             ],
             [
              0.2222222222222222,
              "#7201a8"
             ],
             [
              0.3333333333333333,
              "#9c179e"
             ],
             [
              0.4444444444444444,
              "#bd3786"
             ],
             [
              0.5555555555555556,
              "#d8576b"
             ],
             [
              0.6666666666666666,
              "#ed7953"
             ],
             [
              0.7777777777777778,
              "#fb9f3a"
             ],
             [
              0.8888888888888888,
              "#fdca26"
             ],
             [
              1,
              "#f0f921"
             ]
            ],
            "type": "histogram2dcontour"
           }
          ],
          "mesh3d": [
           {
            "colorbar": {
             "outlinewidth": 0,
             "ticks": ""
            },
            "type": "mesh3d"
           }
          ],
          "parcoords": [
           {
            "line": {
             "colorbar": {
              "outlinewidth": 0,
              "ticks": ""
             }
            },
            "type": "parcoords"
           }
          ],
          "pie": [
           {
            "automargin": true,
            "type": "pie"
           }
          ],
          "scatter": [
           {
            "fillpattern": {
             "fillmode": "overlay",
             "size": 10,
             "solidity": 0.2
            },
            "type": "scatter"
           }
          ],
          "scatter3d": [
           {
            "line": {
             "colorbar": {
              "outlinewidth": 0,
              "ticks": ""
             }
            },
            "marker": {
             "colorbar": {
              "outlinewidth": 0,
              "ticks": ""
             }
            },
            "type": "scatter3d"
           }
          ],
          "scattercarpet": [
           {
            "marker": {
             "colorbar": {
              "outlinewidth": 0,
              "ticks": ""
             }
            },
            "type": "scattercarpet"
           }
          ],
          "scattergeo": [
           {
            "marker": {
             "colorbar": {
              "outlinewidth": 0,
              "ticks": ""
             }
            },
            "type": "scattergeo"
           }
          ],
          "scattergl": [
           {
            "marker": {
             "colorbar": {
              "outlinewidth": 0,
              "ticks": ""
             }
            },
            "type": "scattergl"
           }
          ],
          "scattermap": [
           {
            "marker": {
             "colorbar": {
              "outlinewidth": 0,
              "ticks": ""
             }
            },
            "type": "scattermap"
           }
          ],
          "scattermapbox": [
           {
            "marker": {
             "colorbar": {
              "outlinewidth": 0,
              "ticks": ""
             }
            },
            "type": "scattermapbox"
           }
          ],
          "scatterpolar": [
           {
            "marker": {
             "colorbar": {
              "outlinewidth": 0,
              "ticks": ""
             }
            },
            "type": "scatterpolar"
           }
          ],
          "scatterpolargl": [
           {
            "marker": {
             "colorbar": {
              "outlinewidth": 0,
              "ticks": ""
             }
            },
            "type": "scatterpolargl"
           }
          ],
          "scatterternary": [
           {
            "marker": {
             "colorbar": {
              "outlinewidth": 0,
              "ticks": ""
             }
            },
            "type": "scatterternary"
           }
          ],
          "surface": [
           {
            "colorbar": {
             "outlinewidth": 0,
             "ticks": ""
            },
            "colorscale": [
             [
              0,
              "#0d0887"
             ],
             [
              0.1111111111111111,
              "#46039f"
             ],
             [
              0.2222222222222222,
              "#7201a8"
             ],
             [
              0.3333333333333333,
              "#9c179e"
             ],
             [
              0.4444444444444444,
              "#bd3786"
             ],
             [
              0.5555555555555556,
              "#d8576b"
             ],
             [
              0.6666666666666666,
              "#ed7953"
             ],
             [
              0.7777777777777778,
              "#fb9f3a"
             ],
             [
              0.8888888888888888,
              "#fdca26"
             ],
             [
              1,
              "#f0f921"
             ]
            ],
            "type": "surface"
           }
          ],
          "table": [
           {
            "cells": {
             "fill": {
              "color": "#EBF0F8"
             },
             "line": {
              "color": "white"
             }
            },
            "header": {
             "fill": {
              "color": "#C8D4E3"
             },
             "line": {
              "color": "white"
             }
            },
            "type": "table"
           }
          ]
         },
         "layout": {
          "annotationdefaults": {
           "arrowcolor": "#2a3f5f",
           "arrowhead": 0,
           "arrowwidth": 1
          },
          "autotypenumbers": "strict",
          "coloraxis": {
           "colorbar": {
            "outlinewidth": 0,
            "ticks": ""
           }
          },
          "colorscale": {
           "diverging": [
            [
             0,
             "#8e0152"
            ],
            [
             0.1,
             "#c51b7d"
            ],
            [
             0.2,
             "#de77ae"
            ],
            [
             0.3,
             "#f1b6da"
            ],
            [
             0.4,
             "#fde0ef"
            ],
            [
             0.5,
             "#f7f7f7"
            ],
            [
             0.6,
             "#e6f5d0"
            ],
            [
             0.7,
             "#b8e186"
            ],
            [
             0.8,
             "#7fbc41"
            ],
            [
             0.9,
             "#4d9221"
            ],
            [
             1,
             "#276419"
            ]
           ],
           "sequential": [
            [
             0,
             "#0d0887"
            ],
            [
             0.1111111111111111,
             "#46039f"
            ],
            [
             0.2222222222222222,
             "#7201a8"
            ],
            [
             0.3333333333333333,
             "#9c179e"
            ],
            [
             0.4444444444444444,
             "#bd3786"
            ],
            [
             0.5555555555555556,
             "#d8576b"
            ],
            [
             0.6666666666666666,
             "#ed7953"
            ],
            [
             0.7777777777777778,
             "#fb9f3a"
            ],
            [
             0.8888888888888888,
             "#fdca26"
            ],
            [
             1,
             "#f0f921"
            ]
           ],
           "sequentialminus": [
            [
             0,
             "#0d0887"
            ],
            [
             0.1111111111111111,
             "#46039f"
            ],
            [
             0.2222222222222222,
             "#7201a8"
            ],
            [
             0.3333333333333333,
             "#9c179e"
            ],
            [
             0.4444444444444444,
             "#bd3786"
            ],
            [
             0.5555555555555556,
             "#d8576b"
            ],
            [
             0.6666666666666666,
             "#ed7953"
            ],
            [
             0.7777777777777778,
             "#fb9f3a"
            ],
            [
             0.8888888888888888,
             "#fdca26"
            ],
            [
             1,
             "#f0f921"
            ]
           ]
          },
          "colorway": [
           "#636efa",
           "#EF553B",
           "#00cc96",
           "#ab63fa",
           "#FFA15A",
           "#19d3f3",
           "#FF6692",
           "#B6E880",
           "#FF97FF",
           "#FECB52"
          ],
          "font": {
           "color": "#2a3f5f"
          },
          "geo": {
           "bgcolor": "white",
           "lakecolor": "white",
           "landcolor": "#E5ECF6",
           "showlakes": true,
           "showland": true,
           "subunitcolor": "white"
          },
          "hoverlabel": {
           "align": "left"
          },
          "hovermode": "closest",
          "mapbox": {
           "style": "light"
          },
          "paper_bgcolor": "white",
          "plot_bgcolor": "#E5ECF6",
          "polar": {
           "angularaxis": {
            "gridcolor": "white",
            "linecolor": "white",
            "ticks": ""
           },
           "bgcolor": "#E5ECF6",
           "radialaxis": {
            "gridcolor": "white",
            "linecolor": "white",
            "ticks": ""
           }
          },
          "scene": {
           "xaxis": {
            "backgroundcolor": "#E5ECF6",
            "gridcolor": "white",
            "gridwidth": 2,
            "linecolor": "white",
            "showbackground": true,
            "ticks": "",
            "zerolinecolor": "white"
           },
           "yaxis": {
            "backgroundcolor": "#E5ECF6",
            "gridcolor": "white",
            "gridwidth": 2,
            "linecolor": "white",
            "showbackground": true,
            "ticks": "",
            "zerolinecolor": "white"
           },
           "zaxis": {
            "backgroundcolor": "#E5ECF6",
            "gridcolor": "white",
            "gridwidth": 2,
            "linecolor": "white",
            "showbackground": true,
            "ticks": "",
            "zerolinecolor": "white"
           }
          },
          "shapedefaults": {
           "line": {
            "color": "#2a3f5f"
           }
          },
          "ternary": {
           "aaxis": {
            "gridcolor": "white",
            "linecolor": "white",
            "ticks": ""
           },
           "baxis": {
            "gridcolor": "white",
            "linecolor": "white",
            "ticks": ""
           },
           "bgcolor": "#E5ECF6",
           "caxis": {
            "gridcolor": "white",
            "linecolor": "white",
            "ticks": ""
           }
          },
          "title": {
           "x": 0.05
          },
          "xaxis": {
           "automargin": true,
           "gridcolor": "white",
           "linecolor": "white",
           "ticks": "",
           "title": {
            "standoff": 15
           },
           "zerolinecolor": "white",
           "zerolinewidth": 2
          },
          "yaxis": {
           "automargin": true,
           "gridcolor": "white",
           "linecolor": "white",
           "ticks": "",
           "title": {
            "standoff": 15
           },
           "zerolinecolor": "white",
           "zerolinewidth": 2
          }
         }
        },
        "title": {
         "text": "Optimal Number of Clusters"
        },
        "xaxis": {
         "anchor": "y",
         "domain": [
          0,
          0.45
         ],
         "title": {
          "text": "Number of Clusters"
         }
        },
        "xaxis2": {
         "anchor": "y2",
         "domain": [
          0.55,
          1
         ],
         "title": {
          "text": "Number of Clusters"
         }
        },
        "yaxis": {
         "anchor": "x",
         "domain": [
          0,
          1
         ],
         "title": {
          "text": "Inertia"
         }
        },
        "yaxis2": {
         "anchor": "x2",
         "domain": [
          0,
          1
         ],
         "title": {
          "text": "Silhouette Score"
         }
        }
       }
      }
     },
     "metadata": {},
     "output_type": "display_data"
    },
    {
     "name": "stdout",
     "output_type": "stream",
     "text": [
      "Optimal number of clusters based on silhouette score: 4\n"
     ]
    }
   ],
   "source": [
    "# Determine optimal number of clusters using elbow method\n",
    "inertias = []\n",
    "silhouette_scores = []\n",
    "K = range(2, 11)\n",
    "\n",
    "for k in K:\n",
    "    kmeans = KMeans(n_clusters=k, random_state=42, n_init=10)\n",
    "    kmeans.fit(X_pca[:, :20])\n",
    "    inertias.append(kmeans.inertia_)\n",
    "    silhouette_scores.append(silhouette_score(X_pca[:, :20], kmeans.labels_))\n",
    "\n",
    "# Plot elbow curve\n",
    "fig = make_subplots(rows=1, cols=2, subplot_titles=['Elbow Method', 'Silhouette Score'])\n",
    "\n",
    "fig.add_trace(go.Scatter(x=list(K), y=inertias, mode='lines+markers'), row=1, col=1)\n",
    "fig.add_trace(go.Scatter(x=list(K), y=silhouette_scores, mode='lines+markers'), row=1, col=2)\n",
    "\n",
    "fig.update_xaxes(title_text=\"Number of Clusters\", row=1, col=1)\n",
    "fig.update_xaxes(title_text=\"Number of Clusters\", row=1, col=2)\n",
    "fig.update_yaxes(title_text=\"Inertia\", row=1, col=1)\n",
    "fig.update_yaxes(title_text=\"Silhouette Score\", row=1, col=2)\n",
    "\n",
    "fig.update_layout(height=400, title_text=\"Optimal Number of Clusters\")\n",
    "fig.show()\n",
    "\n",
    "optimal_k = K[np.argmax(silhouette_scores)]\n",
    "print(f\"Optimal number of clusters based on silhouette score: {optimal_k}\")"
   ]
  },
  {
   "cell_type": "code",
   "execution_count": 12,
   "metadata": {},
   "outputs": [
    {
     "name": "stdout",
     "output_type": "stream",
     "text": [
      "KMEANS:\n",
      "  Number of clusters: 4\n",
      "  Silhouette score: 0.196\n",
      "  Cluster sizes: {1: 170, 0: 81, 2: 78, 3: 27}\n",
      "\n",
      "DBSCAN:\n",
      "  Number of clusters: 1\n",
      "  Silhouette score: -0.183\n",
      "  Cluster sizes: {-1: 346, 0: 10}\n",
      "\n",
      "HIERARCHICAL:\n",
      "  Number of clusters: 4\n",
      "  Silhouette score: 0.183\n",
      "  Cluster sizes: {0: 201, 2: 74, 1: 57, 3: 24}\n",
      "\n"
     ]
    }
   ],
   "source": [
    "# Apply multiple clustering algorithms\n",
    "clustering_results = {}\n",
    "\n",
    "# K-Means\n",
    "kmeans = KMeans(n_clusters=optimal_k, random_state=42, n_init=10)\n",
    "clustering_results['kmeans'] = kmeans.fit_predict(X_pca[:, :20])\n",
    "\n",
    "# DBSCAN\n",
    "dbscan = DBSCAN(eps=3, min_samples=5)\n",
    "clustering_results['dbscan'] = dbscan.fit_predict(X_pca[:, :20])\n",
    "\n",
    "# Hierarchical\n",
    "hierarchical = AgglomerativeClustering(n_clusters=optimal_k)\n",
    "clustering_results['hierarchical'] = hierarchical.fit_predict(X_pca[:, :20])\n",
    "\n",
    "# Evaluate clustering quality\n",
    "for name, labels in clustering_results.items():\n",
    "    if len(set(labels)) > 1:  # Need at least 2 clusters\n",
    "        silhouette = silhouette_score(X_pca[:, :20], labels)\n",
    "        n_clusters = len(set(labels)) - (1 if -1 in labels else 0)\n",
    "        print(f\"{name.upper()}:\")\n",
    "        print(f\"  Number of clusters: {n_clusters}\")\n",
    "        print(f\"  Silhouette score: {silhouette:.3f}\")\n",
    "        print(f\"  Cluster sizes: {pd.Series(labels).value_counts().to_dict()}\")\n",
    "        print()"
   ]
  },
  {
   "cell_type": "code",
   "execution_count": 13,
   "metadata": {},
   "outputs": [
    {
     "data": {
      "application/vnd.plotly.v1+json": {
       "config": {
        "plotlyServerURL": "https://plot.ly"
       },
       "data": [
        {
         "hovertemplate": "Cluster=0<br>x=%{x}<br>y=%{y}<br>z=%{z}<extra></extra>",
         "legendgroup": "0",
         "marker": {
          "color": "rgb(228,26,28)",
          "size": 3,
          "symbol": "circle"
         },
         "mode": "markers",
         "name": "0",
         "scene": "scene",
         "showlegend": true,
         "type": "scatter3d",
         "x": {
          "bdata": "cxO4Pw7Ysz/ZOKU/bSonQGWtLEC6ijtAku4JQM1XrD8jwoA/04NjPz7yOUBx27Y/4fysPymCyz+xD7I/i74TQPJe4D+aG+M/npAJQC5x6T/euzFAvlinP1Hvuz/KigtAamkuQLdRxT/MjOQ/i605QO3ibj//ks4/8dIIQC2lzT91heM/baQAQPH7FUD/+yNAAPQcQPR7nT8X7yJAgNqeP7r9uj95vdc/JsG4P4H5zj8HG/A/70fYP2770D9v1g5A1u74PyMXLD+wAKw/nBHJP7rC/z+bwD9AhbAsQKDlN0CZs+c/JvnHP1+JHUDFwQJAftwKQOT5REAMWr0/L5ojQGArfz84EDlAwHxFQI4MK0DV9sc/rcK9PwQ93T/YDAZA4PY6QM20pj/uHh5AyGoSQBE8oD/OssM/+rD2P3eZrT/Fth1A",
          "dtype": "f4"
         },
         "y": {
          "bdata": "NPCKwDlAhcDrNonAQSAYwaHrE8GpXhzBgjMKwZBagsCyHjbBAyIxwSXuF8GvhRPBCnCCwKJED8HzjoTAfYEQwbpzEsHWQivBPOMdwXydCcFJDxbBkZsTwTDWgMDg9iHB2PUYwcgEI8HuGhLBCSkXwTr/M8GKSgvB7HYawUnjDMGFShHBaHoMwW5/E8HPWxnBQs8cwa+BhsDzTg3BUwU0wYmRjMDUDhjBTeQZwTzwh8Ag6RnBgUgTwXO/GsFRLCHBnCsRwYHmGsGCoIPAzEgXwdOaCsEn/BTBycwXwXy/GcGYJg7BMTgTwc2pEcG5QArBwwENwd6CGcFUyIvAGycLweP8JsHFsBnBu3YWwQKfF8H+H4rAqR8NweMSLcF8myDB1D8ZwQxVjsA1KgrBFyoLwS++hsDPjhjBNP8PwVkmjMBRkQrB",
          "dtype": "f4"
         },
         "z": {
          "bdata": "CF2YQPxDmkDe6JtAiviQQBrjhUDJjH5AuKFWQIoYnUDjVLVAPPq/QNpvhkDN9qlAEpGcQA+On0DmMJpAggt8QGUnrEAKRLJAVQ2pQD0QgUDkFYFAX2GNQPHTmEAydpdAH3KHQBJWpUDuSqtASuaKQN6uwkDhf4dArSCkQGpOlEBP1KlAoQZAQBkWgkDoYpFAKSagQNc7nkD8qoJAt7m7QPAkl0BUhaxAN/KhQN9+k0AP85pAJqqeQHTEmEB33KlAf6yJQEgfsEDNVJxASHOaQBBJekASA41AyJ2VQHgUgUDh2INAdEGmQOMSdkAZ5UVALyp3QLmng0A6LZdAun2AQNchtkBRa4FA78mMQIAzfkAj0JRAoFmdQOEVtkCd6I9ARbWHQB47nECiDoBAnquIQFqnnUDhY5lAOwaIQOk/mkCAL4FA",
          "dtype": "f4"
         }
        },
        {
         "hovertemplate": "Cluster=2<br>x=%{x}<br>y=%{y}<br>z=%{z}<extra></extra>",
         "legendgroup": "2",
         "marker": {
          "color": "rgb(55,126,184)",
          "size": 3,
          "symbol": "circle"
         },
         "mode": "markers",
         "name": "2",
         "scene": "scene",
         "showlegend": true,
         "type": "scatter3d",
         "x": {
          "bdata": "hz2GP33Tgz9NWJA/cHGDPzoAkz/xOLM/kzmkPxqoyT9wvQZA07gZQOIPpT9y4BNAYV/hP6ZKC0DESiY/dvShP4V0FkACBW4/E4XJP7aukD81cIk/alEGQKqAGT96S8o/xKeCPyTdA0C+KOc/ZEAaQKLiwj9vk1A/9eshQI3wFj/H64Y/Vl+2P0yvF0CXyr4/17W0P+NyjD93Fr0/tt37P1zitz/KMTI/1JyDP2riL0Av+Js/WIM8P19DsD8q5QFAHBalPzgO+j9eNnU/keQkQAHZsT8ahzI/8TVWP2ChG0DQF7g/auu2PyljOj9xEAlAIZj/P+v04j4wnK0/kQoQQGjEjT8F0rA/8aLPP4TCsT95urs/JNPrP83RGUCxjEY/2Kp/P5tzxD7AZzc/1NCxP6pu2z+V3ig/",
          "dtype": "f4"
         },
         "y": {
          "bdata": "isIhwSSHHsFBhBjB145AwYOSJMFLkhbBL+8bwW+wHsGGZCDBMqwhwdXDHMF3fx7BmpUNwUpVHMHSUUDBofcdwdeiH8FjNiHBtt0iwVl5IcFTYiDBTdISwS/VQMFeayDB4Cw2wYbpGMEB5hPBLIodwReLMMHAbxfB2R4gwRdUGcFlEjjBNNAbwawyIMEo9BzBBVkfwXK4J8F1KR3B5UMNwcVpH8EdGznB5AMmwf1DG8FWxiXB+jUbwZmhHsHhjiPBl6IiwfnbIcGAf0HBDOQewTBPH8HHLxjB7bRDwdl3HcGiux3BrjsfwewKGMF9WQvBOc8cwf9UK8HkEh/BSHMcwdLIIsFdlR3BMl0NwbBbH8EZfwzBtGYKwfCUFMHI5UPBkJhEwQDSLcH5sxfBNNIbwTJ/HsHyoxjB",
          "dtype": "f4"
         },
         "z": {
          "bdata": "GWchQO6ojkBiIQlA9/iSQPT3H0D+BhFAPnVEQMxegkAaTx9APExUQM502D+QrSlAzSxpQAD2I0AuYoVAJpTcP9+MLEDii4hAAGYMQE5NM0BvKDlArbAzQJgajkCVIOQ/pfmIQOPwL0BnHUpAN/53QNQ7tEAsMR5AaXs3QA1nfUBM2LpAqDLYP8tpI0A6cTtAvZLfP3D8LUA4jMY/cwM+QLl/rz/ddolAO0AhQFPNZkBrtCdAi/wxQPbrvT9kMV5AFnguQCdKHUATvI9Ar2lHQC+luT9GWihAFViSQO4uP0CoSbY/OeIrQHqjJEBosUpAfc8NQB7rg0Bkh8M/aGYoQBmgKEBtRdI/ePpqQDwhxj9b8HRA/052QGyKeEAK8ItAJCGRQIPyiUAO1iRAbzxBQLyu/z9OCnVA",
          "dtype": "f4"
         }
        },
        {
         "hovertemplate": "Cluster=1<br>x=%{x}<br>y=%{y}<br>z=%{z}<extra></extra>",
         "legendgroup": "1",
         "marker": {
          "color": "rgb(77,175,74)",
          "size": 3,
          "symbol": "circle"
         },
         "mode": "markers",
         "name": "1",
         "scene": "scene",
         "showlegend": true,
         "type": "scatter3d",
         "x": {
          "bdata": "ho04P5hUUD8aW2K85tMVv3rV67+ptzK/hDTSPSGU0T4M3ns/K2t0vrWF979p6Iw/RJzCPqB4H780Rww/GGaJv1Awir807gw/JdY3vf3tS79GSZy/LzuEPhSK1L/WIhm/Sm6AP6J0iT08phI/XGCGPp00QD89tZc/Vwfiv3aiEj9jiF6/9+ytvkCISD+up0G/psrOP8Kyhj97rga+hkWxv1cpiL/woIk/KpcgP/DHsD9e8e+/l+3evfWqqL/lxeg+V57LvxLcBMCtJdg+pQV4v2yqQz9249q/bJEWP3SXdz5JOAS/fSGCv6UJpb7KTJ2/MMN8Pi6Rjb+c4Bc/Uv/avzafs78rikE/vLlqv5VpYj9n2/K/tLCNv8nMiT8D6/u/VZejPovbrT7ORbe/HL9lv6aaDb3ZSSW/0bQ3Pz4Wbz80l6+/hoiPPrkxQj9w9QU/s5fvPlkT17/UZDK+ofH8vxyZOj6nD5G/TdH0v0lPgT85Zkw9wClDPxYVGT92PbM+Fa8iP1Uxsj3b43s/gDKkv+Bj6r/+ZlA/nxKCP0p8j79Du5W/4h+fPnHbJj+KKsg+nwkgP0Ry0b+9LoA/GnDvv5W2q73c09y+2JGaP29DIT+S9KI/wdwjvmxmDz2qIGq/ZPHGP386Eb/rZG6/Jf83P476K74ugWq/V+I7PnZHGT8sd2G+Hj71v6K3M7+TnDc+b8T1P4v76j7AHIy/llVWv8rw1r/ZK40/GVKMvn3jqr/Orzs/GBOnP4Kj9r+ijwy/9+/5PObvmT6uJ92/1t5dP/aSnb+owLq/0uOJvhEocb1p+4a/7nvEPjgDOr/UK+W/PPWevyasZr/R5xW/XzqPPmR5Aj+IUx2+v5FOv/E5jT9nJWW/I2esP90l0b6d/js/kpqCv7U28j4=",
          "dtype": "f4"
         },
         "y": {
          "bdata": "YFQxwb2lQcFh/CbBQSAOwWPWCMFU2y7BO1c6wXk/IsHOuCjBuEkUwbu+/8BVdDjBbnAbwVBiMMHlGzzBxwYJwS1MF8Fosi7Bnz48wR2jJMHiogjBHH42wRAFD8F2NhbBdJwQwbhQPMEDOhbBL084wZfsLMFPRjPBp5sLwV6WMMFMVhDB52cmwSjjE8FNLAnB5D8pwZXZEcGe3zfBU0ENwXgPCcFemjrB4kIdwb3KJsEodAPB3DEowQIbEMHB+SLBz1gKwUuWBcHnszvB79AIwVDuOMFAAwDBlxkcwYW6JsHtkB/Bn9gewWpRMMGHlA3Buyw9wa0bHMFsriHBBboDwdBZEMEsTynBPAYKwcBzOMHOlQjB16oZwa1FJ8FquPrAvcsTweuYPsFloAXBZf0gwZo9MsGlYxPBX3IywYIrPsHETg3BDm0TwXvFLMFM3TfBHVoawYeODcGUFhHBf7b9wGcEG8FxrBbBlfwKwacvNMHu8SLBMQc/wS3cJMH1DBnBQ5AbwRozF8Ft3z3B9NQNwQluCcEorkLBfI4ywRf3CMG2wwfBgdcvwfdvHcHTliHBmb09wTk4AsEscTvB3JoEwbHOO8ExUy3B6EcywZB1OsFh8TLBzkg7wbwsO8GTYSTBWpIswSpsMcGSAiHBTJczwTVVMsGhSRHB+qcVwTn6PsGjRjvB33UCwTGNCcHOZxzBIOUhwUTsHcGqQgXBRAMIwXwoCcHOSTXB2ooywdjWEsH+MUDBQXApwWdG/cB7lC/Bd8E7wVXbNcF/HgbBYDUswfUWFcGckA7Be0EwwZv6MMGGRR/BNTgzwe3HB8Em+APB2NcQwXeqCcGoHizBt10kwTeQGcHdXhPB2JgLwQh+D8FvjSPBZUErwZefNsH44inBfhYbwRUqPcE=",
          "dtype": "f4"
         },
         "z": {
          "bdata": "n9XAQKnuoEB4m6VAZuG2QJivo0CWx6lAdkWkQGE1s0CJDahASWajQJSUoECOmpJAknaqQIDxpkDZOKZAgcWgQBsqvkCf+phAvjyXQLVNx0BWx6NAebuxQEXkq0A25LtA16SIQHXVnkBfWIVAsOynQMCKwUCnoZpApbOmQAvJw0BLPLlA05q6QJ81f0A6NqNA2/NgQLCJi0BZkpxAB1C3QJUpnkAx5JpAXzOTQA8JkkCkUaFA9jOjQHItvEAX1K5A3b+kQGrRoEB+E6BAdWShQHJoq0BdMaRArFGyQFbdr0CZ5LRAisLHQB7MxUCFNK5AfqylQFTjxkA9hbVA9O+rQFflvUDsgadAPl2xQFYAu0DdtqRA+j/EQNwCj0AysZ9AKs2FQFpyn0B6p6JA4enAQOz5xkAufrFAc3eaQETPpEDOB7JAow2OQNTmv0BoTKVAGzicQBfmrEAqOaRAzWShQIbSlkDXGbxAwyyoQJ7Vn0AbZrFAZliqQPPPskCyHaJATeaiQIkTk0DUcJ9AtZW8QKtcoEBSj5dApeCNQLfnsUCkZZ9APoiUQPEdekCE6ppAoxCgQMsAo0BAsapA81WjQHnZmEDhmbhAwpKZQNTjnUDSIZlAbpOgQJgXmkCNz6VALJ+QQIdMpUA7NcRApj3DQMZXyEDwvatAoqOWQMkAkkBxAJxAR8+hQAD2qkBmxqNA0kWPQAoQoECpFqJAg6miQHjNokBB6LNAYsPEQD5fwUDq1ZtAYHqiQNTtoED73KdACL+kQH5XxECp0q5AsLOXQIk7wUAJyLpAj+zHQD1kv0BQy8ZAahedQNH3oEBp06ZAcc2+QB0IqkDaacBACgqmQA/EqUDHXqFAOAqdQA6WhUC8I6dAsW2QQN77nUBU3LRAhoDCQEprr0A=",
          "dtype": "f4"
         }
        },
        {
         "hovertemplate": "Cluster=3<br>x=%{x}<br>y=%{y}<br>z=%{z}<extra></extra>",
         "legendgroup": "3",
         "marker": {
          "color": "rgb(152,78,163)",
          "size": 3,
          "symbol": "circle"
         },
         "mode": "markers",
         "name": "3",
         "scene": "scene",
         "showlegend": true,
         "type": "scatter3d",
         "x": {
          "bdata": "Hh7QQCncwED1isRA7cy8QODWyUA+ZsBAfWnFQJ6QyUBSZtNA8DzNQD+Mz0ByAMNAw7LOQDyWzkD8osBASWu6QNnv0EANc8NA/wbCQP19yEAhC8pAZC3LQGFq0EDJxcpAm/PNQC6u0kApAs5A",
          "dtype": "f4"
         },
         "y": {
          "bdata": "1RLSvxSvBMBshOe/UYLzv7ntzr9VR/u/evrVv6TtzL9lltq/evm9v6mn17+IMt2/JJesv2jeqL8CHNG/izv5v7I0oL+54fm/YezMv29It79E4Mm/VCrCv+RUo7/sRra/WOXIv90hmb/hDK+/",
          "dtype": "f4"
         },
         "z": {
          "bdata": "VvmyQChxqkANXbFAglWzQO/4tECCQq5Adgy2QESFtUD0MLBAyWi3QK3DsUCbyLJAzkS3QMq4ukAPDrZAFTa0QAPRt0BQ/axAo1S1QExDukAuMbRAyn62QLgutkCxILxATSm1QC/AtUCOCrlA",
          "dtype": "f4"
         }
        }
       ],
       "layout": {
        "height": 700,
        "legend": {
         "title": {
          "text": "Cluster"
         },
         "tracegroupgap": 0
        },
        "scene": {
         "domain": {
          "x": [
           0,
           1
          ],
          "y": [
           0,
           1
          ]
         },
         "xaxis": {
          "title": {
           "text": "x"
          }
         },
         "yaxis": {
          "title": {
           "text": "y"
          }
         },
         "zaxis": {
          "title": {
           "text": "z"
          }
         }
        },
        "template": {
         "data": {
          "bar": [
           {
            "error_x": {
             "color": "#2a3f5f"
            },
            "error_y": {
             "color": "#2a3f5f"
            },
            "marker": {
             "line": {
              "color": "#E5ECF6",
              "width": 0.5
             },
             "pattern": {
              "fillmode": "overlay",
              "size": 10,
              "solidity": 0.2
             }
            },
            "type": "bar"
           }
          ],
          "barpolar": [
           {
            "marker": {
             "line": {
              "color": "#E5ECF6",
              "width": 0.5
             },
             "pattern": {
              "fillmode": "overlay",
              "size": 10,
              "solidity": 0.2
             }
            },
            "type": "barpolar"
           }
          ],
          "carpet": [
           {
            "aaxis": {
             "endlinecolor": "#2a3f5f",
             "gridcolor": "white",
             "linecolor": "white",
             "minorgridcolor": "white",
             "startlinecolor": "#2a3f5f"
            },
            "baxis": {
             "endlinecolor": "#2a3f5f",
             "gridcolor": "white",
             "linecolor": "white",
             "minorgridcolor": "white",
             "startlinecolor": "#2a3f5f"
            },
            "type": "carpet"
           }
          ],
          "choropleth": [
           {
            "colorbar": {
             "outlinewidth": 0,
             "ticks": ""
            },
            "type": "choropleth"
           }
          ],
          "contour": [
           {
            "colorbar": {
             "outlinewidth": 0,
             "ticks": ""
            },
            "colorscale": [
             [
              0,
              "#0d0887"
             ],
             [
              0.1111111111111111,
              "#46039f"
             ],
             [
              0.2222222222222222,
              "#7201a8"
             ],
             [
              0.3333333333333333,
              "#9c179e"
             ],
             [
              0.4444444444444444,
              "#bd3786"
             ],
             [
              0.5555555555555556,
              "#d8576b"
             ],
             [
              0.6666666666666666,
              "#ed7953"
             ],
             [
              0.7777777777777778,
              "#fb9f3a"
             ],
             [
              0.8888888888888888,
              "#fdca26"
             ],
             [
              1,
              "#f0f921"
             ]
            ],
            "type": "contour"
           }
          ],
          "contourcarpet": [
           {
            "colorbar": {
             "outlinewidth": 0,
             "ticks": ""
            },
            "type": "contourcarpet"
           }
          ],
          "heatmap": [
           {
            "colorbar": {
             "outlinewidth": 0,
             "ticks": ""
            },
            "colorscale": [
             [
              0,
              "#0d0887"
             ],
             [
              0.1111111111111111,
              "#46039f"
             ],
             [
              0.2222222222222222,
              "#7201a8"
             ],
             [
              0.3333333333333333,
              "#9c179e"
             ],
             [
              0.4444444444444444,
              "#bd3786"
             ],
             [
              0.5555555555555556,
              "#d8576b"
             ],
             [
              0.6666666666666666,
              "#ed7953"
             ],
             [
              0.7777777777777778,
              "#fb9f3a"
             ],
             [
              0.8888888888888888,
              "#fdca26"
             ],
             [
              1,
              "#f0f921"
             ]
            ],
            "type": "heatmap"
           }
          ],
          "histogram": [
           {
            "marker": {
             "pattern": {
              "fillmode": "overlay",
              "size": 10,
              "solidity": 0.2
             }
            },
            "type": "histogram"
           }
          ],
          "histogram2d": [
           {
            "colorbar": {
             "outlinewidth": 0,
             "ticks": ""
            },
            "colorscale": [
             [
              0,
              "#0d0887"
             ],
             [
              0.1111111111111111,
              "#46039f"
             ],
             [
              0.2222222222222222,
              "#7201a8"
             ],
             [
              0.3333333333333333,
              "#9c179e"
             ],
             [
              0.4444444444444444,
              "#bd3786"
             ],
             [
              0.5555555555555556,
              "#d8576b"
             ],
             [
              0.6666666666666666,
              "#ed7953"
             ],
             [
              0.7777777777777778,
              "#fb9f3a"
             ],
             [
              0.8888888888888888,
              "#fdca26"
             ],
             [
              1,
              "#f0f921"
             ]
            ],
            "type": "histogram2d"
           }
          ],
          "histogram2dcontour": [
           {
            "colorbar": {
             "outlinewidth": 0,
             "ticks": ""
            },
            "colorscale": [
             [
              0,
              "#0d0887"
             ],
             [
              0.1111111111111111,
              "#46039f"
             ],
             [
              0.2222222222222222,
              "#7201a8"
             ],
             [
              0.3333333333333333,
              "#9c179e"
             ],
             [
              0.4444444444444444,
              "#bd3786"
             ],
             [
              0.5555555555555556,
              "#d8576b"
             ],
             [
              0.6666666666666666,
              "#ed7953"
             ],
             [
              0.7777777777777778,
              "#fb9f3a"
             ],
             [
              0.8888888888888888,
              "#fdca26"
             ],
             [
              1,
              "#f0f921"
             ]
            ],
            "type": "histogram2dcontour"
           }
          ],
          "mesh3d": [
           {
            "colorbar": {
             "outlinewidth": 0,
             "ticks": ""
            },
            "type": "mesh3d"
           }
          ],
          "parcoords": [
           {
            "line": {
             "colorbar": {
              "outlinewidth": 0,
              "ticks": ""
             }
            },
            "type": "parcoords"
           }
          ],
          "pie": [
           {
            "automargin": true,
            "type": "pie"
           }
          ],
          "scatter": [
           {
            "fillpattern": {
             "fillmode": "overlay",
             "size": 10,
             "solidity": 0.2
            },
            "type": "scatter"
           }
          ],
          "scatter3d": [
           {
            "line": {
             "colorbar": {
              "outlinewidth": 0,
              "ticks": ""
             }
            },
            "marker": {
             "colorbar": {
              "outlinewidth": 0,
              "ticks": ""
             }
            },
            "type": "scatter3d"
           }
          ],
          "scattercarpet": [
           {
            "marker": {
             "colorbar": {
              "outlinewidth": 0,
              "ticks": ""
             }
            },
            "type": "scattercarpet"
           }
          ],
          "scattergeo": [
           {
            "marker": {
             "colorbar": {
              "outlinewidth": 0,
              "ticks": ""
             }
            },
            "type": "scattergeo"
           }
          ],
          "scattergl": [
           {
            "marker": {
             "colorbar": {
              "outlinewidth": 0,
              "ticks": ""
             }
            },
            "type": "scattergl"
           }
          ],
          "scattermap": [
           {
            "marker": {
             "colorbar": {
              "outlinewidth": 0,
              "ticks": ""
             }
            },
            "type": "scattermap"
           }
          ],
          "scattermapbox": [
           {
            "marker": {
             "colorbar": {
              "outlinewidth": 0,
              "ticks": ""
             }
            },
            "type": "scattermapbox"
           }
          ],
          "scatterpolar": [
           {
            "marker": {
             "colorbar": {
              "outlinewidth": 0,
              "ticks": ""
             }
            },
            "type": "scatterpolar"
           }
          ],
          "scatterpolargl": [
           {
            "marker": {
             "colorbar": {
              "outlinewidth": 0,
              "ticks": ""
             }
            },
            "type": "scatterpolargl"
           }
          ],
          "scatterternary": [
           {
            "marker": {
             "colorbar": {
              "outlinewidth": 0,
              "ticks": ""
             }
            },
            "type": "scatterternary"
           }
          ],
          "surface": [
           {
            "colorbar": {
             "outlinewidth": 0,
             "ticks": ""
            },
            "colorscale": [
             [
              0,
              "#0d0887"
             ],
             [
              0.1111111111111111,
              "#46039f"
             ],
             [
              0.2222222222222222,
              "#7201a8"
             ],
             [
              0.3333333333333333,
              "#9c179e"
             ],
             [
              0.4444444444444444,
              "#bd3786"
             ],
             [
              0.5555555555555556,
              "#d8576b"
             ],
             [
              0.6666666666666666,
              "#ed7953"
             ],
             [
              0.7777777777777778,
              "#fb9f3a"
             ],
             [
              0.8888888888888888,
              "#fdca26"
             ],
             [
              1,
              "#f0f921"
             ]
            ],
            "type": "surface"
           }
          ],
          "table": [
           {
            "cells": {
             "fill": {
              "color": "#EBF0F8"
             },
             "line": {
              "color": "white"
             }
            },
            "header": {
             "fill": {
              "color": "#C8D4E3"
             },
             "line": {
              "color": "white"
             }
            },
            "type": "table"
           }
          ]
         },
         "layout": {
          "annotationdefaults": {
           "arrowcolor": "#2a3f5f",
           "arrowhead": 0,
           "arrowwidth": 1
          },
          "autotypenumbers": "strict",
          "coloraxis": {
           "colorbar": {
            "outlinewidth": 0,
            "ticks": ""
           }
          },
          "colorscale": {
           "diverging": [
            [
             0,
             "#8e0152"
            ],
            [
             0.1,
             "#c51b7d"
            ],
            [
             0.2,
             "#de77ae"
            ],
            [
             0.3,
             "#f1b6da"
            ],
            [
             0.4,
             "#fde0ef"
            ],
            [
             0.5,
             "#f7f7f7"
            ],
            [
             0.6,
             "#e6f5d0"
            ],
            [
             0.7,
             "#b8e186"
            ],
            [
             0.8,
             "#7fbc41"
            ],
            [
             0.9,
             "#4d9221"
            ],
            [
             1,
             "#276419"
            ]
           ],
           "sequential": [
            [
             0,
             "#0d0887"
            ],
            [
             0.1111111111111111,
             "#46039f"
            ],
            [
             0.2222222222222222,
             "#7201a8"
            ],
            [
             0.3333333333333333,
             "#9c179e"
            ],
            [
             0.4444444444444444,
             "#bd3786"
            ],
            [
             0.5555555555555556,
             "#d8576b"
            ],
            [
             0.6666666666666666,
             "#ed7953"
            ],
            [
             0.7777777777777778,
             "#fb9f3a"
            ],
            [
             0.8888888888888888,
             "#fdca26"
            ],
            [
             1,
             "#f0f921"
            ]
           ],
           "sequentialminus": [
            [
             0,
             "#0d0887"
            ],
            [
             0.1111111111111111,
             "#46039f"
            ],
            [
             0.2222222222222222,
             "#7201a8"
            ],
            [
             0.3333333333333333,
             "#9c179e"
            ],
            [
             0.4444444444444444,
             "#bd3786"
            ],
            [
             0.5555555555555556,
             "#d8576b"
            ],
            [
             0.6666666666666666,
             "#ed7953"
            ],
            [
             0.7777777777777778,
             "#fb9f3a"
            ],
            [
             0.8888888888888888,
             "#fdca26"
            ],
            [
             1,
             "#f0f921"
            ]
           ]
          },
          "colorway": [
           "#636efa",
           "#EF553B",
           "#00cc96",
           "#ab63fa",
           "#FFA15A",
           "#19d3f3",
           "#FF6692",
           "#B6E880",
           "#FF97FF",
           "#FECB52"
          ],
          "font": {
           "color": "#2a3f5f"
          },
          "geo": {
           "bgcolor": "white",
           "lakecolor": "white",
           "landcolor": "#E5ECF6",
           "showlakes": true,
           "showland": true,
           "subunitcolor": "white"
          },
          "hoverlabel": {
           "align": "left"
          },
          "hovermode": "closest",
          "mapbox": {
           "style": "light"
          },
          "paper_bgcolor": "white",
          "plot_bgcolor": "#E5ECF6",
          "polar": {
           "angularaxis": {
            "gridcolor": "white",
            "linecolor": "white",
            "ticks": ""
           },
           "bgcolor": "#E5ECF6",
           "radialaxis": {
            "gridcolor": "white",
            "linecolor": "white",
            "ticks": ""
           }
          },
          "scene": {
           "xaxis": {
            "backgroundcolor": "#E5ECF6",
            "gridcolor": "white",
            "gridwidth": 2,
            "linecolor": "white",
            "showbackground": true,
            "ticks": "",
            "zerolinecolor": "white"
           },
           "yaxis": {
            "backgroundcolor": "#E5ECF6",
            "gridcolor": "white",
            "gridwidth": 2,
            "linecolor": "white",
            "showbackground": true,
            "ticks": "",
            "zerolinecolor": "white"
           },
           "zaxis": {
            "backgroundcolor": "#E5ECF6",
            "gridcolor": "white",
            "gridwidth": 2,
            "linecolor": "white",
            "showbackground": true,
            "ticks": "",
            "zerolinecolor": "white"
           }
          },
          "shapedefaults": {
           "line": {
            "color": "#2a3f5f"
           }
          },
          "ternary": {
           "aaxis": {
            "gridcolor": "white",
            "linecolor": "white",
            "ticks": ""
           },
           "baxis": {
            "gridcolor": "white",
            "linecolor": "white",
            "ticks": ""
           },
           "bgcolor": "#E5ECF6",
           "caxis": {
            "gridcolor": "white",
            "linecolor": "white",
            "ticks": ""
           }
          },
          "title": {
           "x": 0.05
          },
          "xaxis": {
           "automargin": true,
           "gridcolor": "white",
           "linecolor": "white",
           "ticks": "",
           "title": {
            "standoff": 15
           },
           "zerolinecolor": "white",
           "zerolinewidth": 2
          },
          "yaxis": {
           "automargin": true,
           "gridcolor": "white",
           "linecolor": "white",
           "ticks": "",
           "title": {
            "standoff": 15
           },
           "zerolinecolor": "white",
           "zerolinewidth": 2
          }
         }
        },
        "title": {
         "text": "3D UMAP Visualization - KMEANS Clustering"
        },
        "width": 900
       }
      }
     },
     "metadata": {},
     "output_type": "display_data"
    }
   ],
   "source": [
    "# Visualize clustering results in 3D\n",
    "best_clustering = 'kmeans'  # Use K-means as default\n",
    "labels = clustering_results[best_clustering]\n",
    "\n",
    "# Add cluster labels to dataframe\n",
    "df_features_clean['cluster'] = labels\n",
    "\n",
    "# 3D scatter plot with UMAP\n",
    "fig = px.scatter_3d(\n",
    "    x=X_umap[:, 0],\n",
    "    y=X_umap[:, 1],\n",
    "    z=X_umap[:, 2],\n",
    "    color=labels.astype(str),\n",
    "    title=f'3D UMAP Visualization - {best_clustering.upper()} Clustering',\n",
    "    labels={'color': 'Cluster'},\n",
    "    color_discrete_sequence=px.colors.qualitative.Set1\n",
    ")\n",
    "\n",
    "fig.update_traces(marker=dict(size=3))\n",
    "fig.update_layout(width=900, height=700)\n",
    "fig.show()"
   ]
  },
  {
   "cell_type": "markdown",
   "metadata": {},
   "source": [
    "## 7. Cluster Analysis & Interpretation"
   ]
  },
  {
   "cell_type": "code",
   "execution_count": 14,
   "metadata": {},
   "outputs": [
    {
     "name": "stdout",
     "output_type": "stream",
     "text": [
      "Cluster Characteristics (Mean Values):\n",
      "================================================================================\n",
      "\n",
      "Cluster 0 (n=81):\n",
      "----------------------------------------\n",
      "  duration_seconds              :      7.511 ± 7.524\n",
      "  file_size_mb                  :      1.504 ± 1.949\n",
      "  tempo                         :    100.716 ± 68.657\n",
      "  onset_density                 :      3.965 ± 2.796\n",
      "  spectral_centroid_mean        :   1629.700 ± 933.313\n",
      "  harmonic_ratio                :      0.729 ± 0.300\n",
      "  percussive_ratio              :      0.271 ± 0.300\n",
      "\n",
      "Cluster 1 (n=170):\n",
      "----------------------------------------\n",
      "  duration_seconds              :      2.580 ± 4.915\n",
      "  file_size_mb                  :      0.362 ± 0.660\n",
      "  tempo                         :    111.964 ± 60.186\n",
      "  onset_density                 :      5.478 ± 2.734\n",
      "  spectral_centroid_mean        :   4081.148 ± 1277.539\n",
      "  harmonic_ratio                :      0.237 ± 0.243\n",
      "  percussive_ratio              :      0.763 ± 0.243\n",
      "\n",
      "Cluster 2 (n=78):\n",
      "----------------------------------------\n",
      "  duration_seconds              :      1.958 ± 2.590\n",
      "  file_size_mb                  :      0.235 ± 0.314\n",
      "  tempo                         :     72.876 ± 70.047\n",
      "  onset_density                 :      5.842 ± 3.081\n",
      "  spectral_centroid_mean        :   1218.333 ± 950.281\n",
      "  harmonic_ratio                :      0.666 ± 0.282\n",
      "  percussive_ratio              :      0.334 ± 0.282\n",
      "\n",
      "Cluster 3 (n=27):\n",
      "----------------------------------------\n",
      "  duration_seconds              :    289.792 ± 138.067\n",
      "  file_size_mb                  :      6.981 ± 4.039\n",
      "  tempo                         :    109.163 ± 23.393\n",
      "  onset_density                 :      3.815 ± 1.479\n",
      "  spectral_centroid_mean        :   2581.812 ± 695.399\n",
      "  harmonic_ratio                :      0.733 ± 0.126\n",
      "  percussive_ratio              :      0.267 ± 0.126\n"
     ]
    }
   ],
   "source": [
    "# Analyze cluster characteristics\n",
    "feature_importance = ['duration_seconds', 'file_size_mb', 'tempo', 'onset_density',\n",
    "                     'spectral_centroid_mean', 'harmonic_ratio', 'percussive_ratio',\n",
    "                     'has_sample_keyword', 'has_stem_keyword', 'has_song_keyword',\n",
    "                     'metadata_completeness', 'silence_ratio']\n",
    "\n",
    "# Filter to available features\n",
    "available_features = [f for f in feature_importance if f in df_features_clean.columns]\n",
    "\n",
    "# Calculate cluster statistics\n",
    "cluster_stats = df_features_clean.groupby('cluster')[available_features].agg(['mean', 'std'])\n",
    "\n",
    "print(\"Cluster Characteristics (Mean Values):\")\n",
    "print(\"=\"*80)\n",
    "\n",
    "for cluster in sorted(df_features_clean['cluster'].unique()):\n",
    "    if cluster != -1:  # Skip noise cluster for DBSCAN\n",
    "        cluster_data = df_features_clean[df_features_clean['cluster'] == cluster]\n",
    "        print(f\"\\nCluster {cluster} (n={len(cluster_data)}):\")\n",
    "        print(\"-\" * 40)\n",
    "        \n",
    "        for feature in available_features[:7]:  # Show top features\n",
    "            mean_val = cluster_data[feature].mean()\n",
    "            std_val = cluster_data[feature].std()\n",
    "            print(f\"  {feature:30s}: {mean_val:10.3f} ± {std_val:.3f}\")"
   ]
  },
  {
   "cell_type": "code",
   "execution_count": 15,
   "metadata": {},
   "outputs": [
    {
     "data": {
      "application/vnd.plotly.v1+json": {
       "config": {
        "plotlyServerURL": "https://plot.ly"
       },
       "data": [
        {
         "fill": "toself",
         "name": "Cluster 0",
         "r": {
          "bdata": "6zBZlemrhz/tYvk8YHPWP2/jMkSXLtA/VYs73JDAyT/L8vSXy1fnPw==",
          "dtype": "f8"
         },
         "theta": [
          "duration_seconds",
          "tempo",
          "onset_density",
          "spectral_centroid_mean",
          "harmonic_ratio"
         ],
         "type": "scatterpolar"
        },
        {
         "fill": "toself",
         "name": "Cluster 1",
         "r": {
          "bdata": "y+morPIbcD/3M6aYQvXYP3t/qkbZWtY/CY22UhK04D+RZFPsPlzOPw==",
          "dtype": "f8"
         },
         "theta": [
          "duration_seconds",
          "tempo",
          "onset_density",
          "spectral_centroid_mean",
          "harmonic_ratio"
         ],
         "type": "scatterpolar"
        },
        {
         "fill": "toself",
         "name": "Cluster 2",
         "r": {
          "bdata": "vnSg9kJZaD+I/j3brz7QP49L1rPK1tc/a8vOoaPcwj8GUu/jt07lPw==",
          "dtype": "f8"
         },
         "theta": [
          "duration_seconds",
          "tempo",
          "onset_density",
          "spectral_centroid_mean",
          "harmonic_ratio"
         ],
         "type": "scatterpolar"
        },
        {
         "fill": "toself",
         "name": "Cluster 3",
         "r": {
          "bdata": "M9dHctqs3D8y73SpaFXYP5MtuRDYI88/P2FAz5fZ1D+UKstmXnfnPw==",
          "dtype": "f8"
         },
         "theta": [
          "duration_seconds",
          "tempo",
          "onset_density",
          "spectral_centroid_mean",
          "harmonic_ratio"
         ],
         "type": "scatterpolar"
        }
       ],
       "layout": {
        "polar": {
         "radialaxis": {
          "range": [
           0,
           1
          ],
          "visible": true
         }
        },
        "showlegend": true,
        "template": {
         "data": {
          "bar": [
           {
            "error_x": {
             "color": "#2a3f5f"
            },
            "error_y": {
             "color": "#2a3f5f"
            },
            "marker": {
             "line": {
              "color": "#E5ECF6",
              "width": 0.5
             },
             "pattern": {
              "fillmode": "overlay",
              "size": 10,
              "solidity": 0.2
             }
            },
            "type": "bar"
           }
          ],
          "barpolar": [
           {
            "marker": {
             "line": {
              "color": "#E5ECF6",
              "width": 0.5
             },
             "pattern": {
              "fillmode": "overlay",
              "size": 10,
              "solidity": 0.2
             }
            },
            "type": "barpolar"
           }
          ],
          "carpet": [
           {
            "aaxis": {
             "endlinecolor": "#2a3f5f",
             "gridcolor": "white",
             "linecolor": "white",
             "minorgridcolor": "white",
             "startlinecolor": "#2a3f5f"
            },
            "baxis": {
             "endlinecolor": "#2a3f5f",
             "gridcolor": "white",
             "linecolor": "white",
             "minorgridcolor": "white",
             "startlinecolor": "#2a3f5f"
            },
            "type": "carpet"
           }
          ],
          "choropleth": [
           {
            "colorbar": {
             "outlinewidth": 0,
             "ticks": ""
            },
            "type": "choropleth"
           }
          ],
          "contour": [
           {
            "colorbar": {
             "outlinewidth": 0,
             "ticks": ""
            },
            "colorscale": [
             [
              0,
              "#0d0887"
             ],
             [
              0.1111111111111111,
              "#46039f"
             ],
             [
              0.2222222222222222,
              "#7201a8"
             ],
             [
              0.3333333333333333,
              "#9c179e"
             ],
             [
              0.4444444444444444,
              "#bd3786"
             ],
             [
              0.5555555555555556,
              "#d8576b"
             ],
             [
              0.6666666666666666,
              "#ed7953"
             ],
             [
              0.7777777777777778,
              "#fb9f3a"
             ],
             [
              0.8888888888888888,
              "#fdca26"
             ],
             [
              1,
              "#f0f921"
             ]
            ],
            "type": "contour"
           }
          ],
          "contourcarpet": [
           {
            "colorbar": {
             "outlinewidth": 0,
             "ticks": ""
            },
            "type": "contourcarpet"
           }
          ],
          "heatmap": [
           {
            "colorbar": {
             "outlinewidth": 0,
             "ticks": ""
            },
            "colorscale": [
             [
              0,
              "#0d0887"
             ],
             [
              0.1111111111111111,
              "#46039f"
             ],
             [
              0.2222222222222222,
              "#7201a8"
             ],
             [
              0.3333333333333333,
              "#9c179e"
             ],
             [
              0.4444444444444444,
              "#bd3786"
             ],
             [
              0.5555555555555556,
              "#d8576b"
             ],
             [
              0.6666666666666666,
              "#ed7953"
             ],
             [
              0.7777777777777778,
              "#fb9f3a"
             ],
             [
              0.8888888888888888,
              "#fdca26"
             ],
             [
              1,
              "#f0f921"
             ]
            ],
            "type": "heatmap"
           }
          ],
          "histogram": [
           {
            "marker": {
             "pattern": {
              "fillmode": "overlay",
              "size": 10,
              "solidity": 0.2
             }
            },
            "type": "histogram"
           }
          ],
          "histogram2d": [
           {
            "colorbar": {
             "outlinewidth": 0,
             "ticks": ""
            },
            "colorscale": [
             [
              0,
              "#0d0887"
             ],
             [
              0.1111111111111111,
              "#46039f"
             ],
             [
              0.2222222222222222,
              "#7201a8"
             ],
             [
              0.3333333333333333,
              "#9c179e"
             ],
             [
              0.4444444444444444,
              "#bd3786"
             ],
             [
              0.5555555555555556,
              "#d8576b"
             ],
             [
              0.6666666666666666,
              "#ed7953"
             ],
             [
              0.7777777777777778,
              "#fb9f3a"
             ],
             [
              0.8888888888888888,
              "#fdca26"
             ],
             [
              1,
              "#f0f921"
             ]
            ],
            "type": "histogram2d"
           }
          ],
          "histogram2dcontour": [
           {
            "colorbar": {
             "outlinewidth": 0,
             "ticks": ""
            },
            "colorscale": [
             [
              0,
              "#0d0887"
             ],
             [
              0.1111111111111111,
              "#46039f"
             ],
             [
              0.2222222222222222,
              "#7201a8"
             ],
             [
              0.3333333333333333,
              "#9c179e"
             ],
             [
              0.4444444444444444,
              "#bd3786"
             ],
             [
              0.5555555555555556,
              "#d8576b"
             ],
             [
              0.6666666666666666,
              "#ed7953"
             ],
             [
              0.7777777777777778,
              "#fb9f3a"
             ],
             [
              0.8888888888888888,
              "#fdca26"
             ],
             [
              1,
              "#f0f921"
             ]
            ],
            "type": "histogram2dcontour"
           }
          ],
          "mesh3d": [
           {
            "colorbar": {
             "outlinewidth": 0,
             "ticks": ""
            },
            "type": "mesh3d"
           }
          ],
          "parcoords": [
           {
            "line": {
             "colorbar": {
              "outlinewidth": 0,
              "ticks": ""
             }
            },
            "type": "parcoords"
           }
          ],
          "pie": [
           {
            "automargin": true,
            "type": "pie"
           }
          ],
          "scatter": [
           {
            "fillpattern": {
             "fillmode": "overlay",
             "size": 10,
             "solidity": 0.2
            },
            "type": "scatter"
           }
          ],
          "scatter3d": [
           {
            "line": {
             "colorbar": {
              "outlinewidth": 0,
              "ticks": ""
             }
            },
            "marker": {
             "colorbar": {
              "outlinewidth": 0,
              "ticks": ""
             }
            },
            "type": "scatter3d"
           }
          ],
          "scattercarpet": [
           {
            "marker": {
             "colorbar": {
              "outlinewidth": 0,
              "ticks": ""
             }
            },
            "type": "scattercarpet"
           }
          ],
          "scattergeo": [
           {
            "marker": {
             "colorbar": {
              "outlinewidth": 0,
              "ticks": ""
             }
            },
            "type": "scattergeo"
           }
          ],
          "scattergl": [
           {
            "marker": {
             "colorbar": {
              "outlinewidth": 0,
              "ticks": ""
             }
            },
            "type": "scattergl"
           }
          ],
          "scattermap": [
           {
            "marker": {
             "colorbar": {
              "outlinewidth": 0,
              "ticks": ""
             }
            },
            "type": "scattermap"
           }
          ],
          "scattermapbox": [
           {
            "marker": {
             "colorbar": {
              "outlinewidth": 0,
              "ticks": ""
             }
            },
            "type": "scattermapbox"
           }
          ],
          "scatterpolar": [
           {
            "marker": {
             "colorbar": {
              "outlinewidth": 0,
              "ticks": ""
             }
            },
            "type": "scatterpolar"
           }
          ],
          "scatterpolargl": [
           {
            "marker": {
             "colorbar": {
              "outlinewidth": 0,
              "ticks": ""
             }
            },
            "type": "scatterpolargl"
           }
          ],
          "scatterternary": [
           {
            "marker": {
             "colorbar": {
              "outlinewidth": 0,
              "ticks": ""
             }
            },
            "type": "scatterternary"
           }
          ],
          "surface": [
           {
            "colorbar": {
             "outlinewidth": 0,
             "ticks": ""
            },
            "colorscale": [
             [
              0,
              "#0d0887"
             ],
             [
              0.1111111111111111,
              "#46039f"
             ],
             [
              0.2222222222222222,
              "#7201a8"
             ],
             [
              0.3333333333333333,
              "#9c179e"
             ],
             [
              0.4444444444444444,
              "#bd3786"
             ],
             [
              0.5555555555555556,
              "#d8576b"
             ],
             [
              0.6666666666666666,
              "#ed7953"
             ],
             [
              0.7777777777777778,
              "#fb9f3a"
             ],
             [
              0.8888888888888888,
              "#fdca26"
             ],
             [
              1,
              "#f0f921"
             ]
            ],
            "type": "surface"
           }
          ],
          "table": [
           {
            "cells": {
             "fill": {
              "color": "#EBF0F8"
             },
             "line": {
              "color": "white"
             }
            },
            "header": {
             "fill": {
              "color": "#C8D4E3"
             },
             "line": {
              "color": "white"
             }
            },
            "type": "table"
           }
          ]
         },
         "layout": {
          "annotationdefaults": {
           "arrowcolor": "#2a3f5f",
           "arrowhead": 0,
           "arrowwidth": 1
          },
          "autotypenumbers": "strict",
          "coloraxis": {
           "colorbar": {
            "outlinewidth": 0,
            "ticks": ""
           }
          },
          "colorscale": {
           "diverging": [
            [
             0,
             "#8e0152"
            ],
            [
             0.1,
             "#c51b7d"
            ],
            [
             0.2,
             "#de77ae"
            ],
            [
             0.3,
             "#f1b6da"
            ],
            [
             0.4,
             "#fde0ef"
            ],
            [
             0.5,
             "#f7f7f7"
            ],
            [
             0.6,
             "#e6f5d0"
            ],
            [
             0.7,
             "#b8e186"
            ],
            [
             0.8,
             "#7fbc41"
            ],
            [
             0.9,
             "#4d9221"
            ],
            [
             1,
             "#276419"
            ]
           ],
           "sequential": [
            [
             0,
             "#0d0887"
            ],
            [
             0.1111111111111111,
             "#46039f"
            ],
            [
             0.2222222222222222,
             "#7201a8"
            ],
            [
             0.3333333333333333,
             "#9c179e"
            ],
            [
             0.4444444444444444,
             "#bd3786"
            ],
            [
             0.5555555555555556,
             "#d8576b"
            ],
            [
             0.6666666666666666,
             "#ed7953"
            ],
            [
             0.7777777777777778,
             "#fb9f3a"
            ],
            [
             0.8888888888888888,
             "#fdca26"
            ],
            [
             1,
             "#f0f921"
            ]
           ],
           "sequentialminus": [
            [
             0,
             "#0d0887"
            ],
            [
             0.1111111111111111,
             "#46039f"
            ],
            [
             0.2222222222222222,
             "#7201a8"
            ],
            [
             0.3333333333333333,
             "#9c179e"
            ],
            [
             0.4444444444444444,
             "#bd3786"
            ],
            [
             0.5555555555555556,
             "#d8576b"
            ],
            [
             0.6666666666666666,
             "#ed7953"
            ],
            [
             0.7777777777777778,
             "#fb9f3a"
            ],
            [
             0.8888888888888888,
             "#fdca26"
            ],
            [
             1,
             "#f0f921"
            ]
           ]
          },
          "colorway": [
           "#636efa",
           "#EF553B",
           "#00cc96",
           "#ab63fa",
           "#FFA15A",
           "#19d3f3",
           "#FF6692",
           "#B6E880",
           "#FF97FF",
           "#FECB52"
          ],
          "font": {
           "color": "#2a3f5f"
          },
          "geo": {
           "bgcolor": "white",
           "lakecolor": "white",
           "landcolor": "#E5ECF6",
           "showlakes": true,
           "showland": true,
           "subunitcolor": "white"
          },
          "hoverlabel": {
           "align": "left"
          },
          "hovermode": "closest",
          "mapbox": {
           "style": "light"
          },
          "paper_bgcolor": "white",
          "plot_bgcolor": "#E5ECF6",
          "polar": {
           "angularaxis": {
            "gridcolor": "white",
            "linecolor": "white",
            "ticks": ""
           },
           "bgcolor": "#E5ECF6",
           "radialaxis": {
            "gridcolor": "white",
            "linecolor": "white",
            "ticks": ""
           }
          },
          "scene": {
           "xaxis": {
            "backgroundcolor": "#E5ECF6",
            "gridcolor": "white",
            "gridwidth": 2,
            "linecolor": "white",
            "showbackground": true,
            "ticks": "",
            "zerolinecolor": "white"
           },
           "yaxis": {
            "backgroundcolor": "#E5ECF6",
            "gridcolor": "white",
            "gridwidth": 2,
            "linecolor": "white",
            "showbackground": true,
            "ticks": "",
            "zerolinecolor": "white"
           },
           "zaxis": {
            "backgroundcolor": "#E5ECF6",
            "gridcolor": "white",
            "gridwidth": 2,
            "linecolor": "white",
            "showbackground": true,
            "ticks": "",
            "zerolinecolor": "white"
           }
          },
          "shapedefaults": {
           "line": {
            "color": "#2a3f5f"
           }
          },
          "ternary": {
           "aaxis": {
            "gridcolor": "white",
            "linecolor": "white",
            "ticks": ""
           },
           "baxis": {
            "gridcolor": "white",
            "linecolor": "white",
            "ticks": ""
           },
           "bgcolor": "#E5ECF6",
           "caxis": {
            "gridcolor": "white",
            "linecolor": "white",
            "ticks": ""
           }
          },
          "title": {
           "x": 0.05
          },
          "xaxis": {
           "automargin": true,
           "gridcolor": "white",
           "linecolor": "white",
           "ticks": "",
           "title": {
            "standoff": 15
           },
           "zerolinecolor": "white",
           "zerolinewidth": 2
          },
          "yaxis": {
           "automargin": true,
           "gridcolor": "white",
           "linecolor": "white",
           "ticks": "",
           "title": {
            "standoff": 15
           },
           "zerolinecolor": "white",
           "zerolinewidth": 2
          }
         }
        },
        "title": {
         "text": "Cluster Feature Profiles (Normalized)"
        }
       }
      }
     },
     "metadata": {},
     "output_type": "display_data"
    }
   ],
   "source": [
    "# Create radar chart for cluster comparison\n",
    "from math import pi\n",
    "\n",
    "# Select features for radar chart\n",
    "radar_features = ['duration_seconds', 'tempo', 'onset_density', \n",
    "                 'spectral_centroid_mean', 'harmonic_ratio']\n",
    "radar_features = [f for f in radar_features if f in available_features]\n",
    "\n",
    "if len(radar_features) >= 3:\n",
    "    # Normalize features for radar chart\n",
    "    df_normalized = df_features_clean[radar_features + ['cluster']].copy()\n",
    "    for feature in radar_features:\n",
    "        df_normalized[feature] = (df_normalized[feature] - df_normalized[feature].min()) / \\\n",
    "                                 (df_normalized[feature].max() - df_normalized[feature].min())\n",
    "    \n",
    "    # Calculate mean values per cluster\n",
    "    cluster_means = df_normalized.groupby('cluster')[radar_features].mean()\n",
    "    \n",
    "    # Create radar chart\n",
    "    fig = go.Figure()\n",
    "    \n",
    "    for cluster in cluster_means.index:\n",
    "        if cluster != -1:\n",
    "            fig.add_trace(go.Scatterpolar(\n",
    "                r=cluster_means.loc[cluster].values,\n",
    "                theta=radar_features,\n",
    "                fill='toself',\n",
    "                name=f'Cluster {cluster}'\n",
    "            ))\n",
    "    \n",
    "    fig.update_layout(\n",
    "        polar=dict(\n",
    "            radialaxis=dict(visible=True, range=[0, 1])\n",
    "        ),\n",
    "        showlegend=True,\n",
    "        title=\"Cluster Feature Profiles (Normalized)\"\n",
    "    )\n",
    "    fig.show()"
   ]
  },
  {
   "cell_type": "code",
   "execution_count": 16,
   "metadata": {},
   "outputs": [
    {
     "name": "stdout",
     "output_type": "stream",
     "text": [
      "Sample Files from Each Cluster:\n",
      "================================================================================\n",
      "\n",
      "Cluster 0:\n",
      "----------------------------------------\n",
      "  • VEH1 FX - 29.wav\n",
      "    Duration: 6.2s, Size: 1.04MB, Tempo: 129 BPM\n",
      "  • Sound 125.wav\n",
      "    Duration: 18.0s, Size: 4.95MB, Tempo: 152 BPM\n",
      "  • Sound 89.wav\n",
      "    Duration: 19.5s, Size: 5.37MB, Tempo: 123 BPM\n",
      "  • 10 WoodSnareBrushes 09.wav\n",
      "    Duration: 0.5s, Size: 0.07MB, Tempo: 117 BPM\n",
      "  • scream.wav\n",
      "    Duration: 0.6s, Size: 0.08MB, Tempo: 235 BPM\n",
      "\n",
      "Cluster 1:\n",
      "----------------------------------------\n",
      "  • VEH2 Closed Hihats - 044.wav\n",
      "    Duration: 0.3s, Size: 0.05MB, Tempo: 117 BPM\n",
      "  • HH6__SEPALOT_.WAV\n",
      "    Duration: 0.1s, Size: 0.03MB, Tempo: 117 BPM\n",
      "  • Shaker 12-(D&B).wav\n",
      "    Duration: 1.2s, Size: 0.10MB, Tempo: 117 BPM\n",
      "  • 0029A.WAV\n",
      "    Duration: 6.2s, Size: 0.52MB, Tempo: 161 BPM\n",
      "  • DC_Kit13_170_Fill.wav\n",
      "    Duration: 0.5s, Size: 0.08MB, Tempo: 287 BPM\n",
      "\n",
      "Cluster 2:\n",
      "----------------------------------------\n",
      "  • VEH2 Soft Kicks - 031.wav\n",
      "    Duration: 0.4s, Size: 0.07MB, Tempo: 0 BPM\n",
      "  • DBD_KICK16.wav\n",
      "    Duration: 0.2s, Size: 0.03MB, Tempo: 0 BPM\n",
      "  • VEH1 Slides - 19.wav\n",
      "    Duration: 0.5s, Size: 0.08MB, Tempo: 0 BPM\n",
      "  • VEH1 Cutted Sounds - 013.wav\n",
      "    Duration: 0.3s, Size: 0.05MB, Tempo: 0 BPM\n",
      "  • VEH2 Soft Kicks - 099.wav\n",
      "    Duration: 0.2s, Size: 0.04MB, Tempo: 0 BPM\n",
      "\n",
      "Cluster 3:\n",
      "----------------------------------------\n",
      "  • (14) [Freestylers] Push Up Word Up (AC Slater Remix).mp3\n",
      "    Duration: 219.7s, Size: 5.39MB, Tempo: 129 BPM\n",
      "  • bungle - 25th floor (marky vip).mp3\n",
      "    Duration: 421.6s, Size: 9.65MB, Tempo: 86 BPM\n",
      "  • total science - magic touch.mp3\n",
      "    Duration: 354.6s, Size: 8.12MB, Tempo: 89 BPM\n",
      "  • total science - make me feel.mp3\n",
      "    Duration: 332.7s, Size: 7.62MB, Tempo: 86 BPM\n",
      "  • 1-03 Dance Wiv Me (Shazam Remix).mp3\n",
      "    Duration: 250.5s, Size: 5.74MB, Tempo: 129 BPM\n"
     ]
    }
   ],
   "source": [
    "# Sample files from each cluster for manual inspection\n",
    "print(\"Sample Files from Each Cluster:\")\n",
    "print(\"=\"*80)\n",
    "\n",
    "for cluster in sorted(df_features_clean['cluster'].unique()):\n",
    "    if cluster != -1:\n",
    "        cluster_files = df_features_clean[df_features_clean['cluster'] == cluster]\n",
    "        print(f\"\\nCluster {cluster}:\")\n",
    "        print(\"-\" * 40)\n",
    "        \n",
    "        # Sample up to 5 files\n",
    "        samples = cluster_files.sample(n=min(5, len(cluster_files)), random_state=42)\n",
    "        \n",
    "        for _, row in samples.iterrows():\n",
    "            file_path = Path(row['file_path'])\n",
    "            print(f\"  • {file_path.name}\")\n",
    "            print(f\"    Duration: {row['duration_seconds']:.1f}s, \"\n",
    "                  f\"Size: {row['file_size_mb']:.2f}MB, \"\n",
    "                  f\"Tempo: {row['tempo']:.0f} BPM\")"
   ]
  },
  {
   "cell_type": "markdown",
   "metadata": {},
   "source": [
    "## 8. PyTorch Neural Clustering (Advanced)"
   ]
  },
  {
   "cell_type": "code",
   "execution_count": 26,
   "metadata": {},
   "outputs": [
    {
     "name": "stdout",
     "output_type": "stream",
     "text": [
      "Model initialized on cpu\n",
      "Input dimension: 99\n",
      "Encoding dimension: 16\n"
     ]
    }
   ],
   "source": [
    "# Define a simple autoencoder for feature learning\n",
    "class AudioAutoencoder(nn.Module):\n",
    "    def __init__(self, input_dim, encoding_dim=32):\n",
    "        super(AudioAutoencoder, self).__init__()\n",
    "        \n",
    "        # Encoder\n",
    "        self.encoder = nn.Sequential(\n",
    "            nn.Linear(input_dim, 128),\n",
    "            nn.ReLU(),\n",
    "            nn.Dropout(0.2),\n",
    "            nn.Linear(128, 64),\n",
    "            nn.ReLU(),\n",
    "            nn.Dropout(0.2),\n",
    "            nn.Linear(64, encoding_dim)\n",
    "        )\n",
    "        \n",
    "        # Decoder\n",
    "        self.decoder = nn.Sequential(\n",
    "            nn.Linear(encoding_dim, 64),\n",
    "            nn.ReLU(),\n",
    "            nn.Dropout(0.2),\n",
    "            nn.Linear(64, 128),\n",
    "            nn.ReLU(),\n",
    "            nn.Dropout(0.2),\n",
    "            nn.Linear(128, input_dim)\n",
    "        )\n",
    "    \n",
    "    def forward(self, x):\n",
    "        encoded = self.encoder(x)\n",
    "        decoded = self.decoder(encoded)\n",
    "        return decoded, encoded\n",
    "\n",
    "# Prepare data for PyTorch\n",
    "X_tensor = torch.FloatTensor(X_scaled)\n",
    "dataset = torch.utils.data.TensorDataset(X_tensor)\n",
    "dataloader = torch.utils.data.DataLoader(dataset, batch_size=32, shuffle=True)\n",
    "\n",
    "# Initialize model\n",
    "device = torch.device('cuda' if torch.cuda.is_available() else 'cpu')\n",
    "model = AudioAutoencoder(X_scaled.shape[1], encoding_dim=32).to(device)\n",
    "optimizer = torch.optim.Adam(model.parameters(), lr=0.001)\n",
    "criterion = nn.MSELoss()\n",
    "\n",
    "print(f\"Model initialized on {device}\")\n",
    "print(f\"Input dimension: {X_scaled.shape[1]}\")\n",
    "print(f\"Encoding dimension: 16\")"
   ]
  },
  {
   "cell_type": "code",
   "execution_count": 27,
   "metadata": {},
   "outputs": [
    {
     "name": "stdout",
     "output_type": "stream",
     "text": [
      "Epoch [10/400], Loss: 0.6390\n",
      "Epoch [20/400], Loss: 0.5420\n",
      "Epoch [30/400], Loss: 0.5230\n",
      "Epoch [40/400], Loss: 0.4806\n",
      "Epoch [50/400], Loss: 0.4554\n",
      "Epoch [60/400], Loss: 0.4509\n",
      "Epoch [70/400], Loss: 0.4381\n",
      "Epoch [80/400], Loss: 0.4482\n",
      "Epoch [90/400], Loss: 0.4433\n",
      "Epoch [100/400], Loss: 0.4160\n",
      "Epoch [110/400], Loss: 0.4067\n",
      "Epoch [120/400], Loss: 0.4263\n",
      "Epoch [130/400], Loss: 0.4009\n",
      "Epoch [140/400], Loss: 0.4046\n",
      "Epoch [150/400], Loss: 0.4146\n",
      "Epoch [160/400], Loss: 0.3945\n",
      "Epoch [170/400], Loss: 0.4006\n",
      "Epoch [180/400], Loss: 0.3863\n",
      "Epoch [190/400], Loss: 0.3790\n",
      "Epoch [200/400], Loss: 0.3718\n",
      "Epoch [210/400], Loss: 0.3678\n",
      "Epoch [220/400], Loss: 0.3707\n",
      "Epoch [230/400], Loss: 0.3613\n",
      "Epoch [240/400], Loss: 0.3507\n",
      "Epoch [250/400], Loss: 0.3664\n",
      "Epoch [260/400], Loss: 0.3568\n",
      "Epoch [270/400], Loss: 0.3609\n",
      "Epoch [280/400], Loss: 0.3626\n",
      "Epoch [290/400], Loss: 0.3533\n",
      "Epoch [300/400], Loss: 0.3486\n",
      "Epoch [310/400], Loss: 0.3612\n",
      "Epoch [320/400], Loss: 0.3619\n",
      "Epoch [330/400], Loss: 0.3591\n",
      "Epoch [340/400], Loss: 0.3510\n",
      "Epoch [350/400], Loss: 0.3449\n",
      "Epoch [360/400], Loss: 0.3529\n",
      "Epoch [370/400], Loss: 0.3618\n",
      "Epoch [380/400], Loss: 0.3544\n",
      "Epoch [390/400], Loss: 0.3378\n",
      "Epoch [400/400], Loss: 0.3415\n"
     ]
    },
    {
     "data": {
      "image/png": "[encoded data removed]",
      "text/plain": [
       "<Figure size 1000x400 with 1 Axes>"
      ]
     },
     "metadata": {},
     "output_type": "display_data"
    }
   ],
   "source": [
    "# Train autoencoder\n",
    "epochs = 400\n",
    "losses = []\n",
    "\n",
    "model.train()\n",
    "for epoch in range(epochs):\n",
    "    epoch_loss = 0\n",
    "    for batch in dataloader:\n",
    "        x = batch[0].to(device)\n",
    "        \n",
    "        # Forward pass\n",
    "        reconstructed, _ = model(x)\n",
    "        loss = criterion(reconstructed, x)\n",
    "        \n",
    "        # Backward pass\n",
    "        optimizer.zero_grad()\n",
    "        loss.backward()\n",
    "        optimizer.step()\n",
    "        \n",
    "        epoch_loss += loss.item()\n",
    "    \n",
    "    avg_loss = epoch_loss / len(dataloader)\n",
    "    losses.append(avg_loss)\n",
    "    \n",
    "    if (epoch + 1) % 10 == 0:\n",
    "        print(f\"Epoch [{epoch+1}/{epochs}], Loss: {avg_loss:.4f}\")\n",
    "\n",
    "# Plot training loss\n",
    "plt.figure(figsize=(10, 4))\n",
    "plt.plot(losses)\n",
    "plt.title('Autoencoder Training Loss')\n",
    "plt.xlabel('Epoch')\n",
    "plt.ylabel('MSE Loss')\n",
    "plt.grid(True)\n",
    "plt.show()"
   ]
  },
  {
   "cell_type": "code",
   "execution_count": 28,
   "metadata": {},
   "outputs": [
    {
     "name": "stdout",
     "output_type": "stream",
     "text": [
      "Clustering on learned features:\n",
      "  Silhouette score: 0.232\n",
      "  Cluster sizes: {0: 193, 2: 64, 3: 61, 1: 38}\n"
     ]
    },
    {
     "data": {
      "application/vnd.plotly.v1+json": {
       "config": {
        "plotlyServerURL": "https://plot.ly"
       },
       "data": [
        {
         "hovertemplate": "Cluster=1<br>x=%{x}<br>y=%{y}<extra></extra>",
         "legendgroup": "1",
         "marker": {
          "color": "rgb(228,26,28)",
          "size": 5,
          "symbol": "circle"
         },
         "mode": "markers",
         "name": "1",
         "orientation": "v",
         "showlegend": true,
         "type": "scatter",
         "x": {
          "bdata": "S5K/QY64u0EbZL5BBke7QVTLzUHRH7tBIATOQaF0vUE2MM5Bc0PVQfA7vEH4y9dB+RfOQcPfz0H7kuZBbk7NQfD4zUHV8rxBhSbKQcFyv0Hagr1BdgfSQZgX10GlYOdBVGW7QYNl2EESLcpBkNbWQRATzkHsPcBBoXzPQWZQv0EUbs1BZYrAQeS6vUFlgt1BXTfXQSskwUE=",
          "dtype": "f4"
         },
         "xaxis": "x",
         "y": {
          "bdata": "m9GDQDl0hUBd9IdAkMuGQOyQAkGwu4RAxBwCQTWihkAFPO5AwkzAQL7ehkBKLvdAz+nuQE5EFkEF1atA5pcDQfTJ8ECzQodAgUAnQc8vhEB7wYFABOjvQD5bxUDbnKtAZ6yHQHQk+UD8oSZBH93CQOy3AEF3noFAuswmQQiagUAbIARBC7uIQHzFh0BCR6pAxk/GQAPpiUA=",
          "dtype": "f4"
         },
         "yaxis": "y"
        },
        {
         "hovertemplate": "Cluster=0<br>x=%{x}<br>y=%{y}<extra></extra>",
         "legendgroup": "0",
         "marker": {
          "color": "rgb(55,126,184)",
          "size": 5,
          "symbol": "circle"
         },
         "mode": "markers",
         "name": "0",
         "orientation": "v",
         "showlegend": true,
         "type": "scatter",
         "x": {
          "bdata": "h7PgQRvH20GY6eZBouPrQYLb4UHNwc5BX6vNQeJ+1UFLKulBeD/nQTq/3EEf+t9BgAXkQePR0EEI4ddBoXfiQRDv5UHwg9ZBoQbpQcdw3EEu8c5BVc7mQYDe5kFHtNdBof7YQSZ92kFDw81Bu7LdQbKQ0UHqd+NBtg3gQfsm1EFyo+RBfRXgQQ0z60FM0+FB72LpQa0KzUHjU9dBUYbOQVwi30FJjMtBlSXgQfXA2EHTuelB4MHcQSSzy0G7UNdBNfvgQRS34EFO4uRB83PiQVH/zUGL2tBBUFToQTL20UF/ps5BFbrmQTCbzEH9I9BBcMznQXGF40H2WdlBjI/oQc5dzkEI0t9B39bZQfPw0EG2m9lBMb7SQVR+1kFT+tVBJXPjQZnRz0EMiOZB+OzLQWmOzEHRrNtB6ofhQdwey0GMSeBBIlfjQZ0r2kHSxdtB1hzPQZwP0EGcauFBxxbgQQ2b30HBh+ZB3/vWQT4I2EHwEeBBbQHaQfm520FnK+hBFcnlQSWm0EGF3upBz/DrQWD85UF2F+FBnVjfQe1Oy0FOdM5BeRXiQaSc2UH6qc9BqDnkQbMP1UE/Wt9BigrkQbC/5UFo6+VBmyvkQfYZ5kEki+VBvhLMQWOuy0EmROVB1KzjQZF4zEEqONlBx4PpQe0d5EE6XNxBBOrfQRM260G/5NJB6szlQVWV0EGHNuhBN3XVQdTh4kEuB+lBwanhQXC75UGD0OdBpDHoQUcb4UFxuddBUnvWQfF+2kG2+NZBuc3gQUrk5EHRgulBPufkQXHz0EHaWdVBIhLkQYwV20EKK+RBz53XQarx1UFoI+FBirrVQX5NzUERlN5BokfWQWJYz0FeW+dBdMrbQdFh0UEjZuJBSanrQaK+1kFSqM1BUVrmQQJN0EHQo8tBmRHWQcok1EGuTNhB9r/lQUee60G5/uNBmxHYQWuv0UEaTM5BMdjTQdgz1UGARuZBP3XeQe0k20ECo91B5LHPQf7N3kGDNuFB6urkQca+5kFWNtRBuDXlQQ==",
          "dtype": "f4"
         },
         "xaxis": "x",
         "y": {
          "bdata": "jEqIQFZpBEH5/PlAZrQHQezqpUCPQRFBQnAsQR5GFkFGtghBCISzQDUDDUF5qelALMz7QDQWMkG+O+RAFFP1QAsYwUBQ8hRBe9QAQZ60IkH4oRlBgjTpQA3KDkG28hhBl0IjQdpTwkCLpSlBiMrfQLZ0EUEuA/NAoozmQI6D4kAWvAxBQ8LOQPzeAkFXIuxAP8gHQWiiLEGNfAhBAJ0WQeUY00CbxCxBqN/cQN4iAUGEeAlBXjjNQDw3IUGKHylBek2PQJxplUBX1fVACeOoQI/TDkHqhzBBvScDQRcWCkEXYx5BBlPKQDQrK0ELbDFB1dkDQagQ5kBRKSVBhlv2QG0ML0Hhqw1BlnYaQYabGkGtEc9Aav/XQOPxDUFvwCNBuvQHQY4CG0G/dbNALOAfQf+k+0AtjhVBTMSpQOG2HEGCLwJBAGSwQAsJA0FqGuNAJREvQX+AG0HDstNAmHyyQJuayUBOHAVBjJonQUj/GkEoIIZACAoTQfb3FUFg7fJAmnnsQKVZIEGqJARBBNsCQfzCxkB9NYpAIwWEQMjBK0H7hDRBid6/QHjBHUEdQy5BvpP6QC2eF0GnqQNBxVqvQEJUw0DIxrhAFp3JQMsw+EAZM/5AeLgfQZElK0HnkwRBnwz2QPg7GkEffyZBoXHNQPZfBEEkeSJB7yujQGKlAUGnKS1B6inwQGXRL0GrKgpBKB0QQYSt7kDzWvtACxTxQA1xs0Asmw1BYHIKQVSV70AlWh5BHS0aQUgYBkFqzgxBSt7CQFqXxkAX8fdAqF8TQdw1MkH3BidBnavGQG8GyECR2MhAqPMnQXCeKEHJ45BApLPbQEeGKkEtFgBBd9MLQcW2HUElzvJACWYOQXY3MkFemA5BoB0CQXJYB0GhdyJB5bvmQPvTHUFmtiFBKt4MQREkCkEGshxBDuoGQU3mB0HNdwFBynYoQRtjLEE5Kx5BbI8mQV4ZFUHGtsxATyPWQBJrJEFJe9JAnPYnQQm68EAQDJhAyysTQcMxzUB3sR5Bf/4GQQ==",
          "dtype": "f4"
         },
         "yaxis": "y"
        },
        {
         "hovertemplate": "Cluster=3<br>x=%{x}<br>y=%{y}<extra></extra>",
         "legendgroup": "3",
         "marker": {
          "color": "rgb(77,175,74)",
          "size": 5,
          "symbol": "circle"
         },
         "mode": "markers",
         "name": "3",
         "orientation": "v",
         "showlegend": true,
         "type": "scatter",
         "x": {
          "bdata": "EFi0QbAm0kGHUNBBh43ZQeWp2EGb9btByVW6QaUc0kGqlNRBCsvUQQl4z0FHM71B+uO3QVV8zUH1BtFBsGi6Qb1TzEGbe7lB5FzRQZOUuUHtjrRBJmDNQeIPzUHHgNZBqOq2QaPjzkEu3LNBdOG5QXTi0kFv3bZB2s62QaIdzUFkQctBOwvQQdOwzkExP7pBHsfJQSTB0UG8J7ZBwmrOQbkezEFJrctBQUbTQWAIukGfG85BICq6QXumzEEfRbdBT4LSQfJ5t0H2DrdB+MbUQZUQtkHmvM1BA4q0Qf2VzEEyIMxBw660QXePzEEQbrVB5Cu2QQ==",
          "dtype": "f4"
         },
         "xaxis": "x",
         "y": {
          "bdata": "GCXmQE7X1UBP+s9AuCkAQRr6+ECTROVAEozdQNQQx0DtrPpARhPJQP6Ew0DVxNlAdYTjQCZk00DaKqdAxrXjQFOD8EBaAtdAnLu+QFJJ3ECIruRAYMfgQE6EyUBWRABB/rjeQDKLjkD3U+dAgUDZQPxi/kCd1d9Aj/zfQJxl0ECbauVAYeuqQGWJ40DYitdAWNPiQI28zkCGcN9AqGyNQCfH0kCAAMdA1ZvHQIP54UAaaOJAcHjUQK9l40B9xeNAyRXUQHeP4kA/TeRACRL8QB6H2kDCZNNA25nmQL+CxEBPIfNADGzlQOywxUAD4tlAXhDaQA==",
          "dtype": "f4"
         },
         "yaxis": "y"
        },
        {
         "hovertemplate": "Cluster=2<br>x=%{x}<br>y=%{y}<extra></extra>",
         "legendgroup": "2",
         "marker": {
          "color": "rgb(152,78,163)",
          "size": 5,
          "symbol": "circle"
         },
         "mode": "markers",
         "name": "2",
         "orientation": "v",
         "showlegend": true,
         "type": "scatter",
         "x": {
          "bdata": "kcDZQbQQ30HV0NZBplrUQQcB3EHy0tBBxCzSQdCQ1UHVsNBBsuDYQU4Wz0EiBthB1qnPQSrh10EouNBB/oHQQZeM30HF9dtBKfHSQT3Q1kHSu9dBKfDZQa4t1UGnKdVBy0bbQaQx10GT4s9BTsTNQVa92kG10NhB9tDWQZKz1EGMPOBBV0PdQWTS1EHPB9FBoGPUQekH30FHE9VBfFTaQbPy1EER79JB+P3PQayR1UFEF9xBGT/VQWBe30FBsttB1jHVQQuy0UElWddBk9PWQQ5W0EFIaNdBBQ3XQWXW10EuvtdBHMnTQcXB0UHC6dZBaPTbQdL85UFmI9pB1U/YQQ==",
          "dtype": "f4"
         },
         "xaxis": "x",
         "y": {
          "bdata": "0F2IQK45g0AhsopAARynQAn9sEAk2bdA2NP0QPKWfUDgQohA0HxYQCE1jEAYR6BA8G56QFCnU0BO4PlAxuqJQCkkokCVcohAzmGaQJDFT0BzRZVAw2mfQKkmmEAhv3dACPCYQPT6V0BbwYBAVoQ1QfaosUA7wWpAxXNMQFSDmkAzv7xARr6lQBceWEAfxapAW56tQEsLrUCz9FRAMSKsQKtGn0B5ArNAQLWUQDDKUUBCTZtAtOhbQPKUkEBwXZxADvafQDHdbUBoiIBA1RxIQG4NfkCUQ1RAX0y0QO1JXEDOkrhACLC5QNlTsEDWvXVAWUebQJ9QsUDW5qpAf6hhQA==",
          "dtype": "f4"
         },
         "yaxis": "y"
        }
       ],
       "layout": {
        "height": 600,
        "legend": {
         "title": {
          "text": "Cluster"
         },
         "tracegroupgap": 0
        },
        "template": {
         "data": {
          "bar": [
           {
            "error_x": {
             "color": "#2a3f5f"
            },
            "error_y": {
             "color": "#2a3f5f"
            },
            "marker": {
             "line": {
              "color": "#E5ECF6",
              "width": 0.5
             },
             "pattern": {
              "fillmode": "overlay",
              "size": 10,
              "solidity": 0.2
             }
            },
            "type": "bar"
           }
          ],
          "barpolar": [
           {
            "marker": {
             "line": {
              "color": "#E5ECF6",
              "width": 0.5
             },
             "pattern": {
              "fillmode": "overlay",
              "size": 10,
              "solidity": 0.2
             }
            },
            "type": "barpolar"
           }
          ],
          "carpet": [
           {
            "aaxis": {
             "endlinecolor": "#2a3f5f",
             "gridcolor": "white",
             "linecolor": "white",
             "minorgridcolor": "white",
             "startlinecolor": "#2a3f5f"
            },
            "baxis": {
             "endlinecolor": "#2a3f5f",
             "gridcolor": "white",
             "linecolor": "white",
             "minorgridcolor": "white",
             "startlinecolor": "#2a3f5f"
            },
            "type": "carpet"
           }
          ],
          "choropleth": [
           {
            "colorbar": {
             "outlinewidth": 0,
             "ticks": ""
            },
            "type": "choropleth"
           }
          ],
          "contour": [
           {
            "colorbar": {
             "outlinewidth": 0,
             "ticks": ""
            },
            "colorscale": [
             [
              0,
              "#0d0887"
             ],
             [
              0.1111111111111111,
              "#46039f"
             ],
             [
              0.2222222222222222,
              "#7201a8"
             ],
             [
              0.3333333333333333,
              "#9c179e"
             ],
             [
              0.4444444444444444,
              "#bd3786"
             ],
             [
              0.5555555555555556,
              "#d8576b"
             ],
             [
              0.6666666666666666,
              "#ed7953"
             ],
             [
              0.7777777777777778,
              "#fb9f3a"
             ],
             [
              0.8888888888888888,
              "#fdca26"
             ],
             [
              1,
              "#f0f921"
             ]
            ],
            "type": "contour"
           }
          ],
          "contourcarpet": [
           {
            "colorbar": {
             "outlinewidth": 0,
             "ticks": ""
            },
            "type": "contourcarpet"
           }
          ],
          "heatmap": [
           {
            "colorbar": {
             "outlinewidth": 0,
             "ticks": ""
            },
            "colorscale": [
             [
              0,
              "#0d0887"
             ],
             [
              0.1111111111111111,
              "#46039f"
             ],
             [
              0.2222222222222222,
              "#7201a8"
             ],
             [
              0.3333333333333333,
              "#9c179e"
             ],
             [
              0.4444444444444444,
              "#bd3786"
             ],
             [
              0.5555555555555556,
              "#d8576b"
             ],
             [
              0.6666666666666666,
              "#ed7953"
             ],
             [
              0.7777777777777778,
              "#fb9f3a"
             ],
             [
              0.8888888888888888,
              "#fdca26"
             ],
             [
              1,
              "#f0f921"
             ]
            ],
            "type": "heatmap"
           }
          ],
          "histogram": [
           {
            "marker": {
             "pattern": {
              "fillmode": "overlay",
              "size": 10,
              "solidity": 0.2
             }
            },
            "type": "histogram"
           }
          ],
          "histogram2d": [
           {
            "colorbar": {
             "outlinewidth": 0,
             "ticks": ""
            },
            "colorscale": [
             [
              0,
              "#0d0887"
             ],
             [
              0.1111111111111111,
              "#46039f"
             ],
             [
              0.2222222222222222,
              "#7201a8"
             ],
             [
              0.3333333333333333,
              "#9c179e"
             ],
             [
              0.4444444444444444,
              "#bd3786"
             ],
             [
              0.5555555555555556,
              "#d8576b"
             ],
             [
              0.6666666666666666,
              "#ed7953"
             ],
             [
              0.7777777777777778,
              "#fb9f3a"
             ],
             [
              0.8888888888888888,
              "#fdca26"
             ],
             [
              1,
              "#f0f921"
             ]
            ],
            "type": "histogram2d"
           }
          ],
          "histogram2dcontour": [
           {
            "colorbar": {
             "outlinewidth": 0,
             "ticks": ""
            },
            "colorscale": [
             [
              0,
              "#0d0887"
             ],
             [
              0.1111111111111111,
              "#46039f"
             ],
             [
              0.2222222222222222,
              "#7201a8"
             ],
             [
              0.3333333333333333,
              "#9c179e"
             ],
             [
              0.4444444444444444,
              "#bd3786"
             ],
             [
              0.5555555555555556,
              "#d8576b"
             ],
             [
              0.6666666666666666,
              "#ed7953"
             ],
             [
              0.7777777777777778,
              "#fb9f3a"
             ],
             [
              0.8888888888888888,
              "#fdca26"
             ],
             [
              1,
              "#f0f921"
             ]
            ],
            "type": "histogram2dcontour"
           }
          ],
          "mesh3d": [
           {
            "colorbar": {
             "outlinewidth": 0,
             "ticks": ""
            },
            "type": "mesh3d"
           }
          ],
          "parcoords": [
           {
            "line": {
             "colorbar": {
              "outlinewidth": 0,
              "ticks": ""
             }
            },
            "type": "parcoords"
           }
          ],
          "pie": [
           {
            "automargin": true,
            "type": "pie"
           }
          ],
          "scatter": [
           {
            "fillpattern": {
             "fillmode": "overlay",
             "size": 10,
             "solidity": 0.2
            },
            "type": "scatter"
           }
          ],
          "scatter3d": [
           {
            "line": {
             "colorbar": {
              "outlinewidth": 0,
              "ticks": ""
             }
            },
            "marker": {
             "colorbar": {
              "outlinewidth": 0,
              "ticks": ""
             }
            },
            "type": "scatter3d"
           }
          ],
          "scattercarpet": [
           {
            "marker": {
             "colorbar": {
              "outlinewidth": 0,
              "ticks": ""
             }
            },
            "type": "scattercarpet"
           }
          ],
          "scattergeo": [
           {
            "marker": {
             "colorbar": {
              "outlinewidth": 0,
              "ticks": ""
             }
            },
            "type": "scattergeo"
           }
          ],
          "scattergl": [
           {
            "marker": {
             "colorbar": {
              "outlinewidth": 0,
              "ticks": ""
             }
            },
            "type": "scattergl"
           }
          ],
          "scattermap": [
           {
            "marker": {
             "colorbar": {
              "outlinewidth": 0,
              "ticks": ""
             }
            },
            "type": "scattermap"
           }
          ],
          "scattermapbox": [
           {
            "marker": {
             "colorbar": {
              "outlinewidth": 0,
              "ticks": ""
             }
            },
            "type": "scattermapbox"
           }
          ],
          "scatterpolar": [
           {
            "marker": {
             "colorbar": {
              "outlinewidth": 0,
              "ticks": ""
             }
            },
            "type": "scatterpolar"
           }
          ],
          "scatterpolargl": [
           {
            "marker": {
             "colorbar": {
              "outlinewidth": 0,
              "ticks": ""
             }
            },
            "type": "scatterpolargl"
           }
          ],
          "scatterternary": [
           {
            "marker": {
             "colorbar": {
              "outlinewidth": 0,
              "ticks": ""
             }
            },
            "type": "scatterternary"
           }
          ],
          "surface": [
           {
            "colorbar": {
             "outlinewidth": 0,
             "ticks": ""
            },
            "colorscale": [
             [
              0,
              "#0d0887"
             ],
             [
              0.1111111111111111,
              "#46039f"
             ],
             [
              0.2222222222222222,
              "#7201a8"
             ],
             [
              0.3333333333333333,
              "#9c179e"
             ],
             [
              0.4444444444444444,
              "#bd3786"
             ],
             [
              0.5555555555555556,
              "#d8576b"
             ],
             [
              0.6666666666666666,
              "#ed7953"
             ],
             [
              0.7777777777777778,
              "#fb9f3a"
             ],
             [
              0.8888888888888888,
              "#fdca26"
             ],
             [
              1,
              "#f0f921"
             ]
            ],
            "type": "surface"
           }
          ],
          "table": [
           {
            "cells": {
             "fill": {
              "color": "#EBF0F8"
             },
             "line": {
              "color": "white"
             }
            },
            "header": {
             "fill": {
              "color": "#C8D4E3"
             },
             "line": {
              "color": "white"
             }
            },
            "type": "table"
           }
          ]
         },
         "layout": {
          "annotationdefaults": {
           "arrowcolor": "#2a3f5f",
           "arrowhead": 0,
           "arrowwidth": 1
          },
          "autotypenumbers": "strict",
          "coloraxis": {
           "colorbar": {
            "outlinewidth": 0,
            "ticks": ""
           }
          },
          "colorscale": {
           "diverging": [
            [
             0,
             "#8e0152"
            ],
            [
             0.1,
             "#c51b7d"
            ],
            [
             0.2,
             "#de77ae"
            ],
            [
             0.3,
             "#f1b6da"
            ],
            [
             0.4,
             "#fde0ef"
            ],
            [
             0.5,
             "#f7f7f7"
            ],
            [
             0.6,
             "#e6f5d0"
            ],
            [
             0.7,
             "#b8e186"
            ],
            [
             0.8,
             "#7fbc41"
            ],
            [
             0.9,
             "#4d9221"
            ],
            [
             1,
             "#276419"
            ]
           ],
           "sequential": [
            [
             0,
             "#0d0887"
            ],
            [
             0.1111111111111111,
             "#46039f"
            ],
            [
             0.2222222222222222,
             "#7201a8"
            ],
            [
             0.3333333333333333,
             "#9c179e"
            ],
            [
             0.4444444444444444,
             "#bd3786"
            ],
            [
             0.5555555555555556,
             "#d8576b"
            ],
            [
             0.6666666666666666,
             "#ed7953"
            ],
            [
             0.7777777777777778,
             "#fb9f3a"
            ],
            [
             0.8888888888888888,
             "#fdca26"
            ],
            [
             1,
             "#f0f921"
            ]
           ],
           "sequentialminus": [
            [
             0,
             "#0d0887"
            ],
            [
             0.1111111111111111,
             "#46039f"
            ],
            [
             0.2222222222222222,
             "#7201a8"
            ],
            [
             0.3333333333333333,
             "#9c179e"
            ],
            [
             0.4444444444444444,
             "#bd3786"
            ],
            [
             0.5555555555555556,
             "#d8576b"
            ],
            [
             0.6666666666666666,
             "#ed7953"
            ],
            [
             0.7777777777777778,
             "#fb9f3a"
            ],
            [
             0.8888888888888888,
             "#fdca26"
            ],
            [
             1,
             "#f0f921"
            ]
           ]
          },
          "colorway": [
           "#636efa",
           "#EF553B",
           "#00cc96",
           "#ab63fa",
           "#FFA15A",
           "#19d3f3",
           "#FF6692",
           "#B6E880",
           "#FF97FF",
           "#FECB52"
          ],
          "font": {
           "color": "#2a3f5f"
          },
          "geo": {
           "bgcolor": "white",
           "lakecolor": "white",
           "landcolor": "#E5ECF6",
           "showlakes": true,
           "showland": true,
           "subunitcolor": "white"
          },
          "hoverlabel": {
           "align": "left"
          },
          "hovermode": "closest",
          "mapbox": {
           "style": "light"
          },
          "paper_bgcolor": "white",
          "plot_bgcolor": "#E5ECF6",
          "polar": {
           "angularaxis": {
            "gridcolor": "white",
            "linecolor": "white",
            "ticks": ""
           },
           "bgcolor": "#E5ECF6",
           "radialaxis": {
            "gridcolor": "white",
            "linecolor": "white",
            "ticks": ""
           }
          },
          "scene": {
           "xaxis": {
            "backgroundcolor": "#E5ECF6",
            "gridcolor": "white",
            "gridwidth": 2,
            "linecolor": "white",
            "showbackground": true,
            "ticks": "",
            "zerolinecolor": "white"
           },
           "yaxis": {
            "backgroundcolor": "#E5ECF6",
            "gridcolor": "white",
            "gridwidth": 2,
            "linecolor": "white",
            "showbackground": true,
            "ticks": "",
            "zerolinecolor": "white"
           },
           "zaxis": {
            "backgroundcolor": "#E5ECF6",
            "gridcolor": "white",
            "gridwidth": 2,
            "linecolor": "white",
            "showbackground": true,
            "ticks": "",
            "zerolinecolor": "white"
           }
          },
          "shapedefaults": {
           "line": {
            "color": "#2a3f5f"
           }
          },
          "ternary": {
           "aaxis": {
            "gridcolor": "white",
            "linecolor": "white",
            "ticks": ""
           },
           "baxis": {
            "gridcolor": "white",
            "linecolor": "white",
            "ticks": ""
           },
           "bgcolor": "#E5ECF6",
           "caxis": {
            "gridcolor": "white",
            "linecolor": "white",
            "ticks": ""
           }
          },
          "title": {
           "x": 0.05
          },
          "xaxis": {
           "automargin": true,
           "gridcolor": "white",
           "linecolor": "white",
           "ticks": "",
           "title": {
            "standoff": 15
           },
           "zerolinecolor": "white",
           "zerolinewidth": 2
          },
          "yaxis": {
           "automargin": true,
           "gridcolor": "white",
           "linecolor": "white",
           "ticks": "",
           "title": {
            "standoff": 15
           },
           "zerolinecolor": "white",
           "zerolinewidth": 2
          }
         }
        },
        "title": {
         "text": "Clustering on Autoencoder-Learned Features"
        },
        "width": 800,
        "xaxis": {
         "anchor": "y",
         "domain": [
          0,
          1
         ],
         "title": {
          "text": "x"
         }
        },
        "yaxis": {
         "anchor": "x",
         "domain": [
          0,
          1
         ],
         "title": {
          "text": "y"
         }
        }
       }
      }
     },
     "metadata": {},
     "output_type": "display_data"
    }
   ],
   "source": [
    "# Extract learned features\n",
    "model.eval()\n",
    "with torch.no_grad():\n",
    "    X_tensor_device = X_tensor.to(device)\n",
    "    _, encoded_features = model(X_tensor_device)\n",
    "    encoded_features = encoded_features.cpu().numpy()\n",
    "\n",
    "# Cluster on learned features\n",
    "kmeans_learned = KMeans(n_clusters=optimal_k, random_state=42, n_init=10)\n",
    "labels_learned = kmeans_learned.fit_predict(encoded_features)\n",
    "\n",
    "# Evaluate\n",
    "silhouette_learned = silhouette_score(encoded_features, labels_learned)\n",
    "print(f\"Clustering on learned features:\")\n",
    "print(f\"  Silhouette score: {silhouette_learned:.3f}\")\n",
    "print(f\"  Cluster sizes: {pd.Series(labels_learned).value_counts().to_dict()}\")\n",
    "\n",
    "# Visualize learned features\n",
    "umap_learned = umap.UMAP(n_components=2, random_state=42)\n",
    "X_umap_learned = umap_learned.fit_transform(encoded_features)\n",
    "\n",
    "fig = px.scatter(\n",
    "    x=X_umap_learned[:, 0],\n",
    "    y=X_umap_learned[:, 1],\n",
    "    color=labels_learned.astype(str),\n",
    "    title='Clustering on Autoencoder-Learned Features',\n",
    "    labels={'color': 'Cluster'},\n",
    "    color_discrete_sequence=px.colors.qualitative.Set1\n",
    ")\n",
    "fig.update_traces(marker=dict(size=5))\n",
    "fig.update_layout(width=800, height=600)\n",
    "fig.show()"
   ]
  },
  {
   "cell_type": "markdown",
   "metadata": {},
   "source": [
    "## 9. Classification Rules Discovery"
   ]
  },
  {
   "cell_type": "code",
   "execution_count": 29,
   "metadata": {},
   "outputs": [
    {
     "name": "stdout",
     "output_type": "stream",
     "text": [
      "Top 15 Most Discriminative Features:\n",
      "==================================================\n",
      "zcr_mean                           : 0.3215\n",
      "chroma_mean                        : 0.2255\n",
      "signal_std                         : 0.0927\n",
      "bitrate                            : 0.0779\n",
      "onset_count                        : 0.0774\n",
      "duration_seconds                   : 0.0724\n",
      "mfcc_0_mean                        : 0.0275\n",
      "mfcc_4_mean                        : 0.0239\n",
      "spectral_centroid_mean             : 0.0220\n",
      "tempogram_ratio                    : 0.0193\n",
      "chroma_9_std                       : 0.0135\n",
      "mfcc_7_mean                        : 0.0088\n",
      "chroma_8_mean                      : 0.0088\n",
      "chroma_0_std                       : 0.0087\n",
      "file_size_mb                       : 0.0000\n"
     ]
    },
    {
     "data": {
      "application/vnd.plotly.v1+json": {
       "config": {
        "plotlyServerURL": "https://plot.ly"
       },
       "data": [
        {
         "hovertemplate": "importance=%{x}<br>feature=%{y}<extra></extra>",
         "legendgroup": "",
         "marker": {
          "color": "#636efa",
          "pattern": {
           "shape": ""
          }
         },
         "name": "",
         "orientation": "h",
         "showlegend": false,
         "textposition": "auto",
         "type": "bar",
         "x": {
          "bdata": "a9OO7tKT1D9Tfchcot3MPzUrBspFvLc/Mes5yT7zsz+nF+oZTs2zP/urzckoi7I/JP8cB9A1nD/q/f0/J4KYP5NT/StCfJY/cwFh/Um7kz+im1T8zZ+LP/20uUzRFII/qzWpNzMLgj/RwjRIx8yBPwAAAAAAAAAAAAAAAAAAAAAAAAAAAAAAAAAAAAAAAAAAAAAAAAAAAAAAAAAAAAAAAA==",
          "dtype": "f8"
         },
         "xaxis": "x",
         "y": [
          "zcr_mean",
          "chroma_mean",
          "signal_std",
          "bitrate",
          "onset_count",
          "duration_seconds",
          "mfcc_0_mean",
          "mfcc_4_mean",
          "spectral_centroid_mean",
          "tempogram_ratio",
          "chroma_9_std",
          "mfcc_7_mean",
          "chroma_8_mean",
          "chroma_0_std",
          "file_size_mb",
          "path_depth",
          "zcr_std",
          "song_keyword_count",
          "filename_length",
          "spectral_rolloff_std"
         ],
         "yaxis": "y"
        }
       ],
       "layout": {
        "barmode": "relative",
        "height": 600,
        "legend": {
         "tracegroupgap": 0
        },
        "template": {
         "data": {
          "bar": [
           {
            "error_x": {
             "color": "#2a3f5f"
            },
            "error_y": {
             "color": "#2a3f5f"
            },
            "marker": {
             "line": {
              "color": "#E5ECF6",
              "width": 0.5
             },
             "pattern": {
              "fillmode": "overlay",
              "size": 10,
              "solidity": 0.2
             }
            },
            "type": "bar"
           }
          ],
          "barpolar": [
           {
            "marker": {
             "line": {
              "color": "#E5ECF6",
              "width": 0.5
             },
             "pattern": {
              "fillmode": "overlay",
              "size": 10,
              "solidity": 0.2
             }
            },
            "type": "barpolar"
           }
          ],
          "carpet": [
           {
            "aaxis": {
             "endlinecolor": "#2a3f5f",
             "gridcolor": "white",
             "linecolor": "white",
             "minorgridcolor": "white",
             "startlinecolor": "#2a3f5f"
            },
            "baxis": {
             "endlinecolor": "#2a3f5f",
             "gridcolor": "white",
             "linecolor": "white",
             "minorgridcolor": "white",
             "startlinecolor": "#2a3f5f"
            },
            "type": "carpet"
           }
          ],
          "choropleth": [
           {
            "colorbar": {
             "outlinewidth": 0,
             "ticks": ""
            },
            "type": "choropleth"
           }
          ],
          "contour": [
           {
            "colorbar": {
             "outlinewidth": 0,
             "ticks": ""
            },
            "colorscale": [
             [
              0,
              "#0d0887"
             ],
             [
              0.1111111111111111,
              "#46039f"
             ],
             [
              0.2222222222222222,
              "#7201a8"
             ],
             [
              0.3333333333333333,
              "#9c179e"
             ],
             [
              0.4444444444444444,
              "#bd3786"
             ],
             [
              0.5555555555555556,
              "#d8576b"
             ],
             [
              0.6666666666666666,
              "#ed7953"
             ],
             [
              0.7777777777777778,
              "#fb9f3a"
             ],
             [
              0.8888888888888888,
              "#fdca26"
             ],
             [
              1,
              "#f0f921"
             ]
            ],
            "type": "contour"
           }
          ],
          "contourcarpet": [
           {
            "colorbar": {
             "outlinewidth": 0,
             "ticks": ""
            },
            "type": "contourcarpet"
           }
          ],
          "heatmap": [
           {
            "colorbar": {
             "outlinewidth": 0,
             "ticks": ""
            },
            "colorscale": [
             [
              0,
              "#0d0887"
             ],
             [
              0.1111111111111111,
              "#46039f"
             ],
             [
              0.2222222222222222,
              "#7201a8"
             ],
             [
              0.3333333333333333,
              "#9c179e"
             ],
             [
              0.4444444444444444,
              "#bd3786"
             ],
             [
              0.5555555555555556,
              "#d8576b"
             ],
             [
              0.6666666666666666,
              "#ed7953"
             ],
             [
              0.7777777777777778,
              "#fb9f3a"
             ],
             [
              0.8888888888888888,
              "#fdca26"
             ],
             [
              1,
              "#f0f921"
             ]
            ],
            "type": "heatmap"
           }
          ],
          "histogram": [
           {
            "marker": {
             "pattern": {
              "fillmode": "overlay",
              "size": 10,
              "solidity": 0.2
             }
            },
            "type": "histogram"
           }
          ],
          "histogram2d": [
           {
            "colorbar": {
             "outlinewidth": 0,
             "ticks": ""
            },
            "colorscale": [
             [
              0,
              "#0d0887"
             ],
             [
              0.1111111111111111,
              "#46039f"
             ],
             [
              0.2222222222222222,
              "#7201a8"
             ],
             [
              0.3333333333333333,
              "#9c179e"
             ],
             [
              0.4444444444444444,
              "#bd3786"
             ],
             [
              0.5555555555555556,
              "#d8576b"
             ],
             [
              0.6666666666666666,
              "#ed7953"
             ],
             [
              0.7777777777777778,
              "#fb9f3a"
             ],
             [
              0.8888888888888888,
              "#fdca26"
             ],
             [
              1,
              "#f0f921"
             ]
            ],
            "type": "histogram2d"
           }
          ],
          "histogram2dcontour": [
           {
            "colorbar": {
             "outlinewidth": 0,
             "ticks": ""
            },
            "colorscale": [
             [
              0,
              "#0d0887"
             ],
             [
              0.1111111111111111,
              "#46039f"
             ],
             [
              0.2222222222222222,
              "#7201a8"
             ],
             [
              0.3333333333333333,
              "#9c179e"
             ],
             [
              0.4444444444444444,
              "#bd3786"
             ],
             [
              0.5555555555555556,
              "#d8576b"
             ],
             [
              0.6666666666666666,
              "#ed7953"
             ],
             [
              0.7777777777777778,
              "#fb9f3a"
             ],
             [
              0.8888888888888888,
              "#fdca26"
             ],
             [
              1,
              "#f0f921"
             ]
            ],
            "type": "histogram2dcontour"
           }
          ],
          "mesh3d": [
           {
            "colorbar": {
             "outlinewidth": 0,
             "ticks": ""
            },
            "type": "mesh3d"
           }
          ],
          "parcoords": [
           {
            "line": {
             "colorbar": {
              "outlinewidth": 0,
              "ticks": ""
             }
            },
            "type": "parcoords"
           }
          ],
          "pie": [
           {
            "automargin": true,
            "type": "pie"
           }
          ],
          "scatter": [
           {
            "fillpattern": {
             "fillmode": "overlay",
             "size": 10,
             "solidity": 0.2
            },
            "type": "scatter"
           }
          ],
          "scatter3d": [
           {
            "line": {
             "colorbar": {
              "outlinewidth": 0,
              "ticks": ""
             }
            },
            "marker": {
             "colorbar": {
              "outlinewidth": 0,
              "ticks": ""
             }
            },
            "type": "scatter3d"
           }
          ],
          "scattercarpet": [
           {
            "marker": {
             "colorbar": {
              "outlinewidth": 0,
              "ticks": ""
             }
            },
            "type": "scattercarpet"
           }
          ],
          "scattergeo": [
           {
            "marker": {
             "colorbar": {
              "outlinewidth": 0,
              "ticks": ""
             }
            },
            "type": "scattergeo"
           }
          ],
          "scattergl": [
           {
            "marker": {
             "colorbar": {
              "outlinewidth": 0,
              "ticks": ""
             }
            },
            "type": "scattergl"
           }
          ],
          "scattermap": [
           {
            "marker": {
             "colorbar": {
              "outlinewidth": 0,
              "ticks": ""
             }
            },
            "type": "scattermap"
           }
          ],
          "scattermapbox": [
           {
            "marker": {
             "colorbar": {
              "outlinewidth": 0,
              "ticks": ""
             }
            },
            "type": "scattermapbox"
           }
          ],
          "scatterpolar": [
           {
            "marker": {
             "colorbar": {
              "outlinewidth": 0,
              "ticks": ""
             }
            },
            "type": "scatterpolar"
           }
          ],
          "scatterpolargl": [
           {
            "marker": {
             "colorbar": {
              "outlinewidth": 0,
              "ticks": ""
             }
            },
            "type": "scatterpolargl"
           }
          ],
          "scatterternary": [
           {
            "marker": {
             "colorbar": {
              "outlinewidth": 0,
              "ticks": ""
             }
            },
            "type": "scatterternary"
           }
          ],
          "surface": [
           {
            "colorbar": {
             "outlinewidth": 0,
             "ticks": ""
            },
            "colorscale": [
             [
              0,
              "#0d0887"
             ],
             [
              0.1111111111111111,
              "#46039f"
             ],
             [
              0.2222222222222222,
              "#7201a8"
             ],
             [
              0.3333333333333333,
              "#9c179e"
             ],
             [
              0.4444444444444444,
              "#bd3786"
             ],
             [
              0.5555555555555556,
              "#d8576b"
             ],
             [
              0.6666666666666666,
              "#ed7953"
             ],
             [
              0.7777777777777778,
              "#fb9f3a"
             ],
             [
              0.8888888888888888,
              "#fdca26"
             ],
             [
              1,
              "#f0f921"
             ]
            ],
            "type": "surface"
           }
          ],
          "table": [
           {
            "cells": {
             "fill": {
              "color": "#EBF0F8"
             },
             "line": {
              "color": "white"
             }
            },
            "header": {
             "fill": {
              "color": "#C8D4E3"
             },
             "line": {
              "color": "white"
             }
            },
            "type": "table"
           }
          ]
         },
         "layout": {
          "annotationdefaults": {
           "arrowcolor": "#2a3f5f",
           "arrowhead": 0,
           "arrowwidth": 1
          },
          "autotypenumbers": "strict",
          "coloraxis": {
           "colorbar": {
            "outlinewidth": 0,
            "ticks": ""
           }
          },
          "colorscale": {
           "diverging": [
            [
             0,
             "#8e0152"
            ],
            [
             0.1,
             "#c51b7d"
            ],
            [
             0.2,
             "#de77ae"
            ],
            [
             0.3,
             "#f1b6da"
            ],
            [
             0.4,
             "#fde0ef"
            ],
            [
             0.5,
             "#f7f7f7"
            ],
            [
             0.6,
             "#e6f5d0"
            ],
            [
             0.7,
             "#b8e186"
            ],
            [
             0.8,
             "#7fbc41"
            ],
            [
             0.9,
             "#4d9221"
            ],
            [
             1,
             "#276419"
            ]
           ],
           "sequential": [
            [
             0,
             "#0d0887"
            ],
            [
             0.1111111111111111,
             "#46039f"
            ],
            [
             0.2222222222222222,
             "#7201a8"
            ],
            [
             0.3333333333333333,
             "#9c179e"
            ],
            [
             0.4444444444444444,
             "#bd3786"
            ],
            [
             0.5555555555555556,
             "#d8576b"
            ],
            [
             0.6666666666666666,
             "#ed7953"
            ],
            [
             0.7777777777777778,
             "#fb9f3a"
            ],
            [
             0.8888888888888888,
             "#fdca26"
            ],
            [
             1,
             "#f0f921"
            ]
           ],
           "sequentialminus": [
            [
             0,
             "#0d0887"
            ],
            [
             0.1111111111111111,
             "#46039f"
            ],
            [
             0.2222222222222222,
             "#7201a8"
            ],
            [
             0.3333333333333333,
             "#9c179e"
            ],
            [
             0.4444444444444444,
             "#bd3786"
            ],
            [
             0.5555555555555556,
             "#d8576b"
            ],
            [
             0.6666666666666666,
             "#ed7953"
            ],
            [
             0.7777777777777778,
             "#fb9f3a"
            ],
            [
             0.8888888888888888,
             "#fdca26"
            ],
            [
             1,
             "#f0f921"
            ]
           ]
          },
          "colorway": [
           "#636efa",
           "#EF553B",
           "#00cc96",
           "#ab63fa",
           "#FFA15A",
           "#19d3f3",
           "#FF6692",
           "#B6E880",
           "#FF97FF",
           "#FECB52"
          ],
          "font": {
           "color": "#2a3f5f"
          },
          "geo": {
           "bgcolor": "white",
           "lakecolor": "white",
           "landcolor": "#E5ECF6",
           "showlakes": true,
           "showland": true,
           "subunitcolor": "white"
          },
          "hoverlabel": {
           "align": "left"
          },
          "hovermode": "closest",
          "mapbox": {
           "style": "light"
          },
          "paper_bgcolor": "white",
          "plot_bgcolor": "#E5ECF6",
          "polar": {
           "angularaxis": {
            "gridcolor": "white",
            "linecolor": "white",
            "ticks": ""
           },
           "bgcolor": "#E5ECF6",
           "radialaxis": {
            "gridcolor": "white",
            "linecolor": "white",
            "ticks": ""
           }
          },
          "scene": {
           "xaxis": {
            "backgroundcolor": "#E5ECF6",
            "gridcolor": "white",
            "gridwidth": 2,
            "linecolor": "white",
            "showbackground": true,
            "ticks": "",
            "zerolinecolor": "white"
           },
           "yaxis": {
            "backgroundcolor": "#E5ECF6",
            "gridcolor": "white",
            "gridwidth": 2,
            "linecolor": "white",
            "showbackground": true,
            "ticks": "",
            "zerolinecolor": "white"
           },
           "zaxis": {
            "backgroundcolor": "#E5ECF6",
            "gridcolor": "white",
            "gridwidth": 2,
            "linecolor": "white",
            "showbackground": true,
            "ticks": "",
            "zerolinecolor": "white"
           }
          },
          "shapedefaults": {
           "line": {
            "color": "#2a3f5f"
           }
          },
          "ternary": {
           "aaxis": {
            "gridcolor": "white",
            "linecolor": "white",
            "ticks": ""
           },
           "baxis": {
            "gridcolor": "white",
            "linecolor": "white",
            "ticks": ""
           },
           "bgcolor": "#E5ECF6",
           "caxis": {
            "gridcolor": "white",
            "linecolor": "white",
            "ticks": ""
           }
          },
          "title": {
           "x": 0.05
          },
          "xaxis": {
           "automargin": true,
           "gridcolor": "white",
           "linecolor": "white",
           "ticks": "",
           "title": {
            "standoff": 15
           },
           "zerolinecolor": "white",
           "zerolinewidth": 2
          },
          "yaxis": {
           "automargin": true,
           "gridcolor": "white",
           "linecolor": "white",
           "ticks": "",
           "title": {
            "standoff": 15
           },
           "zerolinecolor": "white",
           "zerolinewidth": 2
          }
         }
        },
        "title": {
         "text": "Feature Importance for Cluster Discrimination"
        },
        "xaxis": {
         "anchor": "y",
         "domain": [
          0,
          1
         ],
         "title": {
          "text": "importance"
         }
        },
        "yaxis": {
         "anchor": "x",
         "categoryorder": "total ascending",
         "domain": [
          0,
          1
         ],
         "title": {
          "text": "feature"
         }
        }
       }
      }
     },
     "metadata": {},
     "output_type": "display_data"
    }
   ],
   "source": [
    "# Analyze what distinguishes clusters\n",
    "def analyze_cluster_boundaries(df, cluster_col='cluster'):\n",
    "    \"\"\"Find the most discriminative features between clusters\"\"\"\n",
    "    \n",
    "    from sklearn.tree import DecisionTreeClassifier\n",
    "    from sklearn.inspection import permutation_importance\n",
    "    \n",
    "    # Prepare data\n",
    "    feature_cols = [col for col in numeric_cols if col in df.columns]\n",
    "    X = df[feature_cols].fillna(0).values\n",
    "    y = df[cluster_col].values\n",
    "    \n",
    "    # Train decision tree to find rules\n",
    "    dt = DecisionTreeClassifier(max_depth=5, random_state=42)\n",
    "    dt.fit(X, y)\n",
    "    \n",
    "    # Get feature importance\n",
    "    importance = pd.DataFrame({\n",
    "        'feature': feature_cols,\n",
    "        'importance': dt.feature_importances_\n",
    "    }).sort_values('importance', ascending=False)\n",
    "    \n",
    "    return importance, dt\n",
    "\n",
    "importance, dt = analyze_cluster_boundaries(df_features_clean)\n",
    "\n",
    "# Display top discriminative features\n",
    "print(\"Top 15 Most Discriminative Features:\")\n",
    "print(\"=\"*50)\n",
    "for _, row in importance.head(15).iterrows():\n",
    "    print(f\"{row['feature']:35s}: {row['importance']:.4f}\")\n",
    "\n",
    "# Visualize feature importance\n",
    "fig = px.bar(importance.head(20), x='importance', y='feature', orientation='h',\n",
    "             title='Feature Importance for Cluster Discrimination')\n",
    "fig.update_layout(height=600, yaxis={'categoryorder':'total ascending'})\n",
    "fig.show()"
   ]
  },
  {
   "cell_type": "code",
   "execution_count": 30,
   "metadata": {},
   "outputs": [
    {
     "name": "stdout",
     "output_type": "stream",
     "text": [
      "\n",
      "Proposed Classification Rules:\n",
      "================================================================================\n",
      "\n",
      "Cluster 0 → SAMPLE (n=81)\n",
      "  Average duration: 7.5 seconds\n",
      "  Average size: 1.50 MB\n",
      "  Has sample keywords: 35.8%\n",
      "  Has stem keywords: 6.2%\n",
      "  Has song keywords: 0.0%\n",
      "\n",
      "Cluster 1 → SAMPLE (n=170)\n",
      "  Average duration: 2.6 seconds\n",
      "  Average size: 0.36 MB\n",
      "  Has sample keywords: 47.1%\n",
      "  Has stem keywords: 0.6%\n",
      "  Has song keywords: 0.6%\n",
      "\n",
      "Cluster 2 → SAMPLE (n=78)\n",
      "  Average duration: 2.0 seconds\n",
      "  Average size: 0.23 MB\n",
      "  Has sample keywords: 53.8%\n",
      "  Has stem keywords: 16.7%\n",
      "  Has song keywords: 0.0%\n",
      "\n",
      "Cluster 3 → SONG (n=27)\n",
      "  Average duration: 289.8 seconds\n",
      "  Average size: 6.98 MB\n",
      "  Has sample keywords: 7.4%\n",
      "  Has stem keywords: 0.0%\n",
      "  Has song keywords: 18.5%\n"
     ]
    }
   ],
   "source": [
    "# Generate classification rules based on cluster analysis\n",
    "def generate_classification_rules(df, cluster_labels):\n",
    "    \"\"\"Generate simple rules for classification based on cluster characteristics\"\"\"\n",
    "    \n",
    "    rules = {}\n",
    "    \n",
    "    for cluster in sorted(df['cluster'].unique()):\n",
    "        if cluster != -1:\n",
    "            cluster_data = df[df['cluster'] == cluster]\n",
    "            \n",
    "            # Calculate key statistics\n",
    "            avg_duration = cluster_data['duration_seconds'].mean()\n",
    "            avg_size = cluster_data['file_size_mb'].mean()\n",
    "            avg_tempo = cluster_data['tempo'].mean()\n",
    "            avg_onset_density = cluster_data['onset_density'].mean()\n",
    "            \n",
    "            # Keyword prevalence\n",
    "            sample_keyword_pct = cluster_data['has_sample_keyword'].mean() * 100\n",
    "            stem_keyword_pct = cluster_data['has_stem_keyword'].mean() * 100\n",
    "            song_keyword_pct = cluster_data['has_song_keyword'].mean() * 100\n",
    "            \n",
    "            # Determine likely type based on characteristics\n",
    "            if avg_duration < 30 and avg_size < 5:\n",
    "                likely_type = \"SAMPLE\"\n",
    "            elif avg_duration > 120 and avg_size > 5:\n",
    "                likely_type = \"SONG\"\n",
    "            elif stem_keyword_pct > 30 or (avg_duration > 60 and avg_duration < 300):\n",
    "                likely_type = \"STEM\"\n",
    "            else:\n",
    "                likely_type = \"UNKNOWN\"\n",
    "            \n",
    "            rules[cluster] = {\n",
    "                'likely_type': likely_type,\n",
    "                'avg_duration': avg_duration,\n",
    "                'avg_size': avg_size,\n",
    "                'sample_keyword_pct': sample_keyword_pct,\n",
    "                'stem_keyword_pct': stem_keyword_pct,\n",
    "                'song_keyword_pct': song_keyword_pct,\n",
    "                'count': len(cluster_data)\n",
    "            }\n",
    "    \n",
    "    return rules\n",
    "\n",
    "classification_rules = generate_classification_rules(df_features_clean, labels)\n",
    "\n",
    "print(\"\\nProposed Classification Rules:\")\n",
    "print(\"=\"*80)\n",
    "for cluster, rule in classification_rules.items():\n",
    "    print(f\"\\nCluster {cluster} → {rule['likely_type']} (n={rule['count']})\")\n",
    "    print(f\"  Average duration: {rule['avg_duration']:.1f} seconds\")\n",
    "    print(f\"  Average size: {rule['avg_size']:.2f} MB\")\n",
    "    print(f\"  Has sample keywords: {rule['sample_keyword_pct']:.1f}%\")\n",
    "    print(f\"  Has stem keywords: {rule['stem_keyword_pct']:.1f}%\")\n",
    "    print(f\"  Has song keywords: {rule['song_keyword_pct']:.1f}%\")"
   ]
  },
  {
   "cell_type": "markdown",
   "metadata": {},
   "source": [
    "## 10. Export Results & Recommendations"
   ]
  },
  {
   "cell_type": "code",
   "execution_count": 31,
   "metadata": {},
   "outputs": [
    {
     "name": "stdout",
     "output_type": "stream",
     "text": [
      "Saved features to eda_results\\features_with_clusters.csv\n",
      "Saved cluster statistics to eda_results\\cluster_statistics.csv\n",
      "Saved feature importance to eda_results\\feature_importance.csv\n",
      "Saved autoencoder model to eda_results\\autoencoder.pth\n"
     ]
    }
   ],
   "source": [
    "# Save results\n",
    "output_dir = Path('eda_results')\n",
    "output_dir.mkdir(exist_ok=True)\n",
    "\n",
    "# Save feature matrix with clusters\n",
    "df_features_clean.to_csv(output_dir / 'features_with_clusters.csv', index=False)\n",
    "print(f\"Saved features to {output_dir / 'features_with_clusters.csv'}\")\n",
    "\n",
    "# Save cluster statistics\n",
    "cluster_stats_df = pd.DataFrame(classification_rules).T\n",
    "cluster_stats_df.to_csv(output_dir / 'cluster_statistics.csv')\n",
    "print(f\"Saved cluster statistics to {output_dir / 'cluster_statistics.csv'}\")\n",
    "\n",
    "# Save feature importance\n",
    "importance.to_csv(output_dir / 'feature_importance.csv', index=False)\n",
    "print(f\"Saved feature importance to {output_dir / 'feature_importance.csv'}\")\n",
    "\n",
    "# Save trained models\n",
    "torch.save(model.state_dict(), output_dir / 'autoencoder.pth')\n",
    "print(f\"Saved autoencoder model to {output_dir / 'autoencoder.pth'}\")"
   ]
  },
  {
   "cell_type": "code",
   "execution_count": 32,
   "metadata": {},
   "outputs": [
    {
     "name": "stdout",
     "output_type": "stream",
     "text": [
      "\n",
      "================================================================================\n",
      "CLASSIFICATION SYSTEM RECOMMENDATIONS\n",
      "================================================================================\n",
      "\n",
      "1. PRIMARY CLASSIFICATION FEATURES (by importance):\n",
      "    1. zcr_mean (importance: 0.322)\n",
      "    2. chroma_mean (importance: 0.226)\n",
      "    3. signal_std (importance: 0.093)\n",
      "    4. bitrate (importance: 0.078)\n",
      "    5. onset_count (importance: 0.077)\n",
      "    6. duration_seconds (importance: 0.072)\n",
      "    7. mfcc_0_mean (importance: 0.028)\n",
      "    8. mfcc_4_mean (importance: 0.024)\n",
      "    9. spectral_centroid_mean (importance: 0.022)\n",
      "   10. tempogram_ratio (importance: 0.019)\n",
      "\n",
      "2. SUGGESTED CLASSIFICATION THRESHOLDS:\n",
      "   • SAMPLES: duration < 30s AND file_size < 5MB\n",
      "   • SONGS: duration > 120s AND file_size > 5MB\n",
      "   • STEMS: 30s < duration < 300s OR has_stem_keyword\n",
      "\n",
      "3. CLUSTERING INSIGHTS:\n",
      "   • Optimal number of clusters: 4\n",
      "   • Best clustering method: K-Means\n",
      "   • Silhouette score: 0.196\n",
      "\n",
      "4. NEXT STEPS:\n",
      "   • Manually verify cluster labels with sample files\n",
      "   • Implement rule-based classifier using discovered thresholds\n",
      "   • Train supervised model using verified labels\n",
      "   • Consider ensemble approach combining rules and ML\n",
      "\n",
      "================================================================================\n"
     ]
    }
   ],
   "source": [
    "# Generate final recommendations\n",
    "print(\"\\n\" + \"=\"*80)\n",
    "print(\"CLASSIFICATION SYSTEM RECOMMENDATIONS\")\n",
    "print(\"=\"*80)\n",
    "\n",
    "print(\"\\n1. PRIMARY CLASSIFICATION FEATURES (by importance):\")\n",
    "for i, (_, row) in enumerate(importance.head(10).iterrows(), 1):\n",
    "    print(f\"   {i:2d}. {row['feature']} (importance: {row['importance']:.3f})\")\n",
    "\n",
    "print(\"\\n2. SUGGESTED CLASSIFICATION THRESHOLDS:\")\n",
    "print(\"   • SAMPLES: duration < 30s AND file_size < 5MB\")\n",
    "print(\"   • SONGS: duration > 120s AND file_size > 5MB\")\n",
    "print(\"   • STEMS: 30s < duration < 300s OR has_stem_keyword\")\n",
    "\n",
    "print(\"\\n3. CLUSTERING INSIGHTS:\")\n",
    "print(f\"   • Optimal number of clusters: {optimal_k}\")\n",
    "print(f\"   • Best clustering method: K-Means\")\n",
    "print(f\"   • Silhouette score: {silhouette_scores[optimal_k-2]:.3f}\")\n",
    "\n",
    "print(\"\\n4. NEXT STEPS:\")\n",
    "print(\"   • Manually verify cluster labels with sample files\")\n",
    "print(\"   • Implement rule-based classifier using discovered thresholds\")\n",
    "print(\"   • Train supervised model using verified labels\")\n",
    "print(\"   • Consider ensemble approach combining rules and ML\")\n",
    "\n",
    "print(\"\\n\" + \"=\"*80)"
   ]
  }
 ],
 "metadata": {
  "kernelspec": {
   "display_name": ".venv",
   "language": "python",
   "name": "python3"
  },
  "language_info": {
   "codemirror_mode": {
    "name": "ipython",
    "version": 3
   },
   "file_extension": ".py",
   "mimetype": "text/x-python",
   "name": "python",
   "nbconvert_exporter": "python",
   "pygments_lexer": "ipython3",
   "version": "3.11.11"
  }
 },
 "nbformat": 4,
 "nbformat_minor": 4
}
